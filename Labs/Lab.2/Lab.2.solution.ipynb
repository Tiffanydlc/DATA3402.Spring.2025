{
 "cells": [
  {
   "cell_type": "markdown",
   "metadata": {},
   "source": [
    "## Lab 2- Tic Tac Toe\n",
    "\n",
    "In this lab your will build a n x n Tic Tac Toe game. As you do the exercises, make sure your solutions work for any size Tic Tac Toe game. "
   ]
  },
  {
   "cell_type": "markdown",
   "metadata": {},
   "source": [
    "*Exercise 1:* Write a function that creates an n by n matrix (of list of lists) which will represent the state of a Tie Tac Toe game. Let 0, 1, and 2 represent empty, \"X\", and \"O\", respectively.\n"
   ]
  },
  {
   "cell_type": "code",
   "execution_count": null,
   "metadata": {
    "collapsed": true,
    "jupyter": {
     "outputs_hidden": true
    }
   },
   "outputs": [],
   "source": [
    "def tictactoe_board(n):\n",
    "    board = [[0 for _ in range(n)] for _ in range(n)]\n",
    "    return board"
   ]
  },
  {
   "cell_type": "code",
   "execution_count": null,
   "metadata": {
    "collapsed": true,
    "jupyter": {
     "outputs_hidden": true
    }
   },
   "outputs": [],
   "source": [
    "board = tictactoe_board(3)\n",
    "print(board)"
   ]
  },
  {
   "cell_type": "markdown",
   "metadata": {},
   "source": [
    "*Exercise 2:* Write a function that takes 2 integers `n` and `m` as input and draws a `n` by `m` game board. For example the following is a 3x3 board:\n",
    "```\n",
    "   --- --- --- \n",
    "  |   |   |   | \n",
    "   --- --- ---  \n",
    "  |   |   |   | \n",
    "   --- --- ---  \n",
    "  |   |   |   | \n",
    "   --- --- --- \n",
    "   ```"
   ]
  },
  {
   "cell_type": "code",
   "execution_count": null,
   "metadata": {
    "collapsed": true,
    "jupyter": {
     "outputs_hidden": true
    }
   },
   "outputs": [],
   "source": [
    "def draw_board(n,m):\n",
    "  for i in range(n):\n",
    "    print(\" ---\" * m)  \n",
    "    print(\"|   \" * (m + 1)) \n",
    "\n",
    "  print(\" ---\" * m)"
   ]
  },
  {
   "cell_type": "code",
   "execution_count": null,
   "metadata": {
    "collapsed": true,
    "jupyter": {
     "outputs_hidden": true
    }
   },
   "outputs": [],
   "source": [
    "draw_board(3,3)"
   ]
  },
  {
   "cell_type": "markdown",
   "metadata": {},
   "source": [
    "*Exercise 3:* Modify exercise 2, so that it takes a matrix of the form from exercise 1 and draws a tic-tac-tie board with \"X\"s and \"O\"s.  "
   ]
  },
  {
   "cell_type": "code",
   "execution_count": null,
   "metadata": {
    "collapsed": true,
    "jupyter": {
     "outputs_hidden": true
    }
   },
   "outputs": [],
   "source": [
    "def draw_board(board):\n",
    "    n=len(board)  \n",
    "\n",
    "    for i in range(n):\n",
    "        print(\" ---\" * n) \n",
    "        row_str = \"|\"\n",
    "        for j in range(n):\n",
    "          if board[i][j] == 0:\n",
    "            row_str += \"   |\"\n",
    "          elif board[i][j] == 1:\n",
    "            row_str += \" X |\"\n",
    "          elif board[i][j] == 2:\n",
    "            row_str += \" O |\"\n",
    "        print(row_str)\n",
    "    print(\" ---\" * n) "
   ]
  },
  {
   "cell_type": "code",
   "execution_count": null,
   "metadata": {
    "collapsed": true,
    "jupyter": {
     "outputs_hidden": true
    }
   },
   "outputs": [],
   "source": [
    "board = [[0, 1, 2],\n",
    "         [1, 0, 1],\n",
    "         [2, 1, 0]]\n",
    "draw_board(board)"
   ]
  },
  {
   "cell_type": "markdown",
   "metadata": {},
   "source": [
    "*Exercise 4:* Write a function that takes a `n` by `n` matrix representing a tic-tac-toe game, and returns -1, 0, 1, or 2 indicating the game is incomplete, the game is a draw, player 1 has won, or player 2 has one, respectively. Here are some example inputs you can use to test your code:"
   ]
  },
  {
   "cell_type": "code",
   "execution_count": null,
   "metadata": {
    "collapsed": true,
    "jupyter": {
     "outputs_hidden": true
    }
   },
   "outputs": [],
   "source": [
    " def check_tic_tac_toe_winner(board):\n",
    "    n=len(board)\n",
    "     \n",
    "    for i in range(n):\n",
    "        if all(board[i][j]==1 for j in range(n)):\n",
    "            return 1\n",
    "        if all(board[i][j]==2 for j in range(n)):\n",
    "            return 2\n",
    "        if all(board[j][i]==1 for j in range(n)):\n",
    "            return 1\n",
    "        if all(board[j][i]==2 for j in range(n)):\n",
    "            return 2\n",
    "\n",
    "    if all(board[i][i] == 1 for i in range(n)):\n",
    "        return 1\n",
    "    if all(board[i][i] == 2 for i in range(n)): \n",
    "        return 2\n",
    "    if all(board[i][n - 1 - i]==1 for i in range(n)):  \n",
    "        return 1\n",
    "    if all(board[i][n - 1 - i]==2 for i in range(n)): \n",
    "        return 2\n",
    "    if all(cell != 0 for row in board for cell in row):\n",
    "        return 0\n",
    "    return -1"
   ]
  },
  {
   "cell_type": "code",
   "execution_count": null,
   "metadata": {
    "collapsed": true,
    "jupyter": {
     "outputs_hidden": true
    }
   },
   "outputs": [],
   "source": [
    "winner_is_2 = [[2, 2, 0],\n",
    "\t[2, 1, 0],\n",
    "\t[2, 1, 1]]\n",
    "\n",
    "winner_is_1 = [[1, 2, 0],\n",
    "\t[2, 1, 0],\n",
    "\t[2, 1, 1]]\n",
    "\n",
    "winner_is_also_1 = [[0, 1, 0],\n",
    "\t[2, 1, 0],\n",
    "\t[2, 1, 1]]\n",
    "\n",
    "no_winner = [[1, 2, 0],\n",
    "\t[2, 1, 0],\n",
    "\t[2, 1, 2]]\n",
    "\n",
    "also_no_winner = [[1, 2, 0],\n",
    "\t[2, 1, 0],\n",
    "\t[2, 1, 0]]"
   ]
  },
  {
   "cell_type": "code",
   "execution_count": null,
   "metadata": {},
   "outputs": [],
   "source": [
    "print(check_tic_tac_toe_winner(winner_is_2))\n",
    "print(check_tic_tac_toe_winner(winner_is_1))\n",
    "print(check_tic_tac_toe_winner(winner_is_also_1))\n",
    "print(check_tic_tac_toe_winner(no_winner))\n",
    "print(check_tic_tac_toe_winner(also_no_winner))"
   ]
  },
  {
   "cell_type": "markdown",
   "metadata": {},
   "source": [
    "*Exercise 5:* Write a function that takes a game board, player number, and `(x,y)` coordinates and places \"X\" or \"O\" in the correct location of the game board. Make sure that you only allow filling previously empty locations. Return `True` or `False` to indicate successful placement of \"X\" or \"O\"."
   ]
  },
  {
   "cell_type": "code",
   "execution_count": null,
   "metadata": {
    "collapsed": true,
    "jupyter": {
     "outputs_hidden": true
    }
   },
   "outputs": [],
   "source": [
    "def Location_on_board(board, player_number, x, y):\n",
    "    if 0 <= x < len(board) and 0 <= y < len(board[0]) and board[x][y] == 0:\n",
    "        board[x][y] = player_number \n",
    "        draw_board(board)\n",
    "        return True  \n",
    "    else:\n",
    "        return False\n",
    "\n",
    "def draw_board(board):\n",
    "    n = len(board)\n",
    "    for i in range(n):\n",
    "        print(\" ---\" * n)\n",
    "        row_str = \"|\"\n",
    "        for j in range(n):\n",
    "            if board[i][j] == 0:\n",
    "                row_str += \"   |\"\n",
    "            elif board[i][j] == 1:\n",
    "                row_str += \" X |\"\n",
    "            elif board[i][j] == 2:\n",
    "                row_str += \" O |\"\n",
    "        print(row_str)\n",
    "    print(\" ---\" * n)"
   ]
  },
  {
   "cell_type": "code",
   "execution_count": null,
   "metadata": {
    "collapsed": true,
    "jupyter": {
     "outputs_hidden": true
    }
   },
   "outputs": [],
   "source": [
    "board = [[0, 0, 0],\n",
    "         [0, 0, 0], \n",
    "         [0, 0, 0]]\n",
    "success = Location_on_board(board, 1, 1, 1)  \n",
    "print(success)  "
   ]
  },
  {
   "cell_type": "code",
   "execution_count": null,
   "metadata": {},
   "outputs": [],
   "source": [
    "board = [[0, 0, 0],\n",
    "         [0, 0, 0],\n",
    "         [0, 0, 0]]\n",
    "fail = Location_on_board(board, 2, 2, 3)  \n",
    "print(fail)"
   ]
  },
  {
   "cell_type": "markdown",
   "metadata": {},
   "source": [
    "*Exercise 6:* Modify Exercise 3 to show column and row labels so that players can specify location using \"A2\" or \"C1\"."
   ]
  },
  {
   "cell_type": "code",
   "execution_count": null,
   "metadata": {
    "collapsed": true,
    "jupyter": {
     "outputs_hidden": true
    }
   },
   "outputs": [],
   "source": [
    "def draw_board(board):\n",
    "    n = len(board)\n",
    "    print(\"   \", end=\"\")\n",
    "    for col in range(n):\n",
    "        print(f\" {col+1} \", end=\"\")\n",
    "    print()\n",
    "    \n",
    "    for i in range(n):\n",
    "        print(f\"{chr(65 + i)}  \", end=\"\")\n",
    "        for j in range(n):\n",
    "            if board[i][j] == 0:\n",
    "                print(\"   |\", end=\"\")\n",
    "            elif board[i][j] == 1:\n",
    "                print(\" X |\", end=\"\")\n",
    "            elif board[i][j] == 2:\n",
    "                print(\" O |\", end=\"\")\n",
    "        print()\n",
    "        print(\"  ---\" * n)"
   ]
  },
  {
   "cell_type": "code",
   "execution_count": null,
   "metadata": {
    "collapsed": true,
    "jupyter": {
     "outputs_hidden": true
    }
   },
   "outputs": [],
   "source": [
    "board = [\n",
    "    [0, 0, 0],\n",
    "    [0, 0, 0],\n",
    "    [0, 0, 0]\n",
    "]\n",
    "print(\"Empty board:\")\n",
    "draw_board(board)  "
   ]
  },
  {
   "cell_type": "markdown",
   "metadata": {},
   "source": [
    "*Exercise 7:* Write a function that takes a board, player number, and location specified as in exercise 6 and then calls exercise 5 to correctly modify the board.  "
   ]
  },
  {
   "cell_type": "code",
   "execution_count": null,
   "metadata": {
    "collapsed": true,
    "jupyter": {
     "outputs_hidden": true
    }
   },
   "outputs": [],
   "source": [
    "def draw_board(board):\n",
    "    n = len(board)\n",
    "    print(\"   \", end=\"\")\n",
    "    for col in range(n):\n",
    "        print(f\" {col+1} \", end=\"\")\n",
    "    print()\n",
    "    for i in range(n):\n",
    "        print(f\"{chr(65 + i)}  \", end=\"\")\n",
    "        for j in range(n):\n",
    "            if board[i][j] == 0:\n",
    "                print(\"   |\", end=\"\")\n",
    "            elif board[i][j] == 1:\n",
    "                print(\" X |\", end=\"\")\n",
    "            elif board[i][j] == 2:\n",
    "                print(\" O |\", end=\"\")\n",
    "        print()\n",
    "        print(\"  ---\" * n)\n",
    "def location_on_board(board, player, move):\n",
    "    row_letters = move[0].upper()\n",
    "    column_numbers = int(move[1]) - 1 \n",
    "    row = ord(row_letters) - ord('A')\n",
    "    \n",
    "    if row < 0 or row >= len(board) or column_numbers < 0 or column_numbers >= len(board[0]):\n",
    "        return False\n",
    "    if board[row][column_numbers] != 0:\n",
    "        return False\n",
    "    if player == 1:\n",
    "        board[row][column_numbers] = 1\n",
    "    elif player == 2:\n",
    "        board[row][column_numbers] = 2\n",
    "    else:\n",
    "        return False\n",
    "    draw_board(board)\n",
    "    return True"
   ]
  },
  {
   "cell_type": "code",
   "execution_count": null,
   "metadata": {
    "collapsed": true,
    "jupyter": {
     "outputs_hidden": true
    }
   },
   "outputs": [],
   "source": [
    "board = [\n",
    "    [0, 0, 0],\n",
    "    [0, 0, 0],\n",
    "    [0, 0, 0]\n",
    "]\n",
    "print(\"Empty board:\")\n",
    "draw_board(board)  "
   ]
  },
  {
   "cell_type": "code",
   "execution_count": null,
   "metadata": {},
   "outputs": [],
   "source": [
    "print(\"\\nPlayer 1 places X at A1:\")\n",
    "location_on_board(board, 1, \"A1\")"
   ]
  },
  {
   "cell_type": "code",
   "execution_count": null,
   "metadata": {},
   "outputs": [],
   "source": [
    "print(\"\\nPlayer 2 places O at B2:\")\n",
    "location_on_board(board, 2, \"B2\")"
   ]
  },
  {
   "cell_type": "code",
   "execution_count": null,
   "metadata": {},
   "outputs": [],
   "source": [
    "print(\"\\nPlayer 1 places X at C1:\")\n",
    "location_on_board(board, 1, \"C1\")"
   ]
  },
  {
   "cell_type": "markdown",
   "metadata": {},
   "source": [
    "*Exercise 8:* Write a function is called with a board and player number, takes input from the player using python's `input`, and modifies the board using your function from exercise 7. Note that you should keep asking for input until you have gotten a valid input that results in a valid move."
   ]
  },
  {
   "cell_type": "code",
   "execution_count": null,
   "metadata": {
    "collapsed": true,
    "jupyter": {
     "outputs_hidden": true
    }
   },
   "outputs": [],
   "source": [
    "def draw_board(board):\n",
    "    n = len(board)\n",
    "    print(\"   \", end=\"\")\n",
    "    for col in range(n):\n",
    "        print(f\" {col+1} \", end=\"\")\n",
    "    print()\n",
    "    for i in range(n):\n",
    "        print(f\"{chr(65 + i)}  \", end=\"\")\n",
    "        for j in range(n):\n",
    "            if board[i][j] == 0:\n",
    "                print(\"   |\", end=\"\")\n",
    "            elif board[i][j] == 1:\n",
    "                print(\" X |\", end=\"\")\n",
    "            elif board[i][j] == 2:\n",
    "                print(\" O |\", end=\"\")\n",
    "        print()\n",
    "        print(\"  ---\" * n)\n",
    "        \n",
    "def location_on_board(board, player, move):\n",
    "    row_letters = move[0].upper()\n",
    "    column_numbers = int(move[1]) - 1 \n",
    "    row = ord(row_letters) - ord('A')\n",
    "    \n",
    "    if row < 0 or row >= len(board) or column_numbers < 0 or column_numbers >= len(board[0]):\n",
    "        return False\n",
    "    if board[row][column_numbers] != 0:\n",
    "        return False\n",
    "    if player == 1:\n",
    "        board[row][column_numbers] = 1\n",
    "    elif player == 2:\n",
    "        board[row][column_numbers] = 2\n",
    "    else:\n",
    "        return False\n",
    "    draw_board(board)\n",
    "    return True\n",
    "    \n",
    "def player_move(board, player):\n",
    "    while True:\n",
    "        move = input(f\"Player {player}, enter your move: \").strip()\n",
    "\n",
    "        if len(move) != 2 or move[0].upper() not in \"ABC\" or not move[1].isdigit():\n",
    "            print(\"Invalid. Enter a valid position (Ex.A1).\")\n",
    "            continue\n",
    "\n",
    "        column_numbers = int(move[1])\n",
    "        if column_numbers < 1 or column_numbers > 3:\n",
    "            print(\"Invalid. Enter a number between 1 and 3.\")\n",
    "            continue\n",
    "\n",
    "        if location_on_board(board, player, move):\n",
    "            print(f\"Player {player} placed their mark at {move}.\")\n",
    "            break\n",
    "        else:\n",
    "            print(f\"Invalid move. {move} is out of bounds. Try a different move .\")"
   ]
  },
  {
   "cell_type": "code",
   "execution_count": null,
   "metadata": {
    "collapsed": true,
    "jupyter": {
     "outputs_hidden": true
    }
   },
   "outputs": [],
   "source": [
    "board = [[0, 0, 0],\n",
    "         [0, 0, 0],\n",
    "         [0, 0, 0]]\n",
    "draw_board(board)\n",
    "player_move(board, 1)"
   ]
  },
  {
   "cell_type": "markdown",
   "metadata": {},
   "source": [
    "*Exercise 9:* Use all of the previous exercises to implement a full tic-tac-toe game, where an appropriate board is drawn, 2 players are repeatedly asked for a location coordinates of where they wish to place a mark, and the game status is checked until a player wins or a draw occurs."
   ]
  },
  {
   "cell_type": "code",
   "execution_count": null,
   "metadata": {
    "collapsed": true,
    "jupyter": {
     "outputs_hidden": true
    }
   },
   "outputs": [],
   "source": [
    "def draw_board(board):\n",
    "    n = len(board)\n",
    "    print(\"   \", end=\"\")\n",
    "    for col in range(n):\n",
    "        print(f\" {col+1} \", end=\"\")\n",
    "    print()\n",
    "    for i in range(n):\n",
    "        print(f\"{chr(65 + i)}  \", end=\"\")\n",
    "        for j in range(n):\n",
    "            if board[i][j] == 0:\n",
    "                print(\"   |\", end=\"\")\n",
    "            elif board[i][j] == 1:\n",
    "                print(\" X |\", end=\"\")\n",
    "            elif board[i][j] == 2:\n",
    "                print(\" O |\", end=\"\")\n",
    "        print()\n",
    "        print(\"  ---\" * n)\n",
    "        \n",
    "def location_on_board(board, player, move):\n",
    "    row_letters = move[0].upper()\n",
    "    column_numbers = int(move[1]) - 1 \n",
    "    row = ord(row_letters) - ord('A')\n",
    "    \n",
    "    if row < 0 or row >= len(board) or column_numbers < 0 or column_numbers >= len(board[0]):\n",
    "        return False\n",
    "    if board[row][column_numbers] != 0:\n",
    "        return False\n",
    "    if player == 1:\n",
    "        board[row][column_numbers] = 1\n",
    "    elif player == 2:\n",
    "        board[row][column_numbers] = 2\n",
    "    else:\n",
    "        return False\n",
    "    \n",
    "    return True\n",
    "\n",
    "def check_tic_tac_toe_winner(board):\n",
    "    n = len(board)\n",
    "    for i in range(n):\n",
    "        if all(board[i][j] == 1 for j in range(n)):\n",
    "            return 1\n",
    "        if all(board[i][j] == 2 for j in range(n)):\n",
    "            return 2\n",
    "        if all(board[j][i] == 1 for j in range(n)):\n",
    "            return 1\n",
    "        if all(board[j][i] == 2 for j in range(n)):\n",
    "            return 2\n",
    "    if all(board[i][i] == 1 for i in range(n)):\n",
    "        return 1\n",
    "    if all(board[i][i] == 2 for i in range(n)):\n",
    "        return 2\n",
    "    if all(board[i][n - 1 - i] == 1 for i in range(n)):\n",
    "        return 1\n",
    "    if all(board[i][n - 1 - i] == 2 for i in range(n)):\n",
    "        return 2\n",
    "    if all(cell != 0 for row in board for cell in row):\n",
    "        return 0\n",
    "    return -1\n",
    "    \n",
    "def player_move(board, player):\n",
    "    while True:\n",
    "        move = input(f\"Player {player}, enter your move: \").strip()\n",
    "\n",
    "        if len(move) != 2 or move[0].upper() not in \"ABC\" or not move[1].isdigit():\n",
    "            print(\"Invalid. Enter a valid position (Ex.A1).\")\n",
    "            continue\n",
    "\n",
    "        column_numbers = int(move[1])\n",
    "        if column_numbers < 1 or column_numbers > 3:\n",
    "            print(\"Invalid. Enter a number between 1 and 3.\")\n",
    "            continue\n",
    "\n",
    "        if location_on_board(board, player, move):\n",
    "            print(f\"Player {player} placed their mark at {move}.\")\n",
    "            break\n",
    "        else:\n",
    "            print(f\"Invalid move. {move} is out of bounds. Try a different move .\")    \n",
    "            \n",
    "def tic_tac_toe_game():\n",
    "    board = [[0, 0, 0], [0, 0, 0], [0, 0, 0]]\n",
    "    draw_board(board)\n",
    "    player = 1\n",
    "    \n",
    "    while True:\n",
    "        player_move(board, player)\n",
    "        draw_board(board) \n",
    "        winner = check_tic_tac_toe_winner(board)\n",
    "        \n",
    "        if winner != -1:\n",
    "            if winner == 0:\n",
    "                print(\"It's a draw!\")\n",
    "            else:\n",
    "                print(f\"Player {winner} wins!\")\n",
    "            break\n",
    "            \n",
    "        player = 3 - player"
   ]
  },
  {
   "cell_type": "code",
   "execution_count": null,
   "metadata": {
    "collapsed": true,
    "jupyter": {
     "outputs_hidden": true
    }
   },
   "outputs": [],
   "source": [
    "tic_tac_toe_game()"
   ]
  },
  {
   "cell_type": "markdown",
   "metadata": {},
   "source": [
    "*Exercise 10:* Test that your game works for 5x5 Tic Tac Toe.  "
   ]
  },
  {
   "cell_type": "code",
   "execution_count": null,
   "metadata": {
    "collapsed": true,
    "jupyter": {
     "outputs_hidden": true
    }
   },
   "outputs": [],
   "source": [
    "def draw_board(board):\n",
    "    n = len(board)\n",
    "    print(\"   \", end=\"\")\n",
    "    for col in range(n):\n",
    "        print(f\" {col+1} \", end=\"\")\n",
    "    print()\n",
    "    for i in range(n):\n",
    "        print(f\"{chr(65 + i)}  \", end=\"\")\n",
    "        for j in range(n):\n",
    "            if board[i][j] == 0:\n",
    "                print(\"   |\", end=\"\")\n",
    "            elif board[i][j] == 1:\n",
    "                print(\" X |\", end=\"\")\n",
    "            elif board[i][j] == 2:\n",
    "                print(\" O |\", end=\"\")\n",
    "        print()\n",
    "        print(\"  ---\" * n)\n",
    "        \n",
    "def location_on_board(board, player, move):\n",
    "    row_letters = move[0].upper()\n",
    "    column_numbers = int(move[1]) - 1 \n",
    "    row = ord(row_letters) - ord('A')\n",
    "    \n",
    "    if row < 0 or row >= len(board) or column_numbers < 0 or column_numbers >= len(board[0]):\n",
    "        return False\n",
    "    if board[row][column_numbers] != 0:\n",
    "        return False\n",
    "    if player == 1:\n",
    "        board[row][column_numbers] = 1\n",
    "    elif player == 2:\n",
    "        board[row][column_numbers] = 2\n",
    "    else:\n",
    "        return False\n",
    "    draw_board(board)\n",
    "    return True\n",
    "    \n",
    "def player_move(board, player):\n",
    "    while True:\n",
    "        move = input(f\"Player {player}, enter your move (e.g., A1, B2, C3): \").strip()\n",
    "        if len(move) != 2 or move[0].upper() not in \"ABCDEFGHIJKLMNOPQRSTUVWXYZ\" or not move[1].isdigit():\n",
    "            print(\"Invalid. Enter a valid position (Ex: A1, B2, C3).\")\n",
    "            continue\n",
    "        column_numbers = int(move[1]) - 1\n",
    "        if column_numbers < 0 or column_numbers >= len(board):\n",
    "            print(f\"Invalid. Enter a column number between 1 and {len(board)}.\")\n",
    "            continue\n",
    "        if location_on_board(board, player, move):\n",
    "            print(f\"Player {player} placed their mark at {move}.\")\n",
    "            break\n",
    "        else:\n",
    "            print(f\"Invalid move. The spot at {move} is either occupied or out of bounds. Please try again.\")\n",
    "\n",
    "def check_tic_tac_toe_winner(board):\n",
    "    n = len(board)\n",
    "    for i in range(n):\n",
    "        if all(board[i][j] == 1 for j in range(n)):  \n",
    "            return 1\n",
    "        if all(board[i][j] == 2 for j in range(n)):  \n",
    "            return 2\n",
    "        if all(board[j][i] == 1 for j in range(n)):\n",
    "            return 1\n",
    "        if all(board[j][i] == 2 for j in range(n)):\n",
    "            return 2\n",
    "    if all(board[i][i] == 1 for i in range(n)):\n",
    "        return 1\n",
    "    if all(board[i][i] == 2 for i in range(n)): \n",
    "        return 2\n",
    "    if all(board[i][n - 1 - i] == 1 for i in range(n)): \n",
    "        return 1\n",
    "    if all(board[i][n - 1 - i] == 2 for i in range(n)): \n",
    "        return 2\n",
    "    if all(cell != 0 for row in board for cell in row):\n",
    "        return 0  \n",
    "\n",
    "    return -1\n",
    "\n",
    "def tic_tac_toe_game(n=3):  \n",
    "    board = [[0 for _ in range(n)] for _ in range(n)]\n",
    "    draw_board(board) \n",
    "    player = 1 \n",
    "    while True:  \n",
    "        player_move(board, player) \n",
    "        winner = check_tic_tac_toe_winner(board) \n",
    "        if winner != -1:\n",
    "            if winner == 0:  \n",
    "                print(\"It's a draw!\")\n",
    "            else: \n",
    "                print(f\"Player {winner} wins!\")\n",
    "            break\n",
    "        player = 3 - player \n",
    "tic_tac_toe_game(n=5)\n"
   ]
  },
  {
   "cell_type": "markdown",
   "metadata": {},
   "source": [
    "*Exercise 11:* (Advanced / Challenge) Develop a version of the game where one player is the computer. Note that you don't need to do an extensive seach for the best move. You can have the computer simply protect against loosing and otherwise try to win with straight or diagonal patterns."
   ]
  },
  {
   "cell_type": "code",
   "execution_count": null,
   "metadata": {
    "collapsed": true,
    "jupyter": {
     "outputs_hidden": true
    }
   },
   "outputs": [],
   "source": [
    "# Write you solution here"
   ]
  },
  {
   "cell_type": "code",
   "execution_count": null,
   "metadata": {
    "collapsed": true,
    "jupyter": {
     "outputs_hidden": true
    }
   },
   "outputs": [],
   "source": [
    "# Test your solution here"
   ]
  }
 ],
 "metadata": {
  "kernelspec": {
   "display_name": "Python 3 (ipykernel)",
   "language": "python",
   "name": "python3"
  },
  "language_info": {
   "codemirror_mode": {
    "name": "ipython",
    "version": 3
   },
   "file_extension": ".py",
   "mimetype": "text/x-python",
   "name": "python",
   "nbconvert_exporter": "python",
   "pygments_lexer": "ipython3",
   "version": "3.12.8"
  }
 },
 "nbformat": 4,
 "nbformat_minor": 4
}
