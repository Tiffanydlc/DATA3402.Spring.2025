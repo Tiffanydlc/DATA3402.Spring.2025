{
 "cells": [
  {
   "cell_type": "markdown",
   "metadata": {},
   "source": [
    "# \n",
    "Tiffany Delacruz\n",
    "\n",
    "ID: 1001509792\n",
    "\n",
    "Lab 3\n",
    "\n",
    "In this lab we will become familiar with distributions, histograms, and functional programming. Do not use numpy or any other library for this lab.\n",
    "\n",
    "Before that, lets get setup homework submission and submit your previous lab.  \n",
    "\n",
    "## Working on the Command-line.\n",
    "\n",
    "It is important for you to learn to work on the command line and to be familiar with the Unix environment (e.g. Linux, Mac OS, or Windows Linux Subsystem). We'll go over working on the command-line in detail later in the course.\n",
    "\n",
    "You are required to submit your work in this course via GitHub. Today in class, you will setup everything on the command-line.\n",
    "\n",
    "### Command-line basics\n",
    "\n",
    "There is plenty of material online that will help you figure out how to do various tasks on the command line. Commands you may need to know today:\n",
    "\n",
    "* `ls`: lists the contents of the current directory.\n",
    "* `pwd`: prints the path of the current directory.\n",
    "* `cd <directory>`: changes your current directory to the specified directory.\n",
    "* `cd ..`: changes current directory to the previous directory. Basically steps out of the current directory to the directory containing the current directory.\n",
    "* `mkdir <directory>`: create a new directory with the specified name.\n",
    "* `rmdir <directory>`: removes the specified directory. Note it has to be empty.\n",
    "* `rm <filename>`: deletes the specified file.\n",
    "* `mv <filename 1> <filename 2>`: Moves or renames a file.\n",
    "* `cp <filename 1> <filename 2>`: copies an file. If you just provide a path to a directory, it copies the file into that directory with the same filename. If you specifiy a new filename, the copy has a new name. For example `cp File.1.txt File.2.txt` creates a copy of `File.1.txt` with the name `File.2.txt`. Meanwhile `cp File.1.txt my_directory`, where `my_directory` is a directory, creates a copy of `File.1.txt` in directory `my_directory` with the name `File.1.txt`.\n",
    "\n",
    "For reference, here are some example resources I found by googling:\n",
    "\n",
    "* Paths and Wildcards: https://www.warp.dev/terminus/linux-wildcards\n",
    "* Basic commands like copy: https://kb.iu.edu/d/afsk\n",
    "* General introduction to shell: https://github-pages.ucl.ac.uk/RCPSTrainingMaterials/HPCandHTCusingLegion/2_intro_to_shell.html\n",
    "* Manual pages: https://www.geeksforgeeks.org/linux-man-page-entries-different-types/?ref=ml_lbp\n",
    "* Chaining commands: https://www.geeksforgeeks.org/chaining-commands-in-linux/?ref=ml_lbp\n",
    "* Piping: https://www.geeksforgeeks.org/piping-in-unix-or-linux/\n",
    "* Using sed: https://www.geeksforgeeks.org/sed-command-linux-set-2/?ref=ml_lbp\n",
    "* Various Unix commands: https://www.geeksforgeeks.org/linux-commands/?ref=lbp\n",
    "* Cheat sheets:\n",
    "    * https://www.stationx.net/unix-commands-cheat-sheet/\n",
    "    * https://cheatography.com/davechild/cheat-sheets/linux-command-line/\n",
    "    * https://www.theknowledgeacademy.com/blog/unix-commands-cheat-sheet/\n",
    "    \n",
    "These aren't necessarily the best resources. Feel free to search for better ones. Also, don't forget that Unix has built-in manual pages for all of its commands. Just type `man <command>` at the command prompt. Use the space-bar to scroll through the documentation and \"q\" to exit.\n",
    "\n",
    "\n",
    "### Setup and Submission\n",
    "\n",
    "Our course repository is public. The instructions here aim to have you setup a fork of the course repository. Unfortunately because you are forking a public repo, your fork will have to be public also. \n",
    "\n",
    "You should be familiar with git from the first semester of this course. I assume that you all have github accounts and have setup things to be able to [push to github using ssh](https://docs.github.com/en/github/authenticating-to-github/connecting-to-github-with-ssh). The instuctions here lead you to:\n",
    "\n",
    "We'll overview what you will do before going through step by step instructions.\n",
    "\n",
    "1. Setup:\n",
    "    1. Fork the class repository. Some directions in [fork-a-repo](https://docs.github.com/en/github/getting-started-with-github/fork-a-repo).\n",
    "    1. Create a directory on your personal system where you will keep all course materials.\n",
    "    1. In that directory, clone your fork of the repository.\n",
    "    1. Using `git remote`, set the upstream to be the class repo, so you can pull from the class and push to your fork.\n",
    "\n",
    "1. Submission:\n",
    "    1. Copy your solutions into the appropriate directory (e.g. into `Labs/Lab.2/`) and with appropriate filename `Lab.2.solution.ipynb'.\n",
    "    1. Commit / push your solutions.\n",
    " \n",
    "Below are step by step instructions with examples (including example directory naming convention). Feel free to modify things as you see fit. \n",
    "\n",
    "#### Setup\n",
    "You should only need to follow this instructions once. Here are some useful git commands:\n",
    "\n",
    "* Git help: `git help`\n",
    "* Git remote help: `git help remote`\n",
    "* Check remote status: `git remote -v`\n",
    "* Add a remote: `git remote add <stream name> <repo URL>`\n",
    "* Add a remove: `git remote remove <stream name>`\n",
    "\n",
    "Steps:\n",
    "1. In a browser, log into GitHub and navigate to the [course repository](https://github.com/UTA-DataScience/DATA3402.Spring.2025).\n",
    "1. On the top right of the page, press the fork button to create a new fork into your own GitHub account.\n",
    "1. After successful fork, you should find the browser showing your fork of the course repository. Use the green \"Code\" button to copy path to the repo into your the clipboard of your computer.\n",
    "1. Open a shell on your personal computer.\n",
    "1. If you have not done so already, create a new directory/folder where you will keep all course material to navigate to it. For example: `mkdir Data-3402` and `cd Data-3402`.\n",
    "1. Clone your fork of the repository using `git clone` followed by the path you copied into your clipboard. (copy/paste)\n",
    "1. Paste the URL to your fork in the worksheet for the TAs and instructors.\n",
    "1. Now go into the directory of your clone (`cd DATA3402.Spring.2025`).\n",
    "1. Type `git remote -v` to see the current setup for fetch and pull.\n",
    "1. Note the URL you see. This should be the same as what you used for your clone for both push and fetch.\n",
    "1. Delete the origin remote using `git remote remove origin`.\n",
    "1. Add the course repo as your remote using `git remote add origin https://github.com/UTA-DataScience/DATA3402.Spring.2025.git`.\n",
    "1. Change the push to point to your fork. This means you will need the URL to your clone we copied earlier and confirmed as the original origin. The command will look something like: `git remote set-url --push origin  https://github.com/XXXXXX/DATA3402.Spring.2025.git`, where XXXXX is your username on GitHub.\n",
    "1. Note that if you setup everything correctly, you now should be able to do `git pull` to get updates from the course repo, and do `git push` to push your commits into your own fork.\n",
    "\n",
    "### Submission\n",
    "These instructions outline how you submit files. Some useful commands:\n",
    "* To add a file to local repository: `git add <file>`.\n",
    "* To commit all changed files into local repository: `git -a -m \"A message\"`. You need to provide some comment when you commit. \n",
    "* To push the commited files from the local repository to GitHub: `git push`.\n",
    "* To get updates from GitHub: `git pull`.\n",
    "\n",
    "Steps:\n",
    "1. To submit your labs, navigate to your clone of your fork of the course repository. \n",
    "1. Use `git pull` to make sure you have the latest updates. \n",
    "1. Make sure your copy of the lab your are working on is in the appropriate place in this clone. That means if you have the file elsewhere, copy it to the same directory in your clone of your fork. \n",
    "1. Note that in order to avoid future conflicts, you should always name your solution differently than the original file in the class repo. For example if your file is still named `Lab.2.ipynb` you should rename it using the `mv` command: `mv Lab.2.ipynb Lab.2.solution.ipynb`. \n",
    "1. Add and files you wish to submit into the repo. For example: `git add Labs/Lab.2/Lab.2.solution.ipynb`\n",
    "1. Commit any changes: `git commit -a -m \"Lab 2 updates\"`\n",
    "1. Push your changes: `git push`\n",
    "1. Check on github website that your solutions have been properly submitted.\n",
    "\n",
    "Before you leave the session today, make sure your GitHub Repo is setup. If you need to work further on your lab, navigate jupyter to the copy of the lab you just submitted and work there. Once done, repeat the commit and push commands to submit your updated solution. Note that lab 2 is due by midnight Friay 1/31/2025.\n"
   ]
  },
  {
   "cell_type": "markdown",
   "metadata": {},
   "source": [
    "### Uniform Distribution\n",
    "Lets start with generating some fake random data. You can get a random number between 0 and 1 using the python random module as follow:"
   ]
  },
  {
   "cell_type": "code",
   "execution_count": 188,
   "metadata": {},
   "outputs": [
    {
     "name": "stdout",
     "output_type": "stream",
     "text": [
      "The Value of x is 0.29908053160694403\n"
     ]
    }
   ],
   "source": [
    "import random\n",
    "x=random.random()\n",
    "print(\"The Value of x is\", x)"
   ]
  },
  {
   "cell_type": "markdown",
   "metadata": {},
   "source": [
    "Everytime you call random, you will get a new number.\n",
    "\n",
    "*Exercise 1:* Using random, write a function `generate_uniform(N, mymin, mymax)`, that returns a python list containing N random numbers between specified minimum and maximum value. Note that you may want to quickly work out on paper how to turn numbers between 0 and 1 to between other values. "
   ]
  },
  {
   "cell_type": "code",
   "execution_count": 189,
   "metadata": {},
   "outputs": [],
   "source": [
    "# Skeleton\n",
    "def generate_uniform(N,mymin,mymax): \n",
    "    out = [] \n",
    "    for _ in range(N): \n",
    "      random_num = random.random() \n",
    "      scale_shift_formula= (mymax - mymin)*random_num + mymin \n",
    "      out.append(scale_shift_formula) \n",
    "    return out "
   ]
  },
  {
   "cell_type": "code",
   "execution_count": 190,
   "metadata": {},
   "outputs": [
    {
     "name": "stdout",
     "output_type": "stream",
     "text": [
      "Data Type: <class 'list'>\n",
      "Data Length: 1000\n",
      "Type of Data Contents: <class 'float'>\n",
      "Data Minimum: -9.983899299462857\n",
      "Data Maximum: 9.978475636960276\n"
     ]
    }
   ],
   "source": [
    "# Test your solution here\n",
    "data=generate_uniform(1000,-10,10)\n",
    "print (\"Data Type:\", type(data))\n",
    "print (\"Data Length:\", len(data))\n",
    "if len(data)>0: \n",
    "    print (\"Type of Data Contents:\", type(data[0]))\n",
    "    print (\"Data Minimum:\", min(data))\n",
    "    print (\"Data Maximum:\", max(data))"
   ]
  },
  {
   "cell_type": "markdown",
   "metadata": {},
   "source": [
    "*Exercise 2a:* \n",
    "Write a function that computes the mean of values in a list. Recall the equation for the mean of a random variable $\\bf{x}$ computed on a data set of $n$ values $\\{ x_i \\} = \\{x_1, x_2, ..., x_n\\}$  is ${\\bf\\bar{x}} = \\frac{1}{n} \\sum_i^n x_i$."
   ]
  },
  {
   "cell_type": "code",
   "execution_count": 191,
   "metadata": {},
   "outputs": [],
   "source": [
    "# Skeleton\n",
    "def mean(Data): \n",
    "    m=0. \n",
    "    total= sum(Data) \n",
    "    m= total / len(Data) \n",
    "    return m "
   ]
  },
  {
   "cell_type": "code",
   "execution_count": 192,
   "metadata": {},
   "outputs": [
    {
     "name": "stdout",
     "output_type": "stream",
     "text": [
      "Mean of Data: -0.040597781237114834\n"
     ]
    }
   ],
   "source": [
    "# Test your solution here\n",
    "print (\"Mean of Data:\", mean(data))"
   ]
  },
  {
   "cell_type": "markdown",
   "metadata": {},
   "source": [
    "*Exercise 2b:* \n",
    "Write a function that computes the variance of values in a list. Recall the equation for the variance of a random variable $\\bf{x}$ computed on a data set of $n$ values $\\{ x_i \\} = \\{x_1, x_2, ..., x_n\\}$  is ${\\bf\\langle x \\rangle} = \\frac{1}{n-1} \\sum_i^n (x_i - {\\bf\\bar{x}})^2$."
   ]
  },
  {
   "cell_type": "code",
   "execution_count": 193,
   "metadata": {},
   "outputs": [],
   "source": [
    "# Skeleton\n",
    "def variance(Data): \n",
    "    m=0\n",
    "    m = sum(Data) / len(Data) \n",
    "    squared_diffs = [(x - m) ** 2 for x in Data] \n",
    "    m = sum(squared_diffs) / len(Data)               \n",
    "    return m"
   ]
  },
  {
   "cell_type": "code",
   "execution_count": 194,
   "metadata": {},
   "outputs": [
    {
     "name": "stdout",
     "output_type": "stream",
     "text": [
      "Variance of Data: 32.82621528165873\n"
     ]
    }
   ],
   "source": [
    "# Test your solution here\n",
    "print (\"Variance of Data:\", variance(data))"
   ]
  },
  {
   "cell_type": "markdown",
   "metadata": {},
   "source": [
    "## Histogramming"
   ]
  },
  {
   "cell_type": "markdown",
   "metadata": {},
   "source": [
    "*Exercise 3:* Write a function that bins the data so that you can create a histogram. An example of how to implement histogramming is the following logic:\n",
    "\n",
    "* User inputs a list of values `x` and optionally `n_bins` which defaults to 10.\n",
    "* If not supplied, find the minimum and maximum (`x_min`,`x_max`) of the values in x.\n",
    "* Determine the bin size (`bin_size`) by dividing the range of the function by the number of bins.\n",
    "* Create an empty list of zeros of size `n_bins`, call it `hist`.\n",
    "* Loop over the values in `x`\n",
    "    * Loop over the values in `hist` with index `i`:\n",
    "        * If x is between `x_min+i*bin_size` and `x_min+(i+1)*bin_size`, increment `hist[i].` \n",
    "        * For efficiency, try to use continue to goto the next bin and data point.\n",
    "* Return `hist` and the list corresponding of the bin edges (i.e. of `x_min+i*bin_size`).    "
   ]
  },
  {
   "cell_type": "code",
   "execution_count": 195,
   "metadata": {},
   "outputs": [],
   "source": [
    "# Solution\n",
    "def histogram(x,n_bins=10,x_min=None,x_max=None): \n",
    "    if x_min==None: \n",
    "        x_min=min(x)\n",
    "    if x_max==None: \n",
    "        x_max=max(x)\n",
    "        \n",
    "    bin_size = (x_max - x_min) / n_bins  \n",
    "    bin_edges = [x_min + i * bin_size for i in range(n_bins + 1)] \n",
    "\n",
    "    hist = [0] * n_bins \n",
    "\n",
    "    for d in data:\n",
    "        for i,(low_edge,high_edge) in enumerate(zip(bin_edges[:-1],bin_edges[1:])):\n",
    "            if d>=low_edge and d<high_edge:\n",
    "                hist[i]+=1\n",
    "                break\n",
    "\n",
    "    return hist, bin_edges "
   ]
  },
  {
   "cell_type": "code",
   "execution_count": 196,
   "metadata": {},
   "outputs": [
    {
     "name": "stdout",
     "output_type": "stream",
     "text": [
      "[95, 98, 107, 102, 113, 101, 77, 102, 109, 95]\n"
     ]
    }
   ],
   "source": [
    "# Test your solution here\n",
    "h,b=histogram(data,10)\n",
    "print(h)"
   ]
  },
  {
   "cell_type": "markdown",
   "metadata": {},
   "source": [
    "*Exercise 4:* Write a function that uses the histogram function in the previous exercise to create a text-based \"graph\". For example the output could look like the following:\n",
    "```\n",
    "[  0,  1] : ######\n",
    "[  1,  2] : #####\n",
    "[  2,  3] : ######\n",
    "[  3,  4] : ####\n",
    "[  4,  5] : ####\n",
    "[  5,  6] : ######\n",
    "[  6,  7] : #####\n",
    "[  7,  8] : ######\n",
    "[  8,  9] : ####\n",
    "[  9, 10] : #####\n",
    "```\n",
    "\n",
    "Where each line corresponds to a bin and the number of `#`'s are proportional to the value of the data in the bin. "
   ]
  },
  {
   "cell_type": "code",
   "execution_count": 197,
   "metadata": {},
   "outputs": [],
   "source": [
    "def draw_histogram(x, n_bins, x_min=None, x_max=None, character=\"#\", max_character_per_line=20):\n",
    "    hist, bin_edges = histogram(x, n_bins, x_min, x_max)  \n",
    "    max_count = max(hist) \n",
    "    for i in range(len(hist)): \n",
    "        bar_length = int(round(hist[i] / max_count * max_character_per_line)) \n",
    "        bar = character * bar_length\n",
    "        print(f\"[{bin_edges[i]:.1f}, {bin_edges[i + 1]:.1f}]: {bar}\")\n",
    "\n",
    "    return hist, bin_edges"
   ]
  },
  {
   "cell_type": "code",
   "execution_count": 198,
   "metadata": {},
   "outputs": [
    {
     "name": "stdout",
     "output_type": "stream",
     "text": [
      "[-10.0, -8.0]: #################\n",
      "[-8.0, -6.0]: #################\n",
      "[-6.0, -4.0]: ###################\n",
      "[-4.0, -2.0]: ##################\n",
      "[-2.0, -0.0]: ####################\n",
      "[-0.0, 2.0]: ##################\n",
      "[2.0, 4.0]: ##############\n",
      "[4.0, 6.0]: ##################\n",
      "[6.0, 8.0]: ###################\n",
      "[8.0, 10.0]: #################\n"
     ]
    }
   ],
   "source": [
    "# Test your solution here\n",
    "h,b=draw_histogram(data,10)"
   ]
  },
  {
   "cell_type": "markdown",
   "metadata": {},
   "source": [
    "## Functional Programming\n",
    "\n",
    "*Exercise 5:* Write a function the applies a booling function (that returns true/false) to every element in data, and return a list of indices of elements where the result was true. Use this function to find the indices of entries greater than 0.5. "
   ]
  },
  {
   "cell_type": "code",
   "execution_count": 199,
   "metadata": {},
   "outputs": [],
   "source": [
    "def where(mylist,myfunc):\n",
    "    out= []\n",
    "    for i, val in enumerate(mylist):\n",
    "        if myfunc(val):\n",
    "            out.append(i)\n",
    "    return out"
   ]
  },
  {
   "cell_type": "code",
   "execution_count": 200,
   "metadata": {},
   "outputs": [
    {
     "name": "stdout",
     "output_type": "stream",
     "text": [
      "[0, 1, 3, 7, 8, 10, 11, 14, 17, 18, 19, 20, 25, 27, 28, 29, 32, 40, 41, 42, 44, 46, 47, 49, 50, 52, 60, 65, 66, 67, 70, 71, 79, 81, 83, 84, 89, 91, 92, 93, 95, 96, 99, 100, 105, 106, 110, 111, 112, 113, 115, 116, 117, 118, 127, 129, 132, 136, 138, 143, 146, 147, 148, 152, 153, 156, 157, 162, 164, 171, 172, 173, 175, 178, 180, 181, 182, 183, 187, 189, 190, 191, 192, 194, 195, 196, 200, 201, 205, 207, 210, 211, 213, 214, 216, 217, 218, 225, 226, 232, 234, 239, 241, 245, 246, 247, 249, 250, 255, 259, 262, 269, 271, 273, 274, 277, 279, 280, 281, 282, 284, 285, 286, 288, 289, 290, 294, 295, 296, 303, 308, 309, 310, 313, 314, 315, 316, 318, 323, 324, 327, 330, 331, 332, 333, 334, 340, 342, 343, 344, 345, 346, 347, 348, 349, 351, 353, 354, 356, 357, 359, 360, 364, 365, 367, 368, 370, 373, 381, 382, 383, 384, 385, 387, 389, 390, 393, 396, 397, 399, 400, 402, 403, 404, 409, 411, 413, 415, 420, 424, 428, 433, 435, 436, 437, 440, 441, 444, 445, 446, 449, 450, 451, 454, 455, 457, 458, 459, 461, 462, 464, 466, 467, 469, 470, 471, 473, 476, 486, 490, 491, 492, 493, 496, 497, 498, 499, 500, 501, 504, 505, 506, 510, 520, 522, 527, 529, 531, 535, 537, 540, 541, 542, 543, 544, 545, 547, 548, 549, 550, 551, 553, 554, 555, 556, 558, 559, 567, 569, 570, 572, 573, 574, 575, 576, 577, 579, 580, 587, 589, 592, 593, 595, 598, 599, 605, 608, 609, 610, 611, 614, 615, 616, 617, 620, 624, 625, 627, 629, 631, 634, 637, 641, 642, 645, 647, 648, 650, 651, 656, 658, 660, 662, 664, 666, 667, 669, 671, 673, 674, 675, 676, 677, 678, 683, 684, 685, 688, 690, 691, 693, 696, 697, 698, 701, 702, 703, 704, 709, 710, 714, 715, 716, 720, 722, 724, 730, 731, 732, 733, 742, 743, 746, 747, 748, 751, 755, 757, 760, 764, 766, 767, 772, 774, 775, 776, 777, 778, 779, 780, 782, 783, 784, 786, 789, 790, 791, 792, 795, 799, 800, 803, 807, 809, 812, 814, 815, 819, 820, 821, 822, 825, 826, 827, 828, 829, 832, 833, 834, 837, 838, 839, 843, 845, 853, 854, 857, 859, 863, 864, 865, 866, 867, 870, 871, 872, 873, 877, 880, 881, 887, 888, 889, 890, 891, 892, 893, 904, 905, 910, 911, 912, 915, 917, 918, 919, 922, 923, 924, 925, 929, 933, 934, 935, 936, 938, 942, 947, 948, 949, 952, 953, 955, 956, 959, 960, 964, 965, 967, 970, 971, 972, 973, 975, 979, 982, 983, 986, 988, 989, 992, 997, 999]\n"
     ]
    }
   ],
   "source": [
    "# Test your solution here\n",
    "entries = lambda x: x > 0.5\n",
    "indices = where(data, entries)\n",
    "print(indices)"
   ]
  },
  {
   "cell_type": "markdown",
   "metadata": {},
   "source": [
    "*Exercise 6:* The `inrange(mymin,mymax)` function below returns a function that tests if it's input is between the specified values. Write corresponding functions that test:\n",
    "* Even\n",
    "* Odd\n",
    "* Greater than\n",
    "* Less than\n",
    "* Equal\n",
    "* Divisible by"
   ]
  },
  {
   "cell_type": "code",
   "execution_count": 201,
   "metadata": {},
   "outputs": [
    {
     "name": "stdout",
     "output_type": "stream",
     "text": [
      "True True False False False\n",
      "False False True True False\n",
      "Number of Entries passing F1: 485\n",
      "Number of Entries passing F2: 0\n"
     ]
    }
   ],
   "source": [
    "def in_range(mymin,mymax):\n",
    "    def testrange(x):\n",
    "        return x<mymax and x>=mymin\n",
    "    return testrange\n",
    "\n",
    "# Examples:\n",
    "F1=in_range(0,10)\n",
    "F2=in_range(10,20)\n",
    "\n",
    "# Test of in_range\n",
    "print (F1(0), F1(1), F1(10), F1(15), F1(20))\n",
    "print (F2(0), F2(1), F2(10), F2(15), F2(20))\n",
    "\n",
    "print (\"Number of Entries passing F1:\", len(where(data,F1)))\n",
    "print (\"Number of Entries passing F2:\", len(where(data,F2)))"
   ]
  },
  {
   "cell_type": "code",
   "execution_count": 202,
   "metadata": {},
   "outputs": [],
   "source": [
    "def in_range(mymin, mymax):\n",
    "    def testrange(x):\n",
    "        return x < mymax and x >= mymin\n",
    "    return testrange\n",
    "    \n",
    "def even(x):\n",
    "    return x%2 == 0\n",
    "\n",
    "def odd(x):\n",
    "    return x%2 != 0\n",
    "\n",
    "def is_greater_than(threshold):\n",
    "    def greater_than(x):\n",
    "        return x>threshold\n",
    "    return greater_than\n",
    "\n",
    "def is_less_than(threshold):\n",
    "    def less_than(x):\n",
    "        return x<threshold\n",
    "    return less_than\n",
    "\n",
    "def is_equal_to(y):\n",
    "    def equal_to(x):\n",
    "        return x==y\n",
    "    return equal_to\n",
    "\n",
    "def is_divisible_by(d):\n",
    "    def divisible_by(x):\n",
    "        return x%d==0\n",
    "    return divisible_by"
   ]
  },
  {
   "cell_type": "code",
   "execution_count": 203,
   "metadata": {},
   "outputs": [
    {
     "name": "stdout",
     "output_type": "stream",
     "text": [
      "True\n",
      "False\n",
      "True\n",
      "True True True\n",
      "False True False\n",
      "False True True\n",
      "Number of Entries Even: 0\n",
      "Number of Entries Odd: 1000\n",
      "Number of Entries Greater than 5: 255\n",
      "Number of Entries Less than 10: 1000\n",
      "Number of Entries Equal to 10: 0\n",
      "Number of Entries Divisible by 2: 0\n"
     ]
    }
   ],
   "source": [
    "# Test your solution\n",
    "F3=is_even\n",
    "F4=is_odd \n",
    "F5=is_greater_than(5)\n",
    "F6=is_less_than(10)\n",
    "F7=is_equal_to(10)\n",
    "F8=is_divisible_by(2)\n",
    "\n",
    "print(F3(8))  \n",
    "print(F4(6))\n",
    "print(F5(6))\n",
    "print(F6(4), F6(5), F6(6))  \n",
    "print(F7(7), F7(10), F7(9))  \n",
    "print(F8(9), F8(12), F8(14))  \n",
    "\n",
    "\n",
    "print (\"Number of Entries Even:\", len(where(data,F3)))\n",
    "print (\"Number of Entries Odd:\", len(where(data,F4)))\n",
    "print (\"Number of Entries Greater than 5:\", len(where(data,F5)))\n",
    "print (\"Number of Entries Less than 10:\", len(where(data,F6)))\n",
    "print (\"Number of Entries Equal to 10:\", len(where(data,F7)))\n",
    "print (\"Number of Entries Divisible by 2:\", len(where(data,F8)))\n"
   ]
  },
  {
   "cell_type": "markdown",
   "metadata": {},
   "source": [
    "*Exercise 7:* Repeat the previous exercise using `lambda` and the built-in python functions sum and map instead of your solution above. "
   ]
  },
  {
   "cell_type": "code",
   "execution_count": 207,
   "metadata": {},
   "outputs": [
    {
     "name": "stdout",
     "output_type": "stream",
     "text": [
      "Number of Entries passing F1: 485\n",
      "Number of Entries passing F2: 0\n",
      "Even indices: 0\n",
      "Odd indices: 1000\n",
      "Numbers greater than 5: 255\n",
      "Numbers less than 10: 1000\n",
      "Numbers equal to 10: 0\n",
      "Numbers divisible by 2: 0\n"
     ]
    }
   ],
   "source": [
    "def in_range(mymin, mymax):\n",
    "    return lambda x: mymin <= x < mymax  \n",
    "\n",
    "is_even = lambda x: x % 2 == 0\n",
    "is_odd = lambda x: x % 2 != 0\n",
    "is_greater_than = lambda x, threshold: x > threshold\n",
    "is_less_than = lambda x, threshold: x < threshold\n",
    "is_equal_to = lambda x, y: x == y\n",
    "is_divisible_by = lambda x, d: x % d == 0\n",
    "\n",
    "print(\"Number of Entries passing F1:\", sum(map(F1, data)))\n",
    "print(\"Number of Entries passing F2:\", sum(map(F2, data)))\n",
    "\n",
    "even_indices = sum(map(is_even, data))\n",
    "print(\"Even indices:\", even_indices)\n",
    "\n",
    "odd_indices = sum(map(is_odd, data))\n",
    "print(\"Odd indices:\", odd_indices)\n",
    "\n",
    "greater_than_5_count = sum(map(lambda x: is_greater_than(x, 5), data))\n",
    "print(\"Numbers greater than 5:\", greater_than_5_count)\n",
    "\n",
    "less_than_10_count = sum(map(lambda x: is_less_than(x, 10), data))\n",
    "print(\"Numbers less than 10:\", less_than_10_count)\n",
    "\n",
    "equal_to_10_count = sum(map(lambda x: is_equal_to(x, 10), data))\n",
    "print(\"Numbers equal to 10:\", equal_to_10_count)\n",
    "\n",
    "divisible_by_2_count = sum(map(lambda x: is_divisible_by(x, 2), data))\n",
    "print(\"Numbers divisible by 2:\", divisible_by_2_count)"
   ]
  },
  {
   "cell_type": "markdown",
   "metadata": {},
   "source": [
    "## Monte Carlo\n",
    "\n",
    "*Exercise 7:* Write a \"generator\" function called `generate_function(func,x_min,x_max,N)`, that instead of generating a flat distribution, generates a distribution with functional form coded in `func`. Note that `func` will always be > 0.  \n",
    "\n",
    "Use the test function below and your histogramming functions above to demonstrate that your generator is working properly.\n",
    "\n",
    "Hint: A simple, but slow, solution is to a draw random number `test_x` within the specified range and another number `p` between the `min` and `max` of the function (which you will have to determine). If `p<=function(test_x)`, then place `test_x` on the output. If not, repeat the process, drawing two new numbers. Repeat until you have the specified number of generated numbers, `N`. For this problem, it's OK to determine the `min` and `max` by numerically sampling the function.  "
   ]
  },
  {
   "cell_type": "code",
   "execution_count": 171,
   "metadata": {},
   "outputs": [],
   "source": [
    "def generate_function(func,x_min,x_max,N=1000):\n",
    "    out = list()\n",
    "\n",
    "    x_val = [x_min + (x_max - x_min) * random.random() for i in range(1000)]  \n",
    "    func_val = [func(x) for x in x_val]\n",
    "    func_min = min(func_val)\n",
    "    func_max = max(func_val)\n",
    "    \n",
    "    while len(out) < N:\n",
    "        test_x = x_min + (x_max - x_min) * random.random()  \n",
    "        p = func_min + (func_max - func_min) * random.random() \n",
    "        if p <= func(test_x):\n",
    "            out.append(test_x)\n",
    "            \n",
    "    return out"
   ]
  },
  {
   "cell_type": "code",
   "execution_count": 172,
   "metadata": {},
   "outputs": [
    {
     "name": "stdout",
     "output_type": "stream",
     "text": [
      "[-5.0, -4.5]: ##########\n",
      "[-4.5, -4.0]: #########\n",
      "[-4.0, -3.5]: #########\n",
      "[-3.5, -3.0]: #######\n",
      "[-3.0, -2.5]: ######\n",
      "[-2.5, -2.0]: ###\n",
      "[-2.0, -1.5]: ###\n",
      "[-1.5, -1.0]: \n",
      "[-1.0, -0.5]: #\n",
      "[-0.5, -0.0]: #\n",
      "[-0.0, 0.5]: ###\n",
      "[0.5, 1.0]: #####\n",
      "[1.0, 1.5]: ######\n",
      "[1.5, 2.0]: ########\n",
      "[2.0, 2.5]: ##########\n",
      "[2.5, 3.0]: ###########\n",
      "[3.0, 3.5]: ###############\n",
      "[3.5, 4.0]: ##############\n",
      "[4.0, 4.5]: ####################\n",
      "[4.5, 5.0]: #################\n"
     ]
    },
    {
     "data": {
      "text/plain": [
       "([65,\n",
       "  58,\n",
       "  54,\n",
       "  45,\n",
       "  40,\n",
       "  21,\n",
       "  16,\n",
       "  2,\n",
       "  5,\n",
       "  8,\n",
       "  18,\n",
       "  29,\n",
       "  36,\n",
       "  51,\n",
       "  64,\n",
       "  72,\n",
       "  93,\n",
       "  86,\n",
       "  126,\n",
       "  110],\n",
       " [-4.99967743024177,\n",
       "  -4.4998900562397965,\n",
       "  -4.000102682237822,\n",
       "  -3.500315308235848,\n",
       "  -3.0005279342338738,\n",
       "  -2.5007405602318995,\n",
       "  -2.0009531862299257,\n",
       "  -1.5011658122279514,\n",
       "  -1.0013784382259772,\n",
       "  -0.5015910642240033,\n",
       "  -0.0018036902220286422,\n",
       "  0.4979836837799452,\n",
       "  0.997771057781919,\n",
       "  1.4975584317838937,\n",
       "  1.9973458057858675,\n",
       "  2.497133179787842,\n",
       "  2.996920553789816,\n",
       "  3.49670792779179,\n",
       "  3.9964953017937637,\n",
       "  4.496282675795739,\n",
       "  4.996070049797713])"
      ]
     },
     "execution_count": 172,
     "metadata": {},
     "output_type": "execute_result"
    }
   ],
   "source": [
    "# A test function\n",
    "def test_func(x,a=1,b=1):\n",
    "    return abs(a*x+b)\n",
    "\n",
    "data = generate_function(test_func, -5, 5, N=1000) \n",
    "\n",
    "h, b = histogram(data, n_bins=20) \n",
    "draw_histogram(data, n_bins=20) "
   ]
  },
  {
   "cell_type": "markdown",
   "metadata": {},
   "source": [
    "*Exercise 8:* Use your function to generate 1000 numbers that are normal distributed, using the `gaussian` function below. Confirm the mean and variance of the data is close to the mean and variance you specify when building the Gaussian. Histogram the data. "
   ]
  },
  {
   "cell_type": "code",
   "execution_count": 174,
   "metadata": {},
   "outputs": [
    {
     "name": "stdout",
     "output_type": "stream",
     "text": [
      "Generated Data Mean: 0.06624524102807353\n",
      "Generated Data Variance: 1.0060284860228668\n",
      "Mean: 0\n",
      "Variance: 1\n",
      "[-3.3, -2.9]: ########\n",
      "[-2.9, -2.6]: ########\n",
      "[-2.6, -2.2]: ######\n",
      "[-2.2, -1.9]: ###\n",
      "[-1.9, -1.5]: ####\n",
      "[-1.5, -1.2]: \n",
      "[-1.2, -0.9]: #\n",
      "[-0.9, -0.5]: ##\n",
      "[-0.5, -0.2]: #\n",
      "[-0.2, 0.2]: ##\n",
      "[0.2, 0.5]: #####\n",
      "[0.5, 0.8]: ######\n",
      "[0.8, 1.2]: ######\n",
      "[1.2, 1.5]: ##########\n",
      "[1.5, 1.9]: #########\n",
      "[1.9, 2.2]: ##############\n",
      "[2.2, 2.6]: ###############\n",
      "[2.6, 2.9]: ##############\n",
      "[2.9, 3.2]: ##################\n",
      "[3.2, 3.6]: ####################\n"
     ]
    },
    {
     "data": {
      "text/plain": [
       "([27, 24, 20, 11, 13, 1, 2, 5, 4, 7, 15, 19, 18, 33, 28, 44, 49, 45, 56, 64],\n",
       " [-3.255240865632949,\n",
       "  -2.9135886440050767,\n",
       "  -2.5719364223772043,\n",
       "  -2.230284200749332,\n",
       "  -1.8886319791214596,\n",
       "  -1.5469797574935873,\n",
       "  -1.205327535865715,\n",
       "  -0.8636753142378426,\n",
       "  -0.5220230926099703,\n",
       "  -0.18037087098209792,\n",
       "  0.16128135064577442,\n",
       "  0.5029335722736468,\n",
       "  0.8445857939015191,\n",
       "  1.1862380155293915,\n",
       "  1.5278902371572638,\n",
       "  1.8695424587851361,\n",
       "  2.2111946804130085,\n",
       "  2.552846902040881,\n",
       "  2.894499123668753,\n",
       "  3.2361513452966255,\n",
       "  3.577803566924498])"
      ]
     },
     "execution_count": 174,
     "metadata": {},
     "output_type": "execute_result"
    }
   ],
   "source": [
    "import math\n",
    "\n",
    "def gaussian(mean, sigma):\n",
    "    def f(x):\n",
    "        return math.exp(-((x - mean)**2) / (2 * sigma**2)) / math.sqrt(math.pi * sigma)\n",
    "    return f\n",
    "\n",
    "mean_value = 0  \n",
    "sigma_value = 1 \n",
    "normal_data = generate_function(gaussian(mean_value, sigma_value), -5, 5, N=1000)\n",
    "\n",
    "calculated_mean = mean(normal_data) \n",
    "calculated_variance = variance(normal_data)  \n",
    "\n",
    "print(\"Generated Data Mean:\", calculated_mean)\n",
    "print(\"Generated Data Variance:\", calculated_variance)\n",
    "print(\"Mean:\", mean_value)\n",
    "print(\"Variance:\", sigma_value**2) \n",
    "\n",
    "h, b = histogram(normal_data, n_bins=20)\n",
    "draw_histogram(normal_data, n_bins=20)"
   ]
  },
  {
   "cell_type": "markdown",
   "metadata": {},
   "source": [
    "*Exercise 9:* Combine your `generate_function`, `where`, and `in_range` functions above to create an integrate function. Use your integrate function to show that approximately 68% of Normal distribution is within one variance."
   ]
  },
  {
   "cell_type": "code",
   "execution_count": 208,
   "metadata": {},
   "outputs": [
    {
     "name": "stdout",
     "output_type": "stream",
     "text": [
      "Integral within one standard deviation: 0.690945959288666\n"
     ]
    }
   ],
   "source": [
    "def generate_function(func, x_min, x_max, N=1000):\n",
    "    out = list()\n",
    "    x_val = [x_min + (x_max - x_min) * random.random() for i in range(1000)]\n",
    "    func_val = [func(x) for x in x_val]\n",
    "    func_min = min(func_val)\n",
    "    func_max = max(func_val)\n",
    "    while len(out) < N:\n",
    "        test_x = x_min + (x_max - x_min) * random.random()\n",
    "        p = func_min + (func_max - func_min) * random.random()\n",
    "        if p <= func(test_x):\n",
    "            out.append(test_x)\n",
    "    return out\n",
    "\n",
    "def where(mylist, myfunc):\n",
    "    out = []\n",
    "    for i, val in enumerate(mylist):\n",
    "        if myfunc(val):\n",
    "            out.append(i)\n",
    "    return out\n",
    "\n",
    "def in_range(mymin, mymax):\n",
    "    return lambda x: mymin <= x < mymax\n",
    "\n",
    "def integrate(func, x_min, x_max, n_points=1000):\n",
    "    x_values = generate_function(lambda x: 1, x_min, x_max, n_points) \n",
    "    y_values = [func(x) for x in x_values]  \n",
    "    average_y = sum(y_values) / len(y_values)  \n",
    "    integral = average_y * (x_max - x_min)  \n",
    "    return integral\n",
    "\n",
    "def gaussian(mean, sigma):\n",
    "    def f(x):\n",
    "        return math.exp(-((x - mean)**2) / (2 * sigma**2)) / math.sqrt(2 * math.pi * sigma**2)\n",
    "    return f\n",
    "\n",
    "mean_value = 0\n",
    "sigma_value = 1\n",
    "\n",
    "integral_within_one_sigma = integrate(gaussian(mean_value, sigma_value), mean_value - sigma_value, mean_value + sigma_value)\n",
    "\n",
    "print(\"Integral within one standard deviation:\", integral_within_one_sigma)"
   ]
  },
  {
   "cell_type": "code",
   "execution_count": null,
   "metadata": {},
   "outputs": [],
   "source": []
  }
 ],
 "metadata": {
  "kernelspec": {
   "display_name": "Python 3 (ipykernel)",
   "language": "python",
   "name": "python3"
  },
  "language_info": {
   "codemirror_mode": {
    "name": "ipython",
    "version": 3
   },
   "file_extension": ".py",
   "mimetype": "text/x-python",
   "name": "python",
   "nbconvert_exporter": "python",
   "pygments_lexer": "ipython3",
   "version": "3.12.8"
  }
 },
 "nbformat": 4,
 "nbformat_minor": 4
}
