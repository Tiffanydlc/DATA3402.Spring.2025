{
 "cells": [
  {
   "cell_type": "markdown",
   "metadata": {
    "id": "2hf9Us0JjKGB"
   },
   "source": [
    "# Lab 4- Object Oriented Programming\n",
    "\n",
    "For all of the exercises below, make sure you provide tests of your solutions.\n"
   ]
  },
  {
   "cell_type": "markdown",
   "metadata": {
    "id": "wb7DKoxdjKGD"
   },
   "source": [
    "1. Write a \"counter\" class that can be incremented up to a specified maximum value, will print an error if an attempt is made to increment beyond that value, and allows reseting the counter."
   ]
  },
  {
   "cell_type": "code",
   "execution_count": 270,
   "metadata": {
    "id": "sRvCTK36jKGD"
   },
   "outputs": [],
   "source": [
    "class counter:\n",
    "  def __init__(self, max_value):\n",
    "    self.max_value= max_value\n",
    "    self.current_value =0\n",
    "\n",
    "  def increment(self):\n",
    "    if self.current_value < self.max_value:\n",
    "      self.current_value += 1\n",
    "    else:\n",
    "      print(\"Error: Increment is beyond the value\")\n",
    "\n",
    "  def reset_counter(self):\n",
    "    self.current_value = 0"
   ]
  },
  {
   "cell_type": "code",
   "execution_count": 271,
   "metadata": {
    "colab": {
     "base_uri": "https://localhost:8080/"
    },
    "id": "CivO-GNPnXaG",
    "outputId": "92ac3286-3431-47c6-b016-f4dac4c8f102"
   },
   "outputs": [
    {
     "name": "stdout",
     "output_type": "stream",
     "text": [
      "Max value: 12 \n",
      "Current value: 5\n"
     ]
    }
   ],
   "source": [
    "a_counter = counter(12)\n",
    "a_counter.increment()\n",
    "a_counter.increment()\n",
    "a_counter.increment()\n",
    "a_counter.increment()\n",
    "a_counter.increment()\n",
    "print(\"Max value:\", a_counter.max_value,\n",
    "      \"\\nCurrent value:\", a_counter.current_value)"
   ]
  },
  {
   "cell_type": "code",
   "execution_count": 272,
   "metadata": {
    "colab": {
     "base_uri": "https://localhost:8080/"
    },
    "id": "JTJ2rNi6Plva",
    "outputId": "fc849a08-6a23-4737-f934-c9eba8dd4d97"
   },
   "outputs": [
    {
     "name": "stdout",
     "output_type": "stream",
     "text": [
      "Error: Increment is beyond the value\n",
      "Max value: 4 \n",
      "Current value: 4\n"
     ]
    }
   ],
   "source": [
    "b_counter = counter(4)\n",
    "b_counter.increment()\n",
    "b_counter.increment()\n",
    "b_counter.increment()\n",
    "b_counter.increment()\n",
    "b_counter.increment()\n",
    "print(\"Max value:\", b_counter.max_value,\n",
    "      \"\\nCurrent value:\", b_counter.current_value)"
   ]
  },
  {
   "cell_type": "code",
   "execution_count": 273,
   "metadata": {
    "colab": {
     "base_uri": "https://localhost:8080/"
    },
    "id": "CWTa7_muWzI9",
    "outputId": "c8a41050-a7cc-49db-eeea-0279b8975acf"
   },
   "outputs": [
    {
     "name": "stdout",
     "output_type": "stream",
     "text": [
      "Max value: 4 \n",
      "Current value: 0\n"
     ]
    }
   ],
   "source": [
    "b_counter.reset_counter()\n",
    "print(\"Max value:\", b_counter.max_value,\n",
    "      \"\\nCurrent value:\", b_counter.current_value)"
   ]
  },
  {
   "cell_type": "markdown",
   "metadata": {
    "id": "f12VBQpkjKGE"
   },
   "source": [
    "2. Copy and paste your solution to question 1 and modify it so that all the data held by the counter is private. Implement functions to check the value of the counter, check the maximum value, and check if the counter is at the maximum."
   ]
  },
  {
   "cell_type": "code",
   "execution_count": 274,
   "metadata": {
    "id": "Xn8lSSdvjKGE"
   },
   "outputs": [],
   "source": [
    "class counter:\n",
    "  def __init__(self, max_value):\n",
    "    self.__max_value= max_value\n",
    "    self.__current_value =0\n",
    "\n",
    "  def increment(self):\n",
    "    if self.__current_value < self.__max_value:\n",
    "      self.__current_value += 1\n",
    "    else:\n",
    "      print(\"Error: Increment is beyond the value\")\n",
    "\n",
    "  def reset_counter(self):\n",
    "    self.__current_value = 0\n",
    "\n",
    "  def get_current_value(self):\n",
    "    return self.__current_value\n",
    "\n",
    "  def get_max_value(self):\n",
    "    return self.__max_value\n",
    "\n",
    "  def is_at_max(self):\n",
    "    if self.__current_value == self.__max_value:\n",
    "      return True\n",
    "    else:\n",
    "      return False"
   ]
  },
  {
   "cell_type": "code",
   "execution_count": 275,
   "metadata": {
    "colab": {
     "base_uri": "https://localhost:8080/"
    },
    "id": "0n3MLn3wQ9J5",
    "outputId": "a3d4a013-2e90-4a07-947a-25bfdfe34c17"
   },
   "outputs": [
    {
     "name": "stdout",
     "output_type": "stream",
     "text": [
      "Max value: 5 \n",
      "Current value: 5 \n",
      "Is at max: True\n"
     ]
    }
   ],
   "source": [
    "c_counter = counter(5)\n",
    "c_counter.increment()\n",
    "c_counter.increment()\n",
    "c_counter.increment()\n",
    "c_counter.increment()\n",
    "c_counter.increment()\n",
    "print(\"Max value:\", c_counter.get_max_value(),\n",
    "      \"\\nCurrent value:\", c_counter.get_current_value(),\n",
    "      \"\\nIs at max:\", c_counter.is_at_max())"
   ]
  },
  {
   "cell_type": "markdown",
   "metadata": {
    "id": "77ml2QNTjKGE"
   },
   "source": [
    "3. Implement a class to represent a rectangle, holding the length, width, and $x$ and $y$ coordinates of a corner of the object. Implement functions that compute the area and perimeter of the rectangle. Make all data members private and privide accessors to retrieve values of data members."
   ]
  },
  {
   "cell_type": "code",
   "execution_count": 276,
   "metadata": {
    "id": "6pv_iAsjjKGF"
   },
   "outputs": [],
   "source": [
    "class rectangle:\n",
    "  def __init__(self, length, width, x, y):\n",
    "    self.__length = length\n",
    "    self.__width = width\n",
    "    self.__x = x\n",
    "    self.__y = y\n",
    "\n",
    "  def area(self):\n",
    "    area_rectangle = self.__length * self.__width\n",
    "    return area_rectangle\n",
    "\n",
    "  def perimeter(self):\n",
    "    perimeter_rectangle = 2* (self.__length + self.__width)\n",
    "    return perimeter_rectangle\n",
    "\n",
    "  def get_length(self):\n",
    "    return self.__length\n",
    "\n",
    "  def get_width(self):\n",
    "    return self.__width\n",
    "\n",
    "  def get_x(self):\n",
    "    return self.__x\n",
    "\n",
    "  def get_y(self):\n",
    "    return self.__y"
   ]
  },
  {
   "cell_type": "code",
   "execution_count": 277,
   "metadata": {
    "colab": {
     "base_uri": "https://localhost:8080/"
    },
    "id": "U2uMqcJ_7vEC",
    "outputId": "950ee1c6-a2e7-46de-d66e-d979bed018cd"
   },
   "outputs": [
    {
     "name": "stdout",
     "output_type": "stream",
     "text": [
      "Area: 50 \n",
      "Perimeter: 30 \n",
      "Length: 5 \n",
      "nWidth: 10 \n",
      "X: 1 \n",
      "Y: 2\n"
     ]
    }
   ],
   "source": [
    "a_rectangle = rectangle(5, 10, 1, 2)\n",
    "print(\"Area:\", a_rectangle.area(),\n",
    "      \"\\nPerimeter:\", a_rectangle.perimeter(),\n",
    "      \"\\nLength:\", a_rectangle.get_length(),\n",
    "      \"\\nnWidth:\", a_rectangle.get_width(),\n",
    "      \"\\nX:\", a_rectangle.get_x(),\n",
    "      \"\\nY:\", a_rectangle.get_y())"
   ]
  },
  {
   "cell_type": "markdown",
   "metadata": {
    "id": "PRMVN9-rjKGF"
   },
   "source": [
    "4. Implement a class to represent a circle, holding the radius and $x$ and $y$ coordinates of center of the object. Implement functions that compute the area and perimeter of the rectangle. Make all data members private and privide accessors to retrieve values of data members."
   ]
  },
  {
   "cell_type": "code",
   "execution_count": 278,
   "metadata": {
    "id": "UJD13V0ojKGF"
   },
   "outputs": [],
   "source": [
    "from math import pi\n",
    "class circle:\n",
    "  def __init__(self, radius, x, y):\n",
    "    self.__radius = radius\n",
    "    self.__x = x\n",
    "    self.__y = y\n",
    "\n",
    "  def area_circle(self):\n",
    "    calculate_area_circle = pi * self.__radius **2\n",
    "    return round(calculate_area_circle, 2)\n",
    "\n",
    "  def perimeter_circle(self):\n",
    "    calculate_perimeter_circle = 2*pi*self.__radius\n",
    "    return round(calculate_perimeter_circle, 2)\n",
    "\n",
    "  def get_radius(self):\n",
    "    return self.__radius\n",
    "\n",
    "  def get_x_coord(self):\n",
    "    return self.__x\n",
    "\n",
    "  def get_y_coord(self):\n",
    "    return self.__y"
   ]
  },
  {
   "cell_type": "code",
   "execution_count": 279,
   "metadata": {
    "colab": {
     "base_uri": "https://localhost:8080/"
    },
    "id": "dsgpjYLsc6Ne",
    "outputId": "020210d3-7727-4f15-80ac-b3f78baa96b5"
   },
   "outputs": [
    {
     "name": "stdout",
     "output_type": "stream",
     "text": [
      "Area: 78.54 \n",
      "Perimeter: 31.42 \n",
      "Radius: 5 \n",
      "X: 1 \n",
      "Y: 2\n"
     ]
    }
   ],
   "source": [
    "a_circle = circle(5, 1, 2)\n",
    "print(\"Area:\", a_circle.area_circle(),\n",
    "      \"\\nPerimeter:\", a_circle.perimeter_circle(),\n",
    "      \"\\nRadius:\", a_circle.get_radius(),\n",
    "      \"\\nX:\", a_circle.get_x_coord(),\n",
    "      \"\\nY:\", a_circle.get_y_coord())"
   ]
  },
  {
   "cell_type": "markdown",
   "metadata": {
    "id": "WKROjSNkjKGF"
   },
   "source": [
    "5. Implement a common base class for the classes implemented in 3 and 4 above which implements all common methods as not implemented functions (virtual). Re-implement your regtangle and circule classes to inherit from the base class and overload the functions accordingly."
   ]
  },
  {
   "cell_type": "code",
   "execution_count": 280,
   "metadata": {
    "id": "6CyfOc6QjKGG"
   },
   "outputs": [],
   "source": [
    "class shapes:\n",
    "  def __init__(self, x=0, y=0):\n",
    "    self.__x = x\n",
    "    self.__y = y\n",
    "\n",
    "  def get_x(self):\n",
    "    return self.__x\n",
    "\n",
    "  def get_y(self):\n",
    "    return self.__y\n",
    "\n",
    "  def area(self):\n",
    "    raise NotImplementedError\n",
    "\n",
    "  def perimeter(self):\n",
    "    raise NotImplementedError\n",
    "\n",
    "\n",
    "class Rectangle(shapes):\n",
    "  def __init__(self, length, width, x, y):\n",
    "    shapes.__init__(self, x, y)\n",
    "    self.__length = length\n",
    "    self.__width = width\n",
    "\n",
    "  def area(self):\n",
    "    area_rectangle = self.__length * self.__width\n",
    "    return area_rectangle\n",
    "\n",
    "  def perimeter(self):\n",
    "    perimeter_rectangle = 2* (self.__length + self.__width)\n",
    "    return perimeter_rectangle\n",
    "\n",
    "  def get_length(self):\n",
    "    return self.__length\n",
    "\n",
    "  def get_width(self):\n",
    "    return self.__width\n",
    "\n",
    "class Circle(shapes):\n",
    "  def __init__(self, radius, x, y):\n",
    "    shapes.__init__(self, x, y)\n",
    "    self.__radius = radius\n",
    "\n",
    "  def area(self):\n",
    "    calculate_area_circle = pi * self.__radius **2\n",
    "    return round(calculate_area_circle, 2)\n",
    "\n",
    "  def perimeter(self):\n",
    "    calculate_perimeter_circle = 2*pi*self.__radius\n",
    "    return round(calculate_perimeter_circle, 2)\n",
    "\n",
    "  def get_radius(self):\n",
    "    return self.__radius"
   ]
  },
  {
   "cell_type": "code",
   "execution_count": 281,
   "metadata": {
    "colab": {
     "base_uri": "https://localhost:8080/"
    },
    "id": "M3dnHEoDu-L7",
    "outputId": "a8ce4ae1-1e9e-4035-ecb6-a827000a94ca"
   },
   "outputs": [
    {
     "name": "stdout",
     "output_type": "stream",
     "text": [
      "Rectangle coordinates: (5, 3) \n",
      "Length: 4 \n",
      "Width: 3 \n",
      "Area: 12 \n",
      "Perimeter: 14\n",
      "\n",
      "Circle coordinates: (10, 7) \n",
      "Radius: 10 \n",
      "Area: 314.16 \n",
      "Perimeter: 62.83\n"
     ]
    }
   ],
   "source": [
    "b_rectangle = Rectangle(4, 3, 5, 3)\n",
    "print(\"Rectangle coordinates:\", (b_rectangle.get_x(), b_rectangle.get_y()),\n",
    "      \"\\nLength:\", b_rectangle.get_length(),\n",
    "      \"\\nWidth:\", b_rectangle.get_width(),\n",
    "      \"\\nArea:\", b_rectangle.area(),\n",
    "      \"\\nPerimeter:\", b_rectangle.perimeter())\n",
    "\n",
    "b_circle = Circle(10, 10, 7)\n",
    "print(\"\\nCircle coordinates:\", (b_circle.get_x(), b_circle.get_y()),\n",
    "      \"\\nRadius:\", b_circle.get_radius(),\n",
    "      \"\\nArea:\", b_circle.area(),\n",
    "      \"\\nPerimeter:\", b_circle.perimeter())\n"
   ]
  },
  {
   "cell_type": "markdown",
   "metadata": {
    "id": "z4dlkJKNjKGG"
   },
   "source": [
    "6. Implement a triangle class analogous to the rectangle and circle in question 5."
   ]
  },
  {
   "cell_type": "code",
   "execution_count": 282,
   "metadata": {
    "id": "_ODietXfjKGG"
   },
   "outputs": [],
   "source": [
    "class Triangle(shapes):\n",
    "    def __init__(self, side_a, side_c, base, height, x, y):\n",
    "      shapes.__init__(self, x, y)\n",
    "      self.__side_a = side_a\n",
    "      self.__side_c = side_c\n",
    "      self.__base = base\n",
    "      self.__height = height\n",
    "\n",
    "    def area(self):\n",
    "      area_triangle = (self.__base * self.__height)/2\n",
    "      return area_triangle\n",
    "\n",
    "    def perimeter(self):\n",
    "      perimeter_triangle = self.__side_a + self.__side_c + self.__base\n",
    "      return perimeter_triangle\n",
    "\n",
    "    def get_side_a(self):\n",
    "      return self.__side_a\n",
    "\n",
    "    def get_side_c(self):\n",
    "      return self.__side_c\n",
    "\n",
    "    def get_base(self):\n",
    "      return self.__base\n"
   ]
  },
  {
   "cell_type": "code",
   "execution_count": 283,
   "metadata": {
    "colab": {
     "base_uri": "https://localhost:8080/"
    },
    "id": "C32be6KopwdP",
    "outputId": "aed2a47b-a978-4096-971a-25fff8046bd5"
   },
   "outputs": [
    {
     "name": "stdout",
     "output_type": "stream",
     "text": [
      "Triangle coordinates: (1, 2) \n",
      "Area: 1.0 \n",
      "Perimeter: 16 \n",
      "Side A: 5 \n",
      "Side C: 10 \n",
      "Base: 1\n"
     ]
    }
   ],
   "source": [
    "a_triangle = Triangle(5, 10, 1, 2, 1, 2)\n",
    "print(\"Triangle coordinates:\", (a_triangle.get_x(), a_triangle.get_y()),\n",
    "      \"\\nArea:\", a_triangle.area(),\n",
    "      \"\\nPerimeter:\", a_triangle.perimeter(),\n",
    "      \"\\nSide A:\", a_triangle.get_side_a(),\n",
    "      \"\\nSide C:\", a_triangle.get_side_c(),\n",
    "      \"\\nBase:\", a_triangle.get_base())"
   ]
  },
  {
   "cell_type": "markdown",
   "metadata": {
    "id": "1geTNrVYjKGG"
   },
   "source": [
    "7. Add a function to the object classes, including the base, that returns a list of up to 16 pairs of  $x$ and $y$ points on the parameter of the object."
   ]
  },
  {
   "cell_type": "code",
   "execution_count": 284,
   "metadata": {
    "id": "Ghopz0bljKGH"
   },
   "outputs": [],
   "source": [
    "from math import sin, cos, pi\n",
    "class shapes:\n",
    "  def __init__(self, x, y):\n",
    "    self.__x = x\n",
    "    self.__y = y\n",
    "\n",
    "  def get_x(self):\n",
    "    return self.__x\n",
    "\n",
    "  def get_y(self):\n",
    "    return self.__y\n",
    "\n",
    "  def area(self):\n",
    "    raise NotImplementedError\n",
    "\n",
    "  def perimeter(self):\n",
    "    raise NotImplementedError\n",
    "\n",
    "  def perimeter_points(self):\n",
    "    raise NotImplementedError\n",
    "\n",
    "\n",
    "class Rectangle(shapes):\n",
    "  def __init__(self, length, width, x, y):\n",
    "    shapes.__init__(self, x, y)\n",
    "    self.__length = length\n",
    "    self.__width = width\n",
    "\n",
    "  def area(self):\n",
    "    area_rectangle = self.__length * self.__width\n",
    "    return area_rectangle\n",
    "\n",
    "  def perimeter(self):\n",
    "    perimeter_rectangle = 2* (self.__length + self.__width)\n",
    "    return perimeter_rectangle\n",
    "\n",
    "  def perimeter_points(self):\n",
    "    points = []\n",
    "    for i in range(16):\n",
    "      if i < 4:\n",
    "        x = self.get_x() + (i / 4) * self.__length\n",
    "        y = self.get_y()\n",
    "      elif i < 8:\n",
    "        x = self.get_x() + self.__length\n",
    "        y = self.get_y() + ((i - 4) / 4) * self.__width\n",
    "      elif i < 12:\n",
    "        x = self.get_x() + (12 - i) / 4 * self.__length\n",
    "        y = self.get_y() + self.__width\n",
    "      else:\n",
    "        x = self.get_x()\n",
    "        y = self.get_y() + (16 - i) / 4 * self.__width\n",
    "      points.append((x, y))\n",
    "    return points\n",
    "\n",
    "  def get_length(self):\n",
    "    return self.__length\n",
    "\n",
    "  def get_width(self):\n",
    "    return self.__width\n",
    "\n",
    "class Circle(shapes):\n",
    "  def __init__(self, radius, x, y):\n",
    "    shapes.__init__(self, x, y)\n",
    "    self.__radius = radius\n",
    "\n",
    "  def area(self):\n",
    "    calculate_area_circle = pi * self.__radius **2\n",
    "    return round(calculate_area_circle, 2)\n",
    "\n",
    "  def perimeter(self):\n",
    "    calculate_perimeter_circle = 2*pi*self.__radius\n",
    "    return round(calculate_perimeter_circle, 2)\n",
    "\n",
    "  def perimeter_points(self):\n",
    "    points = []\n",
    "    num_points = 16\n",
    "    for i in range(num_points):\n",
    "        angle = 2 * pi * i / num_points\n",
    "        x = self.get_x() + self.__radius * cos(angle)\n",
    "        y = self.get_y() + self.__radius * sin(angle)\n",
    "        points.append((round(x, 2), round(y, 2)))\n",
    "    return points, 2\n",
    "\n",
    "  def get_radius(self):\n",
    "    return self.__radius\n",
    "\n",
    "class Triangle(shapes):\n",
    "  def __init__(self, side_a, side_c, base, height, x, y):\n",
    "      shapes.__init__(self, x, y)\n",
    "      self.__side_a = side_a\n",
    "      self.__side_c = side_c\n",
    "      self.__base = base\n",
    "      self.__height = height\n",
    "\n",
    "\n",
    "  def area(self):\n",
    "      area_triangle = (self.__base * self.__height)/2\n",
    "      return area_triangle\n",
    "\n",
    "  def perimeter(self):\n",
    "      perimeter_triangle = self.__side_a + self.__side_c + self.__base\n",
    "      return perimeter_triangle\n",
    "\n",
    "  def perimeter_points(self):\n",
    "    points = []\n",
    "    for i in range(16):\n",
    "        if i < 5:\n",
    "            x = self.get_x() + (i / 4) * self.__side_a\n",
    "            y = self.get_y()\n",
    "        elif i < 10:\n",
    "            x = (self.get_x() + self.__side_a) - (i - 4) / 5 * (self.__side_a / 2)\n",
    "            y = self.get_y() + ((i - 4) / 5) * self.__height\n",
    "        else:\n",
    "            x = self.get_x() + ((10 - i) / 5) * (self.__side_a / 2)\n",
    "            y = self.get_y() + (5 / 5) * self.__height\n",
    "        points.append((x, y))\n",
    "    return points\n",
    "\n",
    "  def get_side_a(self):\n",
    "      return self.__side_a\n",
    "\n",
    "  def get_side_c(self):\n",
    "      return self.__side_c\n",
    "\n",
    "  def get_base(self):\n",
    "      return self.__base\n"
   ]
  },
  {
   "cell_type": "code",
   "execution_count": 285,
   "metadata": {
    "colab": {
     "base_uri": "https://localhost:8080/"
    },
    "id": "A3Qh9_U3EqK3",
    "outputId": "d33dc8ec-d1e0-4da9-9348-d519c7195e21"
   },
   "outputs": [
    {
     "name": "stdout",
     "output_type": "stream",
     "text": [
      "Rectangle Perimeter Points: [(0.0, 0), (2.5, 0), (5.0, 0), (7.5, 0), (10, 0.0), (10, 1.5), (10, 3.0), (10, 4.5), (10.0, 6), (7.5, 6), (5.0, 6), (2.5, 6), (0, 6.0), (0, 4.5), (0, 3.0), (0, 1.5)]\n",
      "Circle Perimeter Points: ([(17.0, 10.0), (16.47, 12.68), (14.95, 14.95), (12.68, 16.47), (10.0, 17.0), (7.32, 16.47), (5.05, 14.95), (3.53, 12.68), (3.0, 10.0), (3.53, 7.32), (5.05, 5.05), (7.32, 3.53), (10.0, 3.0), (12.68, 3.53), (14.95, 5.05), (16.47, 7.32)], 2)\n",
      "Triangle Perimeter Points: [(0.0, 0), (1.25, 0), (2.5, 0), (3.75, 0), (5.0, 0), (4.5, 0.0), (4.0, 0.0), (3.5, 0.0), (3.0, 0.0), (2.5, 0.0), (0.0, 0.0), (-0.5, 0.0), (-1.0, 0.0), (-1.5, 0.0), (-2.0, 0.0), (-2.5, 0.0)]\n"
     ]
    }
   ],
   "source": [
    "b_rectangle = Rectangle(10, 6, 0, 0)\n",
    "print(\"Rectangle Perimeter Points:\", b_rectangle.perimeter_points())\n",
    "\n",
    "b_circle = Circle(7, 10, 10)\n",
    "print(\"Circle Perimeter Points:\", b_circle.perimeter_points())\n",
    "\n",
    "b_triangle = Triangle(5, 5, 8, 0, 0, 0)\n",
    "print(\"Triangle Perimeter Points:\", b_triangle.perimeter_points())\n"
   ]
  },
  {
   "cell_type": "markdown",
   "metadata": {
    "id": "pP4AKtJqjKGH"
   },
   "source": [
    "8. Add a function to the object classes, including the base, that tests if a given set of $x$ and $y$ coordinates are inside of the object. You'll have to think through how to determine if a set of coordinates are inside an object for each object type."
   ]
  },
  {
   "cell_type": "code",
   "execution_count": 286,
   "metadata": {
    "id": "fSPftyShjKGH"
   },
   "outputs": [],
   "source": [
    "class shapes:\n",
    "  def __init__(self, x, y):\n",
    "    self.__x = x\n",
    "    self.__y = y\n",
    "\n",
    "  def get_x(self):\n",
    "    return self.__x\n",
    "\n",
    "  def get_y(self):\n",
    "    return self.__y\n",
    "\n",
    "  def area(self):\n",
    "    raise NotImplementedError\n",
    "\n",
    "  def perimeter(self):\n",
    "    raise NotImplementedError\n",
    "\n",
    "  def perimeter_points(self):\n",
    "    raise NotImplementedError\n",
    "\n",
    "  def coords_inside(self, x, y):\n",
    "    raise NotImplementedError\n",
    "\n",
    "class Rectangle(shapes):\n",
    "  def __init__(self, length, width, x, y):\n",
    "    shapes.__init__(self, x, y)\n",
    "    self.__length = length\n",
    "    self.__width = width\n",
    "\n",
    "  def area(self):\n",
    "    area_rectangle = self.__length * self.__width\n",
    "    return area_rectangle\n",
    "\n",
    "  def perimeter(self):\n",
    "    perimeter_rectangle = 2* (self.__length + self.__width)\n",
    "    return perimeter_rectangle\n",
    "\n",
    "  def perimeter_points(self):\n",
    "    points = []\n",
    "    for i in range(16):\n",
    "      if i < 4:\n",
    "        x = self.get_x() + (i / 4) * self.__length\n",
    "        y = self.get_y()\n",
    "      elif i < 8:\n",
    "        x = self.get_x() + self.__length\n",
    "        y = self.get_y() + ((i - 4) / 4) * self.__width\n",
    "      elif i < 12:\n",
    "        x = self.get_x() + (12 - i) / 4 * self.__length\n",
    "        y = self.get_y() + self.__width\n",
    "      else:\n",
    "        x = self.get_x()\n",
    "        y = self.get_y() + (16 - i) / 4 * self.__width\n",
    "      points.append((x, y))\n",
    "    return points\n",
    "\n",
    "  def coords_inside(self, x, y):\n",
    "     x1 = self.get_x()\n",
    "     x2 = x1 + self.__length\n",
    "     y1 = self.get_y()\n",
    "     y2 = y1 + self.__width\n",
    "     return x1 <= x <= x2 and y1 <= y <= y2\n",
    "\n",
    "  def get_length(self):\n",
    "    return self.__length\n",
    "\n",
    "  def get_width(self):\n",
    "    return self.__width\n",
    "\n",
    "class Circle(shapes):\n",
    "  def __init__(self, radius, x, y):\n",
    "    shapes.__init__(self, x, y)\n",
    "    self.__radius = radius\n",
    "\n",
    "  def area(self):\n",
    "    calculate_area_circle = pi * self.__radius **2\n",
    "    return round(calculate_area_circle, 2)\n",
    "\n",
    "  def perimeter(self):\n",
    "    calculate_perimeter_circle = 2*pi*self.__radius\n",
    "    return round(calculate_perimeter_circle, 2)\n",
    "\n",
    "  def perimeter_points(self):\n",
    "    points = []\n",
    "    num_points = 16\n",
    "    for i in range(num_points):\n",
    "        angle = 2 * pi * i / num_points\n",
    "        x = self.get_x() + self.__radius * cos(angle)\n",
    "        y = self.get_y() + self.__radius * sin(angle)\n",
    "        points.append((round(x, 2), round(y, 2)))\n",
    "    return points\n",
    "\n",
    "  def coords_inside(self, x, y):\n",
    "    distance = ((x - self.get_x())**2 + (y - self.get_y())**2)**0.5\n",
    "    return distance <= self.__radius\n",
    "\n",
    "  def get_radius(self):\n",
    "    return self.__radius\n",
    "\n",
    "class Triangle(shapes):\n",
    "  def __init__(self, side_a, side_c, base, height, x, y):\n",
    "      shapes.__init__(self, x, y)\n",
    "      self.__side_a = side_a\n",
    "      self.__side_c = side_c\n",
    "      self.__base = base\n",
    "      self.__height = height\n",
    "\n",
    "\n",
    "  def area(self):\n",
    "      area_triangle = (self.__base * self.__height)/2\n",
    "      return area_triangle\n",
    "\n",
    "  def perimeter(self):\n",
    "      perimeter_triangle = self.__side_a + self.__side_c + self.__base\n",
    "      return perimeter_triangle\n",
    "\n",
    "  def perimeter_points(self):\n",
    "    points = []\n",
    "    for i in range(16):\n",
    "        if i < 5:\n",
    "            x = self.get_x() + (i / 4) * self.__side_a\n",
    "            y = self.get_y()\n",
    "        elif i < 10:\n",
    "            x = (self.get_x() + self.__side_a) - (i - 4) / 5 * (self.__side_a / 2)\n",
    "            y = self.get_y() + ((i - 4) / 5) * self.__height\n",
    "        else:\n",
    "            x = self.get_x() + ((10 - i) / 5) * (self.__side_a / 2)\n",
    "            y = self.get_y() + (5 / 5) * self.__height\n",
    "        points.append((x, y))\n",
    "    return points\n",
    "\n",
    "  def coords_inside(self, x, y):\n",
    "        if x < self.get_x() or x > self.get_x() + self.__base:\n",
    "            return False\n",
    "        expected_y = self.get_y() + (self.__height - ((x - self.get_x()) * self.__height / self.__base))\n",
    "        return self.get_y() <= y <= expected_y\n",
    "\n",
    "  def get_side_a(self):\n",
    "      return self.__side_a\n",
    "\n",
    "  def get_side_c(self):\n",
    "      return self.__side_c\n",
    "\n",
    "  def get_base(self):\n",
    "      return self.__base"
   ]
  },
  {
   "cell_type": "code",
   "execution_count": 287,
   "metadata": {
    "colab": {
     "base_uri": "https://localhost:8080/"
    },
    "id": "0TdRCbfxNA_p",
    "outputId": "129fd232-563b-4df3-cf10-8810753dbbf6"
   },
   "outputs": [
    {
     "name": "stdout",
     "output_type": "stream",
     "text": [
      "Rectangle: \n",
      "Area: 50 \n",
      "Perimeter: 30 \n",
      "Perimeter Points: [(0.0, 0), (2.5, 0), (5.0, 0), (7.5, 0), (10, 0.0), (10, 1.25), (10, 2.5), (10, 3.75), (10.0, 5), (7.5, 5), (5.0, 5), (2.5, 5), (0, 5.0), (0, 3.75), (0, 2.5), (0, 1.25)] \n",
      "Is the point inside rectangle? True \n",
      "Is the point inside rectangle? False\n",
      "\n",
      "Circle: \n",
      "Area: 78.54 \n",
      "Perimeter: 31.42 \n",
      "Perimeter Points: [(5.0, 0.0), (4.62, 1.91), (3.54, 3.54), (1.91, 4.62), (0.0, 5.0), (-1.91, 4.62), (-3.54, 3.54), (-4.62, 1.91), (-5.0, 0.0), (-4.62, -1.91), (-3.54, -3.54), (-1.91, -4.62), (-0.0, -5.0), (1.91, -4.62), (3.54, -3.54), (4.62, -1.91)] \n",
      "Is the point inside circle? True \n",
      "Is the point inside circle? False\n",
      "\n",
      "Triangle: \n",
      "Area: 10.0 \n",
      "Perimeter: 16 \n",
      "Perimeter Points: [(0.0, 0), (1.25, 0), (2.5, 0), (3.75, 0), (5.0, 0), (4.5, 0.8), (4.0, 1.6), (3.5, 2.4), (3.0, 3.2), (2.5, 4.0), (0.0, 4.0), (-0.5, 4.0), (-1.0, 4.0), (-1.5, 4.0), (-2.0, 4.0), (-2.5, 4.0)] \n",
      "Is the point inside triangle? True \n",
      "Is the point inside triangle? False\n"
     ]
    }
   ],
   "source": [
    "d_rect= Rectangle(10, 5, 0, 0)\n",
    "print(\"Rectangle:\",\n",
    "      \"\\nArea:\", d_rect.area(),\n",
    "      \"\\nPerimeter:\", d_rect.perimeter(),\n",
    "      \"\\nPerimeter Points:\", d_rect.perimeter_points(),\n",
    "      \"\\nIs the point inside rectangle?\", d_rect.coords_inside(3, 2),\n",
    "      \"\\nIs the point inside rectangle?\", d_rect.coords_inside(12, 6))\n",
    "\n",
    "d_circle = Circle(5, 0, 0)\n",
    "print(\"\\nCircle:\",\n",
    "      \"\\nArea:\", d_circle.area(),\n",
    "      \"\\nPerimeter:\", d_circle.perimeter(),\n",
    "      \"\\nPerimeter Points:\", d_circle.perimeter_points(),\n",
    "      \"\\nIs the point inside circle?\", d_circle.coords_inside(3, 4),\n",
    "      \"\\nIs the point inside circle?\", d_circle.coords_inside(10, 10))\n",
    "\n",
    "d_triangle = Triangle(5, 6, 5, 4, 0, 0)\n",
    "print(\"\\nTriangle:\",\n",
    "      \"\\nArea:\", d_triangle.area(),\n",
    "      \"\\nPerimeter:\", d_triangle.perimeter(),\n",
    "      \"\\nPerimeter Points:\", d_triangle.perimeter_points(),\n",
    "      \"\\nIs the point inside triangle?\", d_triangle.coords_inside(2, 2),\n",
    "      \"\\nIs the point inside triangle?\", d_triangle.coords_inside(6, 4))\n"
   ]
  },
  {
   "cell_type": "markdown",
   "metadata": {
    "id": "NGyfGiltjKGH"
   },
   "source": [
    "9. Add a function in the base class of the object classes that returns true/false testing that the object overlaps with another object."
   ]
  },
  {
   "cell_type": "code",
   "execution_count": 290,
   "metadata": {
    "id": "avXYgXMIjKGH"
   },
   "outputs": [],
   "source": [
    "from math import sqrt\n",
    "class Shape:\n",
    "  def __init__(self, x, y):\n",
    "    self.__x = x\n",
    "    self.__y = y\n",
    "\n",
    "  def get_x(self):\n",
    "    return self.__x\n",
    "\n",
    "  def get_y(self):\n",
    "    return self.__y\n",
    "\n",
    "  def area(self):\n",
    "    raise NotImplementedError\n",
    "\n",
    "  def perimeter(self):\n",
    "    raise NotImplementedError\n",
    "\n",
    "  def perimeter_points(self):\n",
    "    raise NotImplementedError\n",
    "\n",
    "  def coords_inside(self, x, y):\n",
    "    raise NotImplementedError\n",
    "\n",
    "  def overlaps(self, other):\n",
    "    raise NotImplementedError\n",
    "\n",
    "class Rectangle(Shape):\n",
    "  def __init__(self, length, width, x, y):\n",
    "    Shape.__init__(self, x, y)\n",
    "    self.__length = length\n",
    "    self.__width = width\n",
    "\n",
    "  def area(self):\n",
    "    area_rectangle = self.__length * self.__width\n",
    "    return area_rectangle\n",
    "\n",
    "  def perimeter(self):\n",
    "    perimeter_rectangle = 2* (self.__length + self.__width)\n",
    "    return perimeter_rectangle\n",
    "\n",
    "  def perimeter_points(self):\n",
    "    points = []\n",
    "    for i in range(16):\n",
    "      if i < 4:\n",
    "        x = self.get_x() + (i / 4) * self.__length\n",
    "        y = self.get_y()\n",
    "      elif i < 8:\n",
    "        x = self.get_x() + self.__length\n",
    "        y = self.get_y() + ((i - 4) / 4) * self.__width\n",
    "      elif i < 12:\n",
    "        x = self.get_x() + (12 - i) / 4 * self.__length\n",
    "        y = self.get_y() + self.__width\n",
    "      else:\n",
    "        x = self.get_x()\n",
    "        y = self.get_y() + (16 - i) / 4 * self.__width\n",
    "      points.append((x, y))\n",
    "    return points\n",
    "\n",
    "  def coords_inside(self, x, y):\n",
    "     x1 = self.get_x()\n",
    "     x2 = x1 + self.__length\n",
    "     y1 = self.get_y()\n",
    "     y2 = y1 + self.__width\n",
    "     return x1 <= x <= x2 and y1 <= y <= y2\n",
    "\n",
    "  def overlaps(self, other):\n",
    "    if isinstance(other, Rectangle):\n",
    "      x1, y1 = self.get_x(), self.get_y()\n",
    "      x2, y2 = other.get_x(), other.get_y()\n",
    "      return not (x1 + self.__length <= x2 or x2 + other.__length <= x1 or\n",
    "                  y1 + self.__width <= y2 or y2 + other.__width <= y1)\n",
    "    elif isinstance(other, Circle):\n",
    "      return other.overlaps_with(self)\n",
    "    elif isinstance(other, Triangle):\n",
    "      return other.overlaps(self)\n",
    "    return False\n",
    "\n",
    "  def get_length(self):\n",
    "    return self.__length\n",
    "\n",
    "  def get_width(self):\n",
    "    return self.__width\n",
    "\n",
    "class Circle(Shape):\n",
    "  def __init__(self, radius, x, y):\n",
    "    Shape.__init__(self, x, y)\n",
    "    self.__radius = radius\n",
    "\n",
    "  def area(self):\n",
    "    calculate_area_circle = pi * self.__radius **2\n",
    "    return round(calculate_area_circle, 2)\n",
    "\n",
    "  def perimeter(self):\n",
    "    calculate_perimeter_circle = 2*pi*self.__radius\n",
    "    return round(calculate_perimeter_circle, 2)\n",
    "\n",
    "  def perimeter_points(self):\n",
    "    points = []\n",
    "    num_points = 16\n",
    "    for i in range(num_points):\n",
    "        angle = 2 * pi * i / num_points\n",
    "        x = self.get_x() + self.__radius * cos(angle)\n",
    "        y = self.get_y() + self.__radius * sin(angle)\n",
    "        points.append((round(x, 2), round(y, 2)))\n",
    "    return points\n",
    "\n",
    "  def coords_inside(self, x, y):\n",
    "    distance = ((x - self.get_x())**2 + (y - self.get_y())**2)**0.5\n",
    "    return distance <= self.__radius\n",
    "\n",
    "  def overlaps(self, other):\n",
    "    if isinstance(other, Rectangle):\n",
    "      return other.overlaps(self)\n",
    "    elif isinstance(other, Circle):\n",
    "      dist = sqrt((self.get_x() - other.get_x())**2 + (self.get_y() - other.get_y())**2)\n",
    "      return dist <= (self.__radius + other.get_radius())\n",
    "    return False\n",
    "\n",
    "  def get_radius(self):\n",
    "    return self.__radius\n",
    "\n",
    "class Triangle(Shape):\n",
    "  def __init__(self, side_a, side_c, base, height, x, y):\n",
    "      Shape.__init__(self, x, y)\n",
    "      self.__side_a = side_a\n",
    "      self.__side_c = side_c\n",
    "      self.__base = base\n",
    "      self.__height = height\n",
    "\n",
    "  def area(self):\n",
    "      area_triangle = (self.__base * self.__height)/2\n",
    "      return area_triangle\n",
    "\n",
    "  def perimeter(self):\n",
    "      perimeter_triangle = self.__side_a + self.__side_c + self.__base\n",
    "      return perimeter_triangle\n",
    "\n",
    "  def perimeter_points(self):\n",
    "    points = []\n",
    "    for i in range(16):\n",
    "        if i < 5:\n",
    "          x = self.get_x() + (i / 4) * self.__side_a\n",
    "          y = self.get_y()\n",
    "        elif i < 10:\n",
    "          x = (self.get_x() + self.__side_a) - (i - 4) / 5 * (self.__side_a / 2)\n",
    "          y = self.get_y() + ((i - 4) / 5) * self.__height\n",
    "        else:\n",
    "          x = self.get_x() + ((10 - i) / 5) * (self.__side_a / 2)\n",
    "          y = self.get_y() + (5 / 5) * self.__height\n",
    "        points.append((x, y))\n",
    "    return points\n",
    "\n",
    "  def coords_inside(self, x, y):\n",
    "        if x < self.get_x() or x > self.get_x() + self.__base:\n",
    "            return False\n",
    "        expected_y = self.get_y() + (self.__height - ((x - self.get_x()) * self.__height / self.__base))\n",
    "        return self.get_y() <= y <= expected_y\n",
    "\n",
    "  def overlaps(self, other):\n",
    "    if isinstance(other, Rectangle):\n",
    "      return other.overlaps(self)\n",
    "    elif isinstance(other, Circle):\n",
    "      return other.overlaps_with(self)\n",
    "    elif isinstance(other, Triangle):\n",
    "      x1, y1 = self.get_x(), self.get_y()\n",
    "      x2, y2 = other.get_x(), other.get_y()\n",
    "      return not (x1 + self.__base <= x2 or x2 + other.__base <= x1 or\n",
    "                  y1 + self.__height <= y2 or y2 + other.__height <= y1)\n",
    "    return False\n",
    "\n",
    "  def get_side_a(self):\n",
    "      return self.__side_a\n",
    "\n",
    "  def get_side_c(self):\n",
    "      return self.__side_c\n",
    "\n",
    "  def get_base(self):\n",
    "      return self.__base"
   ]
  },
  {
   "cell_type": "code",
   "execution_count": 291,
   "metadata": {
    "colab": {
     "base_uri": "https://localhost:8080/"
    },
    "id": "OeMk4uetVhWh",
    "outputId": "424cd171-fd1c-4cc1-9163-1bfbc3af93fa"
   },
   "outputs": [
    {
     "name": "stdout",
     "output_type": "stream",
     "text": [
      "Rectangle1 overlaps Rectangle2: True\n",
      "Circle1 overlaps Circle2: True\n",
      "Triangle1 overlaps Triangle2 True\n"
     ]
    }
   ],
   "source": [
    "rect1 = Rectangle(10, 5, 0, 0)\n",
    "rect2 = Rectangle(8, 3, 5, 2)\n",
    "circle1 = Circle(6, 3, 3)\n",
    "circle2 = Circle(4, 7, 7)\n",
    "tri1 = Triangle(5, 6, 5, 4, 0, 0)\n",
    "tri2 = Triangle(5, 6, 5, 4, 0, 0)\n",
    "\n",
    "print(\"Rectangle1 overlaps Rectangle2:\", rect1.overlaps(rect2))\n",
    "print(\"Circle1 overlaps Circle2:\", circle1.overlaps(circle2))\n",
    "print(\"Triangle1 overlaps Triangle2\", tri1.overlaps(tri2))"
   ]
  },
  {
   "cell_type": "markdown",
   "metadata": {
    "id": "EpQl9fSIjKGH"
   },
   "source": [
    "10. Copy the `Canvas` class from lecture to in a python file creating a `paint` module. Copy your classes from above into the module and implement paint functions. Implement a `CompoundShape` class. Create a simple drawing demonstrating that all of your classes are working."
   ]
  },
  {
   "cell_type": "code",
   "execution_count": 296,
   "metadata": {
    "colab": {
     "base_uri": "https://localhost:8080/"
    },
    "id": "TwQQ034fp-s_",
    "outputId": "bc8a95a6-242e-4f8f-e2cb-f2646c677ae0"
   },
   "outputs": [
    {
     "name": "stdout",
     "output_type": "stream",
     "text": [
      "                                        \n",
      "                                        \n",
      "  **********                            \n",
      "  *        *                            \n",
      "  *        *                            \n",
      "  *        *     ******       *         \n",
      "  **********    *      *     * *        \n",
      "               *        *   *   *       \n",
      "               *        *  *     *      \n",
      "               *        ************    \n",
      "               *        **              \n",
      "               *        *               \n",
      "               *        *               \n",
      "                *      *                \n",
      "                 ******                 \n",
      "                    *                   \n",
      "                                        \n",
      "                                        \n",
      "                                        \n",
      "                                        \n"
     ]
    }
   ],
   "source": [
    "from math import pi, sin, cos\n",
    "class Canvas:\n",
    "    def __init__(self, width, height):\n",
    "        self.width = width\n",
    "        self.height = height\n",
    "        self.data = [[' '] * width for _ in range(height)]\n",
    "\n",
    "    def set_pixel(self, x, y, char='*'):\n",
    "        if 0 <= x < self.height and 0 <= y < self.width:\n",
    "            self.data[x][y] = char\n",
    "\n",
    "    def display(self):\n",
    "        print(\"\\n\".join(\"\".join(row) for row in self.data))\n",
    "\n",
    "    def clear(self):\n",
    "        self.data = [[' '] * self.width for _ in range(self.height)]\n",
    "\n",
    "class Shape:\n",
    "    def __init__(self, x, y, char='*', name= \"\"):\n",
    "        self.x = x\n",
    "        self.y = y\n",
    "        self.char = char\n",
    "        self.name = name\n",
    "\n",
    "    def paint(self, canvas):\n",
    "        pass\n",
    "\n",
    "class Rectangle(Shape):\n",
    "    def __init__(self, width, height, x, y, char='*'):\n",
    "        super().__init__(x, y, char)\n",
    "        self.width = width\n",
    "        self.height = height\n",
    "\n",
    "    def paint(self, canvas):\n",
    "        for i in range(self.height):\n",
    "            canvas.set_pixel(self.y + i, self.x, self.char)\n",
    "            canvas.set_pixel(self.y + i, self.x + self.width - 1, self.char)\n",
    "        for i in range(self.width):\n",
    "            canvas.set_pixel(self.y, self.x + i, self.char)\n",
    "            canvas.set_pixel(self.y + self.height - 1, self.x + i, self.char)\n",
    "\n",
    "class Circle(Shape):\n",
    "    def __init__(self, radius, x, y, char='*'):\n",
    "        super().__init__(x, y, char)\n",
    "        self.radius = radius\n",
    "\n",
    "    def paint(self, canvas):\n",
    "        for angle in range(0, 360, 10):\n",
    "            r = angle * (pi / 180)\n",
    "            x = int(self.x + self.radius * cos(r))\n",
    "            y = int(self.y + self.radius * sin(r))\n",
    "            canvas.set_pixel(y, x, self.char)\n",
    "\n",
    "class Triangle(Shape):\n",
    "    def __init__(self, base, height, x, y, char='*'):\n",
    "        super().__init__(x, y, char)\n",
    "        self.base = base\n",
    "        self.height = height\n",
    "\n",
    "    def paint(self, canvas):\n",
    "        for i in range(self.height):\n",
    "            canvas.set_pixel(self.y + i, self.x - i, self.char)\n",
    "            canvas.set_pixel(self.y + i, self.x + i, self.char)\n",
    "        for i in range(-self.base // 2, self.base // 2 + 1):\n",
    "            canvas.set_pixel(self.y + self.height - 1, self.x + i, self.char)\n",
    "\n",
    "canvas = Canvas(40, 20)\n",
    "shapes = [\n",
    "    Rectangle(10, 5, 2, 2),\n",
    "    Circle(5, 20, 10),\n",
    "    Triangle(10, 5, 30, 5)\n",
    "]\n",
    "\n",
    "for shape in shapes:\n",
    "    shape.paint(canvas)\n",
    "\n",
    "canvas.display()"
   ]
  },
  {
   "cell_type": "markdown",
   "metadata": {
    "id": "oAW8idKgjKGH"
   },
   "source": [
    "11. Create a `RasterDrawing` class. Demonstrate that you can create a drawing made of several shapes, paint the drawing, modify the drawing, and paint it again."
   ]
  },
  {
   "cell_type": "code",
   "execution_count": 299,
   "metadata": {
    "id": "TddnARoKVEeF"
   },
   "outputs": [],
   "source": [
    "class RasterDrawing:\n",
    "    def __init__(self):\n",
    "        self.shapes = dict()\n",
    "        self.shape_names = list()\n",
    "\n",
    "    def add_shape(self, shape):\n",
    "        if shape.name == \"\":\n",
    "            shape.name = self.assign_name()\n",
    "        self.shapes[shape.name] = shape\n",
    "        self.shape_names.append(shape.name)\n",
    "\n",
    "    def update(self, canvas):\n",
    "        canvas.clear()\n",
    "        self.paint(canvas)\n",
    "\n",
    "    def paint(self, canvas):\n",
    "        for shape_name in self.shape_names:\n",
    "            self.shapes[shape_name].paint(canvas)\n",
    "\n",
    "    def assign_name(self):\n",
    "        name_base = \"shape\"\n",
    "        name = name_base + \"_0\"\n",
    "\n",
    "        i = 1\n",
    "        while name in self.shapes:\n",
    "            name = name_base + \"_\" + str(i)\n",
    "            i += 1\n",
    "        return name"
   ]
  },
  {
   "cell_type": "code",
   "execution_count": 300,
   "metadata": {
    "colab": {
     "base_uri": "https://localhost:8080/"
    },
    "id": "MY9Jh31fuoSR",
    "outputId": "1bcf6245-9de1-4c41-dd51-8975a3339465"
   },
   "outputs": [
    {
     "name": "stdout",
     "output_type": "stream",
     "text": [
      "                                        \n",
      "                                        \n",
      "  **********                            \n",
      "  *        *                            \n",
      "  *        *                            \n",
      "  *        *     ******       *         \n",
      "  **********    *      *     * *        \n",
      "               *        *   *   *       \n",
      "               *        *  *     *      \n",
      "               *        ************    \n",
      "               *        **              \n",
      "               *        *               \n",
      "               *        *               \n",
      "                *      *                \n",
      "                 ******                 \n",
      "                    *                   \n",
      "                                        \n",
      "                                        \n",
      "                                        \n",
      "                                        \n",
      "                                        \n",
      "                                        \n",
      "  **********                            \n",
      "  *        *                            \n",
      "  *        *                            \n",
      "  *        *     ******       *         \n",
      "  **********    *      *     * *        \n",
      "               *        *   *   *       \n",
      "               *        *  *     *      \n",
      "               *        ************    \n",
      "     ######    *        **              \n",
      "     #    #    *        *               \n",
      "     ######    *        *               \n",
      "                *      *                \n",
      "                 ******                 \n",
      "                    *                   \n",
      "                                        \n",
      "                                        \n",
      "                                        \n",
      "                                        \n"
     ]
    }
   ],
   "source": [
    "canvas = Canvas(40, 20)\n",
    "drawing = RasterDrawing()\n",
    "drawing.add_shape(Rectangle(10, 5, 2, 2))\n",
    "drawing.add_shape(Circle(5, 20, 10))\n",
    "drawing.add_shape(Triangle(10, 5, 30, 5))\n",
    "\n",
    "drawing.paint(canvas)\n",
    "canvas.display()\n",
    "\n",
    "drawing.add_shape(Rectangle(6, 3, 5, 10, char='#'))\n",
    "drawing.update(canvas)\n",
    "canvas.display()"
   ]
  },
  {
   "cell_type": "markdown",
   "metadata": {
    "id": "_162KUz0jKGH"
   },
   "source": [
    "12. Implement the ability to load/save raster drawings and demonstate that your method works. One way to implement this ability:\n",
    "\n",
    "   * Overload `__repr__` functions of all objects to return strings of the python code that would construct the object.\n",
    "   \n",
    "   * In the save method of raster drawing class, store the representations into the file.\n",
    "   * Write a loader function that reads the file and uses `eval` to instantiate the object.\n",
    "\n",
    "For example:"
   ]
  },
  {
   "cell_type": "code",
   "execution_count": null,
   "metadata": {
    "id": "z48v53sgjKGI"
   },
   "outputs": [],
   "source": [
    "class foo:\n",
    "    def __init__(self,a,b=None):\n",
    "        self.a=a\n",
    "        self.b=b\n",
    "\n",
    "    def __repr__(self):\n",
    "        return \"foo(\"+repr(self.a)+\",\"+repr(self.b)+\")\"\n",
    "\n",
    "    def save(self,filename):\n",
    "        f=open(filename,\"w\")\n",
    "        f.write(self.__repr__())\n",
    "        f.close()\n",
    "\n",
    "\n",
    "def foo_loader(filename):\n",
    "    f=open(filename,\"r\")\n",
    "    tmp=eval(f.read())\n",
    "    f.close()\n",
    "    return tmp\n"
   ]
  },
  {
   "cell_type": "code",
   "execution_count": null,
   "metadata": {
    "id": "zCDxgn64jKGI",
    "outputId": "7680e103-500d-4f27-8feb-60ab2376754a"
   },
   "outputs": [
    {
     "name": "stdout",
     "output_type": "stream",
     "text": [
      "foo(1,'hello')\n"
     ]
    }
   ],
   "source": [
    "# Test\n",
    "print(repr(foo(1,\"hello\")))"
   ]
  },
  {
   "cell_type": "code",
   "execution_count": null,
   "metadata": {
    "id": "o5cojVhkjKGJ"
   },
   "outputs": [],
   "source": [
    "# Create an object and save it\n",
    "ff=foo(1,\"hello\")\n",
    "ff.save(\"Test.foo\")"
   ]
  },
  {
   "cell_type": "code",
   "execution_count": null,
   "metadata": {
    "id": "PNahQOavjKGJ",
    "outputId": "796b099b-5393-4177-e6c5-35fb9a974f92"
   },
   "outputs": [
    {
     "name": "stdout",
     "output_type": "stream",
     "text": [
      "foo(1,'hello')"
     ]
    }
   ],
   "source": [
    "# Check contents of the saved file\n",
    "!cat Test.foo"
   ]
  },
  {
   "cell_type": "code",
   "execution_count": null,
   "metadata": {
    "id": "MHrAv51YjKGJ",
    "outputId": "cd9d3786-0773-4661-d1e8-3eff2430b854"
   },
   "outputs": [
    {
     "data": {
      "text/plain": [
       "foo(1,'hello')"
      ]
     },
     "execution_count": 5,
     "metadata": {},
     "output_type": "execute_result"
    }
   ],
   "source": [
    "# Load the object\n",
    "ff_reloaded=foo_loader(\"Test.foo\")\n",
    "ff_reloaded"
   ]
  },
  {
   "cell_type": "code",
   "execution_count": 302,
   "metadata": {
    "id": "16O64nxsR7Ey"
   },
   "outputs": [],
   "source": [
    "from math import pi, cos, sin, sqrt\n",
    "class Canvas:\n",
    "    def __init__(self, width, height):\n",
    "        self.width = width\n",
    "        self.height = height\n",
    "        self.data = [[' '] * width for _ in range(height)]\n",
    "\n",
    "    def set_pixel(self, x, y, char='*'):\n",
    "        if 0 <= x < self.height and 0 <= y < self.width:\n",
    "            self.data[x][y] = char\n",
    "\n",
    "    def display(self):\n",
    "        print(\"\\n\".join(\"\".join(row) for row in self.data))\n",
    "\n",
    "    def clear(self):\n",
    "        self.data = [[' '] * self.width for _ in range(self.height)]\n",
    "\n",
    "class Shape:\n",
    "    def __init__(self, x, y, char='*', name=\"\"):\n",
    "        self.x = x\n",
    "        self.y = y\n",
    "        self.char = char\n",
    "        self.name = name\n",
    "\n",
    "    def paint(self, canvas):\n",
    "        pass\n",
    "\n",
    "    def __repr__(self):\n",
    "        return f\"{self.__class__.__name__}({self.x}, {self.y}, '{self.char}', '{self.name}')\"\n",
    "\n",
    "class Rectangle(Shape):\n",
    "    def __init__(self, width, height, x, y, char='*', name=\"\"):\n",
    "        super().__init__(x, y, char, name)\n",
    "        self.width = width\n",
    "        self.height = height\n",
    "\n",
    "    def paint(self, canvas):\n",
    "        for i in range(self.height):\n",
    "            canvas.set_pixel(self.y + i, self.x, self.char)\n",
    "            canvas.set_pixel(self.y + i, self.x + self.width - 1, self.char)\n",
    "        for i in range(self.width):\n",
    "            canvas.set_pixel(self.y, self.x + i, self.char)\n",
    "            canvas.set_pixel(self.y + self.height - 1, self.x + i, self.char)\n",
    "\n",
    "    def __repr__(self):\n",
    "        return f\"Rectangle({self.width}, {self.height}, {self.x}, {self.y}, '{self.char}', '{self.name}')\"\n",
    "\n",
    "class Circle(Shape):\n",
    "    def __init__(self, radius, x, y, char='*', name=\"\"):\n",
    "        super().__init__(x, y, char, name)\n",
    "        self.radius = radius\n",
    "\n",
    "    def paint(self, canvas):\n",
    "        for angle in range(0, 360, 10):\n",
    "            r = angle * (pi / 180)\n",
    "            x = int(self.x + self.radius * cos(r))\n",
    "            y = int(self.y + self.radius * sin(r))\n",
    "            canvas.set_pixel(y, x, self.char)\n",
    "\n",
    "    def __repr__(self):\n",
    "        return f\"Circle({self.radius}, {self.x}, {self.y}, '{self.char}', '{self.name}')\"\n",
    "\n",
    "class Triangle(Shape):\n",
    "    def __init__(self, base, height, x, y, char='*', name=\"\"):\n",
    "        super().__init__(x, y, char, name)\n",
    "        self.base = base\n",
    "        self.height = height\n",
    "\n",
    "    def paint(self, canvas):\n",
    "        for i in range(self.height):\n",
    "            canvas.set_pixel(self.y + i, self.x - i, self.char)\n",
    "            canvas.set_pixel(self.y + i, self.x + i, self.char)\n",
    "        for i in range(-self.base // 2, self.base // 2 + 1):\n",
    "            canvas.set_pixel(self.y + self.height - 1, self.x + i, self.char)\n",
    "\n",
    "    def __repr__(self):\n",
    "        return f\"Triangle({self.base}, {self.height}, {self.x}, {self.y}, '{self.char}', '{self.name}')\"\n",
    "\n",
    "class RasterDrawing:\n",
    "    def __init__(self):\n",
    "        self.shapes = dict()\n",
    "        self.shape_names = list()\n",
    "\n",
    "    def add_shape(self, shape):\n",
    "        if shape.name == \"\":\n",
    "            shape.name = self.assign_name()\n",
    "        self.shapes[shape.name] = shape\n",
    "        self.shape_names.append(shape.name)\n",
    "\n",
    "    def update(self, canvas):\n",
    "        canvas.clear()\n",
    "        self.paint(canvas)\n",
    "\n",
    "    def paint(self, canvas):\n",
    "        for shape_name in self.shape_names:\n",
    "            self.shapes[shape_name].paint(canvas)\n",
    "\n",
    "    def assign_name(self):\n",
    "        name_base = \"shape\"\n",
    "        name = name_base + \"_0\"\n",
    "\n",
    "        i = 1\n",
    "        while name in self.shapes:\n",
    "            name = name_base + \"_\" + str(i)\n",
    "            i += 1\n",
    "\n",
    "        return name\n",
    "\n",
    "    def save(self, filename):\n",
    "        with open(filename, 'w') as file:\n",
    "            for shape in self.shapes.values():\n",
    "                file.write(repr(shape) + '\\n')\n",
    "\n",
    "    @staticmethod\n",
    "    def load(filename):\n",
    "        drawing = RasterDrawing()\n",
    "        with open(filename, 'r') as file:\n",
    "            for line in file:\n",
    "                shape = eval(line.strip())\n",
    "                drawing.add_shape(shape)\n",
    "        return drawing"
   ]
  },
  {
   "cell_type": "code",
   "execution_count": 303,
   "metadata": {
    "colab": {
     "base_uri": "https://localhost:8080/"
    },
    "id": "jyd14zwnuJRw",
    "outputId": "a3a27d3b-f649-4b0c-ecd3-6f9a9dc31bc5"
   },
   "outputs": [
    {
     "name": "stdout",
     "output_type": "stream",
     "text": [
      "                                        \n",
      "                                        \n",
      "  **********                            \n",
      "  *        *                            \n",
      "  *        *                            \n",
      "  *        *     ******       *         \n",
      "  **********    *      *     * *        \n",
      "               *        *   *   *       \n",
      "               *        *  *     *      \n",
      "               *        ************    \n",
      "               *        **              \n",
      "               *        *               \n",
      "               *        *               \n",
      "                *      *                \n",
      "                 ******                 \n",
      "                    *                   \n",
      "                                        \n",
      "                                        \n",
      "                                        \n",
      "                                        \n",
      "                                        \n",
      "                                        \n",
      "  **********                            \n",
      "  *        *                            \n",
      "  *        *                            \n",
      "  *        *     ******       *         \n",
      "  **********    *      *     * *        \n",
      "               *        *   *   *       \n",
      "               *        *  *     *      \n",
      "               *        ************    \n",
      "               *        **              \n",
      "               *        *               \n",
      "               *        *               \n",
      "                *      *                \n",
      "                 ******                 \n",
      "                    *                   \n",
      "                                        \n",
      "                                        \n",
      "                                        \n",
      "                                        \n"
     ]
    }
   ],
   "source": [
    "canvas = Canvas(40, 20)\n",
    "drawing = RasterDrawing()\n",
    "drawing.add_shape(Rectangle(10, 5, 2, 2))\n",
    "drawing.add_shape(Circle(5, 20, 10))\n",
    "drawing.add_shape(Triangle(10, 5, 30, 5))\n",
    "\n",
    "drawing.paint(canvas)\n",
    "canvas.display()\n",
    "\n",
    "drawing.save(\"drawing.txt\")\n",
    "\n",
    "loaded_drawing = RasterDrawing.load(\"drawing.txt\")\n",
    "loaded_drawing.paint(canvas)\n",
    "canvas.display()"
   ]
  },
  {
   "cell_type": "code",
   "execution_count": null,
   "metadata": {
    "id": "uo94mHXiuvsQ"
   },
   "outputs": [],
   "source": []
  }
 ],
 "metadata": {
  "colab": {
   "provenance": []
  },
  "kernelspec": {
   "display_name": "Python 3 (ipykernel)",
   "language": "python",
   "name": "python3"
  },
  "language_info": {
   "codemirror_mode": {
    "name": "ipython",
    "version": 3
   },
   "file_extension": ".py",
   "mimetype": "text/x-python",
   "name": "python",
   "nbconvert_exporter": "python",
   "pygments_lexer": "ipython3",
   "version": "3.12.8"
  }
 },
 "nbformat": 4,
 "nbformat_minor": 4
}
