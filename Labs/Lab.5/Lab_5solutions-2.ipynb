{
  "cells": [
    {
      "cell_type": "markdown",
      "metadata": {
        "id": "FdBKFCX-Cb9N"
      },
      "source": [
        "# Lab 5\n"
      ]
    },
    {
      "cell_type": "markdown",
      "metadata": {
        "id": "A_l2-_LcCb9O"
      },
      "source": [
        "Matrix Representation: In this lab you will be creating a simple linear algebra system. In memory, we will represent matrices as nested python lists as we have done in lecture. In the exercises below, you are required to explicitly test every feature you implement, demonstrating it works.\n",
        "\n",
        "1. Create a `matrix` class with the following properties:\n",
        "    * It can be initialized in 2 ways:\n",
        "        1. with arguments `n` and `m`, the size of the matrix. A newly instanciated matrix will contain all zeros.\n",
        "        2. with a list of lists of values. Note that since we are using lists of lists to implement matrices, it is possible that not all rows have the same number of columns. Test explicitly that the matrix is properly specified.\n",
        "    * Matrix instances `M` can be indexed with `M[i][j]` and `M[i,j]`.\n",
        "    * Matrix assignment works in 2 ways:\n",
        "        1. If `M_1` and `M_2` are `matrix` instances `M_1=M_2` sets the values of `M_1` to those of `M_2`, if they are the same size. Error otherwise.\n",
        "        2. In example above `M_2` can be a list of lists of correct size.\n"
      ]
    },
    {
      "cell_type": "code",
      "source": [
        "class Matrix:\n",
        "    def __init__(self, n, m=None):\n",
        "        if isinstance(n, list):\n",
        "            if not all(len(row) == len(n[0]) for row in n):\n",
        "                raise ValueError(\"All rows must have the same number of columns\")\n",
        "            self.data = n\n",
        "        elif isinstance(n, int) and isinstance(m, int):\n",
        "            self.data = [[0] * m for i in range(n)]\n",
        "        else:\n",
        "            raise ValueError(\"Invalid initialization parameters\")\n",
        "        #if n is a list of list\n",
        "        #check if the rows and columns are the same number\n",
        "        #Check if n and m are integers\n",
        "        #otherwise raise a value error\n",
        "\n",
        "        self.n = len(self.data)\n",
        "        self.m = len(self.data[0]) if self.data else 0\n",
        "        # n is the number of rows and m is columns\n",
        "        # if matrix is empty columns are set to zero\n",
        "\n",
        "    def __getitem__(self, index):\n",
        "        return self.data[index[0]][index[1]]\n",
        "        #get index matrix(row, col)\n",
        "\n",
        "    def __setitem__(self, index, value):\n",
        "        self.data[index[0]][index[1]] = value\n",
        "        #modify index(matrix(row, col)) as value\n",
        "\n",
        "    def __eq__(self, other):\n",
        "        return isinstance(other, Matrix) and self.data == other.data\n",
        "        #check if matrices are equal\n",
        "\n",
        "    def __repr__(self):\n",
        "        return \"\\n\".join(map(str, self.data))\n",
        "        #display matrix"
      ],
      "metadata": {
        "id": "Qhyc3tdmhpbr"
      },
      "execution_count": 20,
      "outputs": []
    },
    {
      "cell_type": "code",
      "source": [
        "matrix_1 = Matrix(2, 3)\n",
        "matrix_2 = Matrix([[1, 2], [3, 4]])\n",
        "\n",
        "A = f\"Empty Matrix: \\n{matrix_1}\"\n",
        "B = f\"Stored Matrix: \\n{matrix_2}\"\n",
        "\n",
        "print(A)\n",
        "print(\"\\n\")\n",
        "print(B)"
      ],
      "metadata": {
        "colab": {
          "base_uri": "https://localhost:8080/"
        },
        "id": "omxlQf47glNU",
        "outputId": "a4d5eb60-2b5d-407b-b460-6901492ff67e"
      },
      "execution_count": 21,
      "outputs": [
        {
          "output_type": "stream",
          "name": "stdout",
          "text": [
            "Empty Matrix: \n",
            "[0, 0, 0]\n",
            "[0, 0, 0]\n",
            "\n",
            "\n",
            "Stored Matrix: \n",
            "[1, 2]\n",
            "[3, 4]\n"
          ]
        }
      ]
    },
    {
      "cell_type": "code",
      "source": [
        "matrix_2[0,1] = 10\n",
        "modified_matrix_2 = f\"Modified Matrix: \\n{matrix_2}\"\n",
        "print(modified_matrix_2)"
      ],
      "metadata": {
        "colab": {
          "base_uri": "https://localhost:8080/"
        },
        "id": "_wu-4n8E-r5z",
        "outputId": "746cf870-a314-45e9-9c29-4f4e5b6ef110"
      },
      "execution_count": 22,
      "outputs": [
        {
          "output_type": "stream",
          "name": "stdout",
          "text": [
            "Modified Matrix: \n",
            "[1, 10]\n",
            "[3, 4]\n"
          ]
        }
      ]
    },
    {
      "cell_type": "markdown",
      "metadata": {
        "id": "b03DU6JwCb9O"
      },
      "source": [
        "2. Add the following methods:\n",
        "    * `shape()`: returns a tuple `(n,m)` of the shape of the matrix.\n",
        "    * `transpose()`: returns a new matrix instance which is the transpose of the matrix.\n",
        "    * `row(n)` and `column(n)`: that return the nth row or column of the matrix M as a new appropriately shaped matrix object.\n",
        "    * `to_list()`: which returns the matrix as a list of lists.\n",
        "    *  `block(n_0,n_1,m_0,m_1)` that returns a smaller matrix located at the n_0 to n_1 columns and m_0 to m_1 rows.\n",
        "    * (Extra credit) Modify `__getitem__` implemented above to support slicing.\n",
        "        "
      ]
    },
    {
      "cell_type": "code",
      "source": [
        "class Matrix:\n",
        "    def __init__(self, n=None, m=None):\n",
        "        if isinstance(n, list):\n",
        "            if not all(len(row) == len(n[0]) for row in n):\n",
        "                raise ValueError(\"Error: All rows must have the same number of columns\")\n",
        "            self.data = n\n",
        "            self.n = len(n)\n",
        "            self.m = len(n[0]) if n else 0\n",
        "        elif isinstance(n, int) and isinstance(m, int):\n",
        "            self.n = n\n",
        "            self.m = m\n",
        "            self.data = [[0] * m for _ in range(n)]\n",
        "        else:\n",
        "            raise ValueError(\"Error: Invalid parameters\")\n",
        "\n",
        "    def __getitem__(self, index):\n",
        "        if isinstance(index, tuple) and len(index) == 2:\n",
        "            row, col = index\n",
        "            return self.data[row][col]\n",
        "        raise IndexError(\"Invalid index format\")\n",
        "\n",
        "    def __setitem__(self, index, value):\n",
        "        if isinstance(index, tuple) and len(index) == 2:\n",
        "            row, col = index\n",
        "            self.data[row][col] = value\n",
        "        else:\n",
        "            raise IndexError(\"Invalid index format\")\n",
        "\n",
        "    def __eq__(self, other):\n",
        "        if isinstance(other, Matrix):\n",
        "            return self.data == other.data\n",
        "        return False\n",
        "\n",
        "    def __repr__(self):\n",
        "        return \"\\n\".join(str(row) for row in self.data)\n",
        "\n",
        "    #Question 2 :\n",
        "    def shape(self):\n",
        "        return (self.n, self.m)\n",
        "        # Matrix size =(n,m)\n",
        "\n",
        "    def transpose(self):\n",
        "        return Matrix([[self.data[j][i] for j in range(self.n)] for i in range(self.m)])\n",
        "        #flip the matrix return rows as columns and columns as rows\n",
        "\n",
        "    def row(self, n):\n",
        "        return Matrix([self.data[n]])\n",
        "        #return the nth row of the matrix\n",
        "\n",
        "    def column(self, n):\n",
        "        return Matrix([[self.data[i][n]] for i in range(self.n)])\n",
        "        #return the nth column matrix\n",
        "\n",
        "    def to_list(self):\n",
        "        return self.data\n",
        "        #returns matrix as a list of list\n",
        "\n",
        "    def block(self, n_0, n_1, m_0, m_1):\n",
        "        return Matrix([[self.data[i][j] for j in range(n_0, n_1)] for i in range(m_0, m_1)])\n",
        "        #returns a smaller matrix located at the n_0 to n_1 columns and m_0 to m_1 rows\n",
        "\n",
        "    # Extra credit:\n",
        "    def __getitem__(self, index):\n",
        "        if isinstance(index, tuple) and len(index) == 2:\n",
        "            row_index, col_index = index\n",
        "            if isinstance(row_index, slice) or isinstance(col_index, slice):\n",
        "                rows = self.data[row_index]\n",
        "                if isinstance(col_index, slice):\n",
        "                    return Matrix([[row[col_index] for row in rows]])\n",
        "                else:\n",
        "                    return Matrix([[row[col_index]] for row in rows])\n",
        "            else:\n",
        "                return self.data[row_index][col_index]\n"
      ],
      "metadata": {
        "id": "zrUFewtSCgG8"
      },
      "execution_count": 23,
      "outputs": []
    },
    {
      "cell_type": "code",
      "source": [
        "matrix_3 = Matrix([[1, 2, 3], [4, 5, 6]])\n",
        "\n",
        "print(f\"Original matrix: \\n{matrix_3}\")\n",
        "print(\"\\n\")\n",
        "\n",
        "print(f\"The shape of the matrix: {matrix_3.shape()}\")\n",
        "print(\"\\n\")\n",
        "\n",
        "print(f\"The transpose of the matrix: \\n{matrix_3.transpose()}\")\n",
        "print(\"\\n\")\n",
        "\n",
        "print(f\"The second row of the matrix: \\n{matrix_3.row(1)}\")\n",
        "print(\"\\n\")\n",
        "\n",
        "print(f\"The first column of the matrix: \\n{matrix_3.column(0)}\")\n",
        "print(\"\\n\")\n",
        "\n",
        "print(f\"The matrix as a list of lists: \\n{matrix_3.to_list()}\")\n",
        "print(\"\\n\")\n",
        "\n",
        "print(f\"The smaller matrix from row 1 to 3 and column 0 to 2: \\n{matrix_3.block(1, 3, 0, 2)}\")\n",
        "print(\"\\n\")\n",
        "\n",
        "print(f\"The smaller matrix using slicing: \\n{matrix_3[0:2, 1:3]}\")"
      ],
      "metadata": {
        "colab": {
          "base_uri": "https://localhost:8080/"
        },
        "id": "6bu23ewNeUef",
        "outputId": "a3681332-fce9-4f2f-84eb-369a6e73cc77"
      },
      "execution_count": 24,
      "outputs": [
        {
          "output_type": "stream",
          "name": "stdout",
          "text": [
            "Original matrix: \n",
            "[1, 2, 3]\n",
            "[4, 5, 6]\n",
            "\n",
            "\n",
            "The shape of the matrix: (2, 3)\n",
            "\n",
            "\n",
            "The transpose of the matrix: \n",
            "[1, 4]\n",
            "[2, 5]\n",
            "[3, 6]\n",
            "\n",
            "\n",
            "The second row of the matrix: \n",
            "[4, 5, 6]\n",
            "\n",
            "\n",
            "The first column of the matrix: \n",
            "[1]\n",
            "[4]\n",
            "\n",
            "\n",
            "The matrix as a list of lists: \n",
            "[[1, 2, 3], [4, 5, 6]]\n",
            "\n",
            "\n",
            "The smaller matrix from row 1 to 3 and column 0 to 2: \n",
            "[2, 3]\n",
            "[5, 6]\n",
            "\n",
            "\n",
            "The smaller matrix using slicing: \n",
            "[[2, 3], [5, 6]]\n"
          ]
        }
      ]
    },
    {
      "cell_type": "markdown",
      "metadata": {
        "id": "rU1KtBQ9Cb9O"
      },
      "source": [
        "3. Write functions that create special matrices (note these are standalone functions, not member functions of your `matrix` class):\n",
        "    * `constant(n,m,c)`: returns a `n` by `m` matrix filled with floats of value `c`.\n",
        "    * `zeros(n,m)` and `ones(n,m)`: return `n` by `m` matrices filled with floats of value `0` and `1`, respectively.\n",
        "    * `eye(n)`: returns the n by n identity matrix."
      ]
    },
    {
      "cell_type": "code",
      "source": [
        "class Matrix:\n",
        "    def __init__(self, n=None, m=None):\n",
        "        if isinstance(n, list):\n",
        "            if not all(len(row) == len(n[0]) for row in n):\n",
        "                raise ValueError(\"All rows must have the same number of columns\")\n",
        "            self.data = n\n",
        "            self.n = len(n)\n",
        "            self.m = len(n[0]) if n else 0\n",
        "        elif isinstance(n, int) and isinstance(m, int):\n",
        "            self.n = n\n",
        "            self.m = m\n",
        "            self.data = [[0] * m for _ in range(n)]\n",
        "        else:\n",
        "            raise ValueError(\"Invalid initialization parameters\")\n",
        "\n",
        "    def __getitem__(self, index):\n",
        "        if isinstance(index, tuple) and len(index) == 2:\n",
        "            row, col = index\n",
        "            return self.data[row][col]\n",
        "        raise IndexError(\"Invalid index format\")\n",
        "\n",
        "    def __setitem__(self, index, value):\n",
        "        if isinstance(index, tuple) and len(index) == 2:\n",
        "            row, col = index\n",
        "            self.data[row][col] = value\n",
        "        else:\n",
        "            raise IndexError(\"Invalid index format\")\n",
        "\n",
        "    def __eq__(self, other):\n",
        "        if isinstance(other, Matrix):\n",
        "            return self.data == other.data\n",
        "        return False\n",
        "\n",
        "    def __repr__(self):\n",
        "        return \"\\n\".join(str(row) for row in self.data)\n",
        "\n",
        "\n",
        "    def shape(self):\n",
        "        return (self.n, self.m)\n",
        "\n",
        "    def transpose(self):\n",
        "        return Matrix([[self.data[j][i] for j in range(self.n)] for i in range(self.m)])\n",
        "\n",
        "    def row(self, n):\n",
        "        return Matrix([self.data[n]])\n",
        "\n",
        "    def column(self, n):\n",
        "        return Matrix([[self.data[i][n]] for i in range(self.n)])\n",
        "\n",
        "    def to_list(self):\n",
        "        return self.data\n",
        "\n",
        "    def block(self, n_0, n_1, m_0, m_1):\n",
        "        return Matrix([[self.data[i][j] for i in range(n_0, n_1)] for j in range(m_0, m_1)])\n",
        "\n",
        "    # Question 3:\n",
        "    @staticmethod\n",
        "    def constant(n, m, c):\n",
        "      return Matrix([[float(c) for j in range(m)] for i in range(n)])\n",
        "      # make a matrix(n x m) made of value float c\n",
        "\n",
        "    @staticmethod\n",
        "    def zeros(n, m):\n",
        "      return Matrix(n, m)\n",
        "      #make a matrix (n x m) made of zeros\n",
        "\n",
        "    @staticmethod\n",
        "    def ones(n, m):\n",
        "      return Matrix.constant(n, m, 1)\n",
        "      #make a matrix (n x m ) made of ones\n",
        "\n",
        "    @staticmethod\n",
        "    def eye(n):\n",
        "      result = Matrix.zeros(n, n)\n",
        "      for i in range(n):\n",
        "          result[i, i] = 1\n",
        "      return result\n",
        "      #make an identity matrix"
      ],
      "metadata": {
        "id": "Dc5kG9w3Cg48"
      },
      "execution_count": 25,
      "outputs": []
    },
    {
      "cell_type": "code",
      "source": [
        "matrix_4 = Matrix.constant(2, 3, 1.1)\n",
        "matrix_5 = Matrix.zeros(3, 2)\n",
        "matrix_6 = Matrix.ones(2, 2)\n",
        "matrix_7 = Matrix.eye(3)\n",
        "\n",
        "print(f\"Constant Matrix: \\n{matrix_4}\")\n",
        "print(\"\\n\")\n",
        "\n",
        "print(f\"Zero Matrix: \\n{matrix_5}\")\n",
        "print(\"\\n\")\n",
        "\n",
        "print(f\"Ones Matrix: \\n{matrix_6}\")\n",
        "print(\"\\n\")\n",
        "\n",
        "print(f\"Identity Matrix: \\n{matrix_7}\")"
      ],
      "metadata": {
        "colab": {
          "base_uri": "https://localhost:8080/"
        },
        "id": "WzRihMC5je0z",
        "outputId": "c6cea91e-bf03-4eb6-a2cc-5b68e75f91ef"
      },
      "execution_count": 26,
      "outputs": [
        {
          "output_type": "stream",
          "name": "stdout",
          "text": [
            "Constant Matrix: \n",
            "[1.1, 1.1, 1.1]\n",
            "[1.1, 1.1, 1.1]\n",
            "\n",
            "\n",
            "Zero Matrix: \n",
            "[0, 0]\n",
            "[0, 0]\n",
            "[0, 0]\n",
            "\n",
            "\n",
            "Ones Matrix: \n",
            "[1.0, 1.0]\n",
            "[1.0, 1.0]\n",
            "\n",
            "\n",
            "Identity Matrix: \n",
            "[1, 0, 0]\n",
            "[0, 1, 0]\n",
            "[0, 0, 1]\n"
          ]
        }
      ]
    },
    {
      "cell_type": "markdown",
      "metadata": {
        "id": "fQvI9GtWCb9P"
      },
      "source": [
        "4. Add the following member functions to your class. Make sure to appropriately test the dimensions of the matrices to make sure the operations are correct.\n",
        "    * `M.scalarmul(c)`: a matrix that is scalar product $cM$, where every element of $M$ is multiplied by $c$.\n",
        "    * `M.add(N)`: adds two matrices $M$ and $N$. Don’t forget to test that the sizes of the matrices are compatible for this and all other operations.\n",
        "    * `M.sub(N)`: subtracts two matrices $M$ and $N$.\n",
        "    * `M.mat_mult(N)`: returns a matrix that is the matrix product of two matrices $M$ and $N$.\n",
        "    * `M.element_mult(N)`: returns a matrix that is the element-wise product of two matrices $M$ and $N$.\n",
        "    * `M.equals(N)`: returns true/false if $M==N$."
      ]
    },
    {
      "cell_type": "code",
      "source": [
        "class Matrix:\n",
        "    def __init__(self, n, m=None):\n",
        "        if isinstance(n, list):\n",
        "            if not all(len(row) == len(n[0]) for row in n):\n",
        "                raise ValueError(\"All rows must have the same number of columns\")\n",
        "            self.data = n\n",
        "        elif isinstance(n, int) and isinstance(m, int):\n",
        "            self.data = [[0] * m for i in range(n)]\n",
        "        else:\n",
        "            raise ValueError(\"Invalid initialization parameters\")\n",
        "\n",
        "        self.n = len(self.data)\n",
        "        self.m = len(self.data[0]) if self.data else 0\n",
        "\n",
        "    def __getitem__(self, index):\n",
        "        return self.data[index[0]][index[1]]\n",
        "\n",
        "    def __setitem__(self, index, value):\n",
        "        self.data[index[0]][index[1]] = value\n",
        "\n",
        "    def __eq__(self, other):\n",
        "        return isinstance(other, Matrix) and self.data == other.data\n",
        "\n",
        "    def __repr__(self):\n",
        "        return \"\\n\".join(str(row) for row in self.data)\n",
        "\n",
        "    def shape(self):\n",
        "        return self.n, self.m\n",
        "\n",
        "    def transpose(self):\n",
        "        return Matrix([[self.data[j][i] for j in range(self.n)] for i in range(self.m)])  # Transpose matrix\n",
        "\n",
        "    def row(self, n):\n",
        "        return Matrix([self.data[n]])\n",
        "\n",
        "    def column(self, n):\n",
        "        return Matrix([[self.data[i][n]] for i in range(self.n)])\n",
        "\n",
        "    def to_list(self):\n",
        "        return self.data\n",
        "\n",
        "    def block(self, n0, n1, m0, m1):\n",
        "        return Matrix([row[m0:m1] for row in self.data[n0:n1]])\n",
        "\n",
        "    @staticmethod\n",
        "    def constant(n, m, c):\n",
        "        return Matrix([[float(c)] * m for _ in range(n)])\n",
        "\n",
        "    @staticmethod\n",
        "    def zeros(n, m):\n",
        "        return Matrix(n, m)\n",
        "\n",
        "    @staticmethod\n",
        "    def ones(n, m):\n",
        "        return Matrix.constant(n, m, 1)\n",
        "\n",
        "    @staticmethod\n",
        "    def eye(n):\n",
        "        mat = Matrix.zeros(n, n)\n",
        "        for i in range(n):\n",
        "            mat[i, i] = 1\n",
        "        return mat\n",
        "\n",
        "    #Question 4:\n",
        "    def scalarmul(self, c):\n",
        "        return Matrix([[self.data[i][j] * c for j in range(self.m)] for i in range(self.n)])\n",
        "        #multiply every element by c\n",
        "\n",
        "    def add(self, other):\n",
        "        if self.shape() != other.shape():\n",
        "            raise ValueError(\"Matrices must have the same shape in order to add together\")\n",
        "        return Matrix([[self.data[i][j] + other[i, j] for j in range(self.m)] for i in range(self.n)])\n",
        "        #if the shape of the matrix is not the same shape of the other matrix\n",
        "        #raise a value error otherwise, add the matrices together\n",
        "\n",
        "    def sub(self, other):\n",
        "        if self.shape() != other.shape():\n",
        "            raise ValueError(\"Matrices must have the same shape in order to subtraction from eachother\")\n",
        "        return Matrix([[self.data[i][j] - other[i, j] for j in range(self.m)] for i in range(self.n)])\n",
        "        #if the shape of the matrices are not teh same shape then raise value\n",
        "        #otherwise subtract the matrices from eachother.\n",
        "\n",
        "    def mat_mult(self, other):\n",
        "        if self.m != other.n:\n",
        "            raise ValueError(\"The number of rows have to equal the number of columns of the other matrix\")\n",
        "        return Matrix([[sum(self.data[i][k] * other[k, j] for k in range(self.m)) for j in range(other.m)] for i in range(self.n)])\n",
        "        #if the rows do not equal the columns of the other matrix raise a value error\n",
        "        #otherwise multiple the matrices\n",
        "\n",
        "    def element_mult(self, other):\n",
        "        if self.shape() != other.shape():\n",
        "            raise ValueError(\"Matrices must have the same shape for element-wise multiplication\")\n",
        "        return Matrix([[self.data[i][j] * other[i, j] for j in range(self.m)] for i in range(self.n)])\n",
        "        #if these two matrices dont ahve the same shape raise value error\n",
        "        #otherwise use element wise multiplaction on the matrices\n",
        "\n",
        "    def equals(self, other):\n",
        "        return self == other\n",
        "        #check if matrices are equal\n"
      ],
      "metadata": {
        "id": "nNOCCDuYCh_w"
      },
      "execution_count": 27,
      "outputs": []
    },
    {
      "cell_type": "code",
      "source": [
        "matrix_8 = Matrix([[1, 2], [3, 4]])\n",
        "matrix_9 = Matrix([[5, 6], [7, 8]])\n",
        "\n",
        "scalarmul_matrices = matrix_9.scalarmul(2)\n",
        "print(f\"Result of scalar multiplication (M1 * 2): \\n{scalarmul_matrices}\")\n",
        "print(\"\\n\")\n",
        "\n",
        "add_matrices = matrix_8.add(matrix_9)\n",
        "print(f\"Result of matrix addition (M1 + M2): \\n{add_matrices}\")\n",
        "print(\"\\n\")\n",
        "\n",
        "subtract_matrices = matrix_8.sub(matrix_9)\n",
        "print(f\"Result of matrix subtraction (M1 - M2): \\n{subtract_matrices}\")\n",
        "print(\"\\n\")\n",
        "\n",
        "multiple_matrices = matrix_8.mat_mult(matrix_9)\n",
        "print(f\"Result of matrix multiplication (M1 * M2): \\n{multiple_matrices}\")\n",
        "print(\"\\n\")\n",
        "\n",
        "element_mult_matrices = matrix_8.element_mult(matrix_9)\n",
        "print(f\"Result of element-wise multiplication (M1 element-wise multiplied by M2): \\n{element_mult_matrices}\")\n",
        "print(\"\\n\")\n",
        "\n",
        "print(f\"Are matrices M1 and M2 equal? \\n{matrix_8.equals(matrix_9)}\")"
      ],
      "metadata": {
        "id": "VuIotHU_Ch7V",
        "colab": {
          "base_uri": "https://localhost:8080/"
        },
        "outputId": "a1dbca37-5016-4502-b433-c328c9779a9a"
      },
      "execution_count": 29,
      "outputs": [
        {
          "output_type": "stream",
          "name": "stdout",
          "text": [
            "Result of scalar multiplication (M1 * 2): \n",
            "[10, 12]\n",
            "[14, 16]\n",
            "\n",
            "\n",
            "Result of matrix addition (M1 + M2): \n",
            "[6, 8]\n",
            "[10, 12]\n",
            "\n",
            "\n",
            "Result of matrix subtraction (M1 - M2): \n",
            "[-4, -4]\n",
            "[-4, -4]\n",
            "\n",
            "\n",
            "Result of matrix multiplication (M1 * M2): \n",
            "[19, 22]\n",
            "[43, 50]\n",
            "\n",
            "\n",
            "Result of element-wise multiplication (M1 element-wise multiplied by M2): \n",
            "[5, 12]\n",
            "[21, 32]\n",
            "\n",
            "\n",
            "Are matrices M1 and M2 equal? \n",
            "False\n"
          ]
        }
      ]
    },
    {
      "cell_type": "markdown",
      "metadata": {
        "id": "7se44XMjCb9P"
      },
      "source": [
        "5. Overload python operators to appropriately use your functions in 4 and allow expressions like:\n",
        "    * 2*M\n",
        "    * M*2\n",
        "    * M+N\n",
        "    * M-N\n",
        "    * M*N\n",
        "    * M==N\n",
        "    * M=N\n"
      ]
    },
    {
      "cell_type": "code",
      "source": [
        "class Matrix:\n",
        "    def __init__(self, n, m=None):\n",
        "        if isinstance(n, list):\n",
        "            if not all(len(row) == len(n[0]) for row in n):\n",
        "                raise ValueError(\"All rows must have the same number of columns\")\n",
        "            self.data = n\n",
        "        elif isinstance(n, int) and isinstance(m, int):\n",
        "            self.data = [[0] * m for i in range(n)]\n",
        "        else:\n",
        "            raise ValueError(\"Invalid initialization parameters\")\n",
        "\n",
        "        self.n = len(self.data)\n",
        "        self.m = len(self.data[0]) if self.data else 0\n",
        "\n",
        "    def __getitem__(self, index):\n",
        "        return self.data[index[0]][index[1]]\n",
        "\n",
        "    def __setitem__(self, index, value):\n",
        "        self.data[index[0]][index[1]] = value\n",
        "\n",
        "    def __eq__(self, other):\n",
        "        return isinstance(other, Matrix) and self.data == other.data\n",
        "\n",
        "    def __repr__(self):\n",
        "        return \"\\n\".join(str(row) for row in self.data)\n",
        "\n",
        "    def shape(self):\n",
        "        return self.n, self.m\n",
        "\n",
        "    def transpose(self):\n",
        "        return Matrix([[self.data[j][i] for j in range(self.n)] for i in range(self.m)])\n",
        "\n",
        "    def row(self, n):\n",
        "        return Matrix([self.data[n]])\n",
        "\n",
        "    def column(self, n):\n",
        "        return Matrix([[self.data[i][n]] for i in range(self.n)])\n",
        "\n",
        "    def to_list(self):\n",
        "        return self.data\n",
        "\n",
        "    def block(self, n0, n1, m0, m1):\n",
        "        return Matrix([row[m0:m1] for row in self.data[n0:n1]])\n",
        "\n",
        "    @staticmethod\n",
        "    def constant(n, m, c):\n",
        "        return Matrix([[float(c)] * m for _ in range(n)])\n",
        "\n",
        "    @staticmethod\n",
        "    def zeros(n, m):\n",
        "        return Matrix(n, m)\n",
        "\n",
        "    @staticmethod\n",
        "    def ones(n, m):\n",
        "        return Matrix.constant(n, m, 1)\n",
        "\n",
        "    @staticmethod\n",
        "    def eye(n):\n",
        "        mat = Matrix.zeros(n, n)\n",
        "        for i in range(n):\n",
        "            mat[i, i] = 1\n",
        "        return mat\n",
        "\n",
        "    def scalarmul(self, c):\n",
        "        return Matrix([[self.data[i][j] * c for j in range(self.m)] for i in range(self.n)])  # Multiply matrix by scalar\n",
        "\n",
        "    def add(self, other):\n",
        "        if self.shape() != other.shape():\n",
        "            raise ValueError(\"Matrices must have the same dimensions for addition\")\n",
        "        return Matrix([[self.data[i][j] + other[i, j] for j in range(self.m)] for i in range(self.n)])  # Matrix addition\n",
        "\n",
        "    def sub(self, other):\n",
        "        if self.shape() != other.shape():\n",
        "            raise ValueError(\"Matrices must have the same dimensions for subtraction\")\n",
        "        return Matrix([[self.data[i][j] - other[i, j] for j in range(self.m)] for i in range(self.n)])  # Matrix subtraction\n",
        "\n",
        "    def mat_mult(self, other):\n",
        "        if self.m != other.n:\n",
        "            raise ValueError(\"Incompatible dimensions for matrix multiplication\")\n",
        "        return Matrix([[sum(self.data[i][k] * other[k, j] for k in range(self.m)) for j in range(other.m)] for i in range(self.n)])  # Matrix multiplication\n",
        "\n",
        "    def element_mult(self, other):\n",
        "        if self.shape() != other.shape():\n",
        "            raise ValueError(\"Matrices must have the same dimensions for element-wise multiplication\")\n",
        "        return Matrix([[self.data[i][j] * other[i, j] for j in range(self.m)] for i in range(self.n)])  # Element-wise multiplication\n",
        "\n",
        "    def equals(self, other):\n",
        "        return self == other\n",
        "\n",
        "    #Question 5:\n",
        "    def __mul__(self, other):\n",
        "        if isinstance(other, (int, float)):\n",
        "            return self.scalarmul(other)\n",
        "        elif isinstance(other, Matrix):\n",
        "            return self.mat_mult(other)\n",
        "        else:\n",
        "            raise TypeError(\"Can only multiply matrix by matrices and integers\")\n",
        "        #if the your multiplying by another matrix then use matrix muliplication()\n",
        "        # and if your multiplying a matrix by a integer or float then use scalar multiplication()\n",
        "        #otherwise raise type error\n",
        "\n",
        "    def __rmul__(self, other):\n",
        "        return self.__mul__(other)\n",
        "        # if the matrix is reverse (2 * other) then return multiplication\n",
        "        #otherwise use multiple matrix()\n",
        "\n",
        "    def __add__(self, other):\n",
        "        if isinstance(other, Matrix):\n",
        "            return self.add(other)\n",
        "        else:\n",
        "            raise TypeError(\"Cant add by a integer. Can only add two matrices\")\n",
        "        #if you add matrices use add() otherwise raise an error ca\n",
        "\n",
        "    def __sub__(self, other):\n",
        "        if isinstance(other, Matrix):\n",
        "            return self.sub(other)\n",
        "        else:\n",
        "            raise TypeError(\"Cant subtract by a integer. Can only subtract two matrices\")\n",
        "        #if you subtrace matrices use sub() otherwise raise type error"
      ],
      "metadata": {
        "id": "qHLBT1rFCi88"
      },
      "execution_count": 57,
      "outputs": []
    },
    {
      "source": [
        "matrix_8 = Matrix([[1, 2], [3, 4]])\n",
        "matrix_9 = Matrix([[5, 6], [7, 8]])\n",
        "\n",
        "overload_scalar = 2 * matrix_8\n",
        "print(f\"Result of scalar multiplication (M1 * 2): \\n{overload_scalar}\")\n",
        "print(\"\\n\")\n",
        "\n",
        "overload_add = matrix_8 + matrix_9\n",
        "print(f\"Result of matrix addition (M1 + M2): \\n{overload_add}\")\n",
        "print('\\n')\n",
        "\n",
        "overload_sub = matrix_8 - matrix_9\n",
        "print(f\"Result of matrix subtraction (M1 - M2): \\n{overload_sub}\")\n",
        "print('\\n')\n",
        "\n",
        "\n",
        "overload_mult = matrix_8 * matrix_9\n",
        "print(f\"Result of matrix multiplication (M1 * M2): \\n{overload_mult}\")\n",
        "print('\\n')\n",
        "\n",
        "overload_element_mult = matrix_8.element_mult(matrix_9)\n",
        "print(f\"Result of element-wise multiplication (M1 element-wise multiplied by M2): \\n{overload_element_mult}\")\n",
        "print('\\n')\n",
        "\n",
        "print(f\"Are matrices matrix_8 and matrix_9 equal? \\n{matrix_8 == matrix_9}\")\n",
        "print(f\"Are matrices matrix_8 and matrix_8 equal? \\n{matrix_8 == matrix_8}\")\n"
      ],
      "cell_type": "code",
      "metadata": {
        "colab": {
          "base_uri": "https://localhost:8080/"
        },
        "id": "08ptnY3EvnGO",
        "outputId": "30f2f9d0-3349-40e8-c766-fa0b38363d08"
      },
      "execution_count": 60,
      "outputs": [
        {
          "output_type": "stream",
          "name": "stdout",
          "text": [
            "Result of scalar multiplication (M1 * 2): \n",
            "[2, 4]\n",
            "[6, 8]\n",
            "\n",
            "\n",
            "Result of matrix addition (M1 + M2): \n",
            "[6, 8]\n",
            "[10, 12]\n",
            "\n",
            "\n",
            "Result of matrix subtraction (M1 - M2): \n",
            "[-4, -4]\n",
            "[-4, -4]\n",
            "\n",
            "\n",
            "Result of matrix multiplication (M1 * M2): \n",
            "[19, 22]\n",
            "[43, 50]\n",
            "\n",
            "\n",
            "Result of element-wise multiplication (M1 element-wise multiplied by M2): \n",
            "[5, 12]\n",
            "[21, 32]\n",
            "\n",
            "\n",
            "Are matrices matrix_8 and matrix_9 equal? \n",
            "False\n",
            "Are matrices matrix_8 and matrix_8 equal? \n",
            "True\n"
          ]
        }
      ]
    },
    {
      "cell_type": "markdown",
      "source": [
        "I added more comments so you can see my thinkin processs."
      ],
      "metadata": {
        "id": "Z5MHUanmpkr-"
      }
    },
    {
      "cell_type": "markdown",
      "metadata": {
        "id": "j0qXlnQICb9P"
      },
      "source": [
        "6. Demonstrate the basic properties of matrices with your matrix class by creating two 2 by 2 example matrices using your Matrix class and illustrating the following:\n",
        "\n",
        "$$\n",
        "(AB)C=A(BC)\n",
        "$$\n",
        "$$\n",
        "A(B+C)=AB+AC\n",
        "$$\n",
        "$$\n",
        "AB\\neq BA\n",
        "$$\n",
        "$$\n",
        "AI=A\n",
        "$$"
      ]
    },
    {
      "cell_type": "code",
      "execution_count": 61,
      "metadata": {
        "id": "XEY3L3MjCb9Q",
        "colab": {
          "base_uri": "https://localhost:8080/"
        },
        "outputId": "ab85e563-276c-4b9f-cdf1-03019e09097c"
      },
      "outputs": [
        {
          "output_type": "stream",
          "name": "stdout",
          "text": [
            "Is (AB)C equal to A(BC)? \n",
            "True\n",
            "Is A(B + C) equal to AB + AC? \n",
            "True\n",
            "Is AB equal to BA? \n",
            "False\n",
            "Is AI equal to A? \n",
            "True\n"
          ]
        }
      ],
      "source": [
        "A = Matrix([[1, 2], [3, 4]])\n",
        "B = Matrix([[5, 6], [7, 8]])\n",
        "C = Matrix([[9, 10], [11, 12]])\n",
        "I = Matrix.eye(2)\n",
        "\n",
        "result1 = (A * B) * C\n",
        "result2 = A * (B * C)\n",
        "print(f\"Is (AB)C equal to A(BC)? \\n{result1.equals(result2)}\")\n",
        "\n",
        "result3 = A * (B + C)\n",
        "result4 = (A * B) + (A * C)\n",
        "print(f\"Is A(B + C) equal to AB + AC? \\n{result3.equals(result4)}\")\n",
        "\n",
        "result5 = A * B\n",
        "result6 = B * A\n",
        "print(f\"Is AB equal to BA? \\n{result5.equals(result6)}\")\n",
        "\n",
        "result7 = A * I\n",
        "print(f\"Is AI equal to A? \\n{result7.equals(A)}\")"
      ]
    },
    {
      "cell_type": "markdown",
      "source": [
        "#**Quiz 2**\n",
        "Write a function make_deck that returns a list of all of the cards in a standard card deck. The return should be a list of tuples of pairs of suit and value. For example the 10 of Clubs would be  ('Clubs', 10) and Queen of Hearts would be ('Hearts', 'Queen'). Recall that a deck has 52 cards, divided into 4 suits (Clubs, Diamonds, Hearts, and Spades), and that each suit has 13 cards: 2 to 10, Jack, Queen, King, and Ace. Summit your solution with Lab 5"
      ],
      "metadata": {
        "id": "uqIsXdYzjZVE"
      }
    },
    {
      "cell_type": "code",
      "source": [
        "def make_deck():\n",
        "    suits = ['Clubs', 'Diamonds', 'Hearts', 'Spades']\n",
        "    values = [2, 3, 4, 5, 6, 7, 8, 9, 10, 'Jack', 'Queen', 'King', 'Ace']\n",
        "\n",
        "    deck = [(suit, value) for suit in suits for value in values]\n",
        "    return deck\n",
        "\n",
        "deck = make_deck()\n",
        "print(deck)"
      ],
      "metadata": {
        "id": "-wXGe39NCjhb",
        "colab": {
          "base_uri": "https://localhost:8080/"
        },
        "outputId": "458c5fdb-939c-4f94-c9fe-e0f0c617cb00"
      },
      "execution_count": 7,
      "outputs": [
        {
          "output_type": "stream",
          "name": "stdout",
          "text": [
            "[('Clubs', 2), ('Clubs', 3), ('Clubs', 4), ('Clubs', 5), ('Clubs', 6), ('Clubs', 7), ('Clubs', 8), ('Clubs', 9), ('Clubs', 10), ('Clubs', 'Jack'), ('Clubs', 'Queen'), ('Clubs', 'King'), ('Clubs', 'Ace'), ('Diamonds', 2), ('Diamonds', 3), ('Diamonds', 4), ('Diamonds', 5), ('Diamonds', 6), ('Diamonds', 7), ('Diamonds', 8), ('Diamonds', 9), ('Diamonds', 10), ('Diamonds', 'Jack'), ('Diamonds', 'Queen'), ('Diamonds', 'King'), ('Diamonds', 'Ace'), ('Hearts', 2), ('Hearts', 3), ('Hearts', 4), ('Hearts', 5), ('Hearts', 6), ('Hearts', 7), ('Hearts', 8), ('Hearts', 9), ('Hearts', 10), ('Hearts', 'Jack'), ('Hearts', 'Queen'), ('Hearts', 'King'), ('Hearts', 'Ace'), ('Spades', 2), ('Spades', 3), ('Spades', 4), ('Spades', 5), ('Spades', 6), ('Spades', 7), ('Spades', 8), ('Spades', 9), ('Spades', 10), ('Spades', 'Jack'), ('Spades', 'Queen'), ('Spades', 'King'), ('Spades', 'Ace')]\n"
          ]
        }
      ]
    }
  ],
  "metadata": {
    "kernelspec": {
      "display_name": "Python 3 (ipykernel)",
      "language": "python",
      "name": "python3"
    },
    "language_info": {
      "codemirror_mode": {
        "name": "ipython",
        "version": 3
      },
      "file_extension": ".py",
      "mimetype": "text/x-python",
      "name": "python",
      "nbconvert_exporter": "python",
      "pygments_lexer": "ipython3",
      "version": "3.9.6"
    },
    "colab": {
      "provenance": []
    }
  },
  "nbformat": 4,
  "nbformat_minor": 0
}