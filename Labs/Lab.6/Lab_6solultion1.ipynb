{
  "cells": [
    {
      "cell_type": "markdown",
      "metadata": {
        "id": "JjhbPgsK9uVW"
      },
      "source": [
        "# Lab 6"
      ]
    },
    {
      "cell_type": "markdown",
      "metadata": {
        "id": "3Q8Czs579uVY"
      },
      "source": [
        "You are tasked with evaluating card counting strategies for black jack. In order to do so, you will use object oriented programming to create a playable casino style black jack game where a computer dealer plays against $n$ computer players and possibily one human player. If you don't know the rules of blackjack or card counting, please google it.\n",
        "\n",
        "A few requirements:\n",
        "* The game should utilize multiple 52-card decks. Typically the game is played with 6 decks.\n",
        "* Players should have chips.\n",
        "* Dealer's actions are predefined by rules of the game (typically hit on 16).\n",
        "* The players should be aware of all shown cards so that they can count cards.\n",
        "* Each player could have a different strategy.\n",
        "* The system should allow you to play large numbers of games, study the outcomes, and compare average winnings per hand rate for different strategies."
      ]
    },
    {
      "cell_type": "markdown",
      "metadata": {
        "id": "i1SqiDbh9uVZ"
      },
      "source": [
        "1. Begin by creating a classes to represent cards and decks. The deck should support more than one 52-card set. The deck should allow you to shuffle and draw cards. Include a \"plastic\" card, placed randomly in the deck. Later, when the plastic card is dealt, shuffle the cards before the next deal."
      ]
    },
    {
      "cell_type": "code",
      "source": [
        "import random\n",
        "\n",
        "class Card:\n",
        "    def __init__(self, suit, rank):\n",
        "        self.suit = suit\n",
        "        self.rank = rank\n",
        "\n",
        "    def value(self):\n",
        "        if self.rank in ['Jack', 'Queen', 'King']:\n",
        "            return 10\n",
        "        elif self.rank == 'Ace':\n",
        "            return 11\n",
        "        return self.rank\n",
        "\n",
        "    def __repr__(self):\n",
        "        return f\"{self.rank} of {self.suit}\"\n",
        "\n",
        "\n",
        "class Deck:\n",
        "    def __init__(self, num_decks=6):\n",
        "        self.suits = ['Hearts', 'Clubs', 'Spades', 'Diamonds']\n",
        "        self.ranks = [2, 3, 4, 5, 6, 7, 8, 9, 10, 'Jack', 'Queen', 'King', 'Ace']\n",
        "        self.num_decks = num_decks\n",
        "        self.cards = []\n",
        "        self.build_deck()\n",
        "        self.shuffle()\n",
        "        self.plastic_card_index = random.randint(0, len(self.cards) - 1)\n",
        "\n",
        "    def build_deck(self):\n",
        "        self.cards = [Card(suit, rank)\n",
        "                      for i in range(self.num_decks)\n",
        "                      for suit in self.suits\n",
        "                      for rank in self.ranks]\n",
        "\n",
        "    def shuffle(self):\n",
        "        random.shuffle(self.cards)\n",
        "\n",
        "    def draw_card(self):\n",
        "        if len(self.cards) == 0 or len(self.cards) <= self.plastic_card_index:\n",
        "            if not self.quiet:\n",
        "                print(\"🔄 Plastic card reached or deck empty – reshuffling deck.\")\n",
        "            self._build_deck()\n",
        "            self.shuffle()\n",
        "            self.plastic_card_index = random.randint(0, len(self.cards) - 1)\n",
        "\n",
        "        return self.cards.pop()\n",
        "\n",
        "\n",
        "deck = Deck()\n",
        "for i in range(5):\n",
        "    print(deck.draw_card())\n"
      ],
      "metadata": {
        "colab": {
          "base_uri": "https://localhost:8080/"
        },
        "id": "XVdk45ai9wMJ",
        "outputId": "c902f0c9-c31a-40e6-d23d-4c744b41e4c1"
      },
      "execution_count": 118,
      "outputs": [
        {
          "output_type": "stream",
          "name": "stdout",
          "text": [
            "8 of Spades\n",
            "9 of Clubs\n",
            "4 of Hearts\n",
            "King of Spades\n",
            "Jack of Spades\n"
          ]
        }
      ]
    },
    {
      "cell_type": "markdown",
      "metadata": {
        "id": "SRdqNBaj9uVZ"
      },
      "source": [
        "2. Now design your game on a UML diagram. You may want to create classes to represent, players, a hand, and/or the game. As you work through the lab, update your UML diagram. At the end of the lab, submit your diagram (as pdf file) along with your notebook."
      ]
    },
    {
      "cell_type": "markdown",
      "metadata": {
        "id": "HXlw44kx9uVZ"
      },
      "source": [
        "3. Begin with implementing the skeleton (ie define data members and methods/functions, but do not code the logic) of the classes in your UML diagram."
      ]
    },
    {
      "cell_type": "markdown",
      "metadata": {
        "id": "bW65pLJB9uVa"
      },
      "source": [
        "4. Complete the implementation by coding the logic of all functions. For now, just implement the dealer player and human player."
      ]
    },
    {
      "cell_type": "code",
      "source": [
        "class Card:\n",
        "    def __init__(self, suit, rank):\n",
        "        self.suit = suit\n",
        "        self.rank = rank\n",
        "\n",
        "    def value(self):\n",
        "        if self.rank in ['Jack', 'Queen', 'King']:\n",
        "            return 10\n",
        "        elif self.rank == 'Ace':\n",
        "            return 11\n",
        "        return self.rank\n",
        "\n",
        "    def __repr__(self):\n",
        "        return f\"{self.rank} of {self.suit}\"\n",
        "\n",
        "class Deck:\n",
        "    def __init__(self, num_decks=6, quiet = False):\n",
        "        self.suits = ['Hearts', 'Clubs', 'Spades', 'Diamonds']\n",
        "        self.ranks = [2, 3, 4, 5, 6, 7, 8, 9, 10, 'Jack', 'Queen', 'King', 'Ace']\n",
        "        self.num_decks = num_decks\n",
        "        self.quiet = quiet\n",
        "        self.cards = []\n",
        "        self.build_deck()\n",
        "        self.shuffle()\n",
        "        self.plastic_card_index = random.randint(0, len(self.cards) - 1)\n",
        "\n",
        "    def build_deck(self):\n",
        "        self.cards = [Card(suit, rank)\n",
        "                      for i in range(self.num_decks)\n",
        "                      for suit in self.suits\n",
        "                      for rank in self.ranks]\n",
        "\n",
        "    def shuffle(self):\n",
        "        random.shuffle(self.cards)\n",
        "\n",
        "    def draw_card(self):\n",
        "        if len(self.cards) == 0 or len(self.cards) <= self.plastic_card_index:\n",
        "            if not self.quiet:\n",
        "                print(\"Plastic card reached or deck empty – reshuffling deck.\")\n",
        "            self.build_deck()\n",
        "            self.shuffle()\n",
        "            self.plastic_card_index = random.randint(0, len(self.cards) - 1)\n",
        "\n",
        "        return self.cards.pop()\n",
        "\n",
        "class Hand:\n",
        "    def __init__(self):\n",
        "        self.cards = []\n",
        "\n",
        "    def add(self, card):\n",
        "        self.cards.append(card)\n",
        "\n",
        "    def value(self):\n",
        "        total = sum(card.value() for card in self.cards)\n",
        "        aces = sum(1 for card in self.cards if card.rank == 'Ace')\n",
        "        while total > 21 and aces:\n",
        "            total -= 10\n",
        "            aces -= 1\n",
        "        return total\n",
        "\n",
        "    def is_busted(self):\n",
        "        return self.value() > 21\n",
        "\n",
        "    def __repr__(self):\n",
        "        return ', '.join(str(card) for card in self.cards)\n",
        "\n",
        "\n",
        "#Question 4: Player and Human dealer\n",
        "class Player:\n",
        "    def __init__(self, name, chips=1000):\n",
        "        self.name = name\n",
        "        self.chips = chips\n",
        "        self.hand = Hand()\n",
        "\n",
        "    def play(self, deck):\n",
        "        while self.hand.value() < 17:\n",
        "            self.hand.add(deck.draw_card())\n",
        "\n",
        "class Dealer(Player):\n",
        "    def __init__(self):\n",
        "        super().__init__(\"Dealer\")\n",
        "\n",
        "    def play(self, deck):\n",
        "        while self.hand.value() < 17:\n",
        "            self.hand.add(deck.draw_card())\n",
        "\n",
        "class BlackJackGame:\n",
        "    def __init__(self, num_players, rounds):\n",
        "        self.deck = Deck()\n",
        "        self.dealer = Dealer()\n",
        "        self.players = [Player(f\"Player{i+1}\") for i in range(num_players)]\n",
        "        self.rounds = rounds\n",
        "\n",
        "    def play(self):\n",
        "        for r in range(1, self.rounds + 1):\n",
        "            print(f\"\\n--- Round {r} ---\")\n",
        "            self.play_round()\n",
        "\n",
        "    def play_round(self):\n",
        "        self.dealer.hand = Hand()\n",
        "        for player in self.players:\n",
        "            player.hand = Hand()\n",
        "\n",
        "        for i in range(2):\n",
        "            for player in self.players:\n",
        "                player.hand.add(self.deck.draw_card())\n",
        "            self.dealer.hand.add(self.deck.draw_card())\n",
        "            print(f\"Dealer shows: {self.dealer.hand.cards[0]}\")\n",
        "\n",
        "        for player in self.players:\n",
        "            player.play(self.deck)\n",
        "            print(f\"{player.name}: {player.hand} (Value: {player.hand.value()})\")\n",
        "\n",
        "        self.dealer.play(self.deck)\n",
        "        dealer_value = self.dealer.hand.value()\n",
        "        print(f\"Dealer: {self.dealer.hand} (Value: {dealer_value})\")\n",
        "\n",
        "        for player in self.players:\n",
        "            p_val = player.hand.value()\n",
        "            if player.hand.is_busted():\n",
        "                player.chips -= 10\n",
        "                print(f\"{player.name} busted. -10 chips\")\n",
        "            elif self.dealer.hand.is_busted() or p_val > dealer_value:\n",
        "                player.chips += 10\n",
        "                print(f\"{player.name} wins! +10 chips\")\n",
        "            elif p_val < dealer_value:\n",
        "                player.chips -= 10\n",
        "                print(f\"{player.name} loses. -10 chips\")\n",
        "            else:\n",
        "                print(f\"{player.name} pushes. No change.\")\n",
        "        for player in self.players:\n",
        "            print(f\"{player.name}: {player.chips} chips\")"
      ],
      "metadata": {
        "id": "bz9okbim-x_W"
      },
      "execution_count": 119,
      "outputs": []
    },
    {
      "cell_type": "markdown",
      "metadata": {
        "id": "KBh3KYov9uVa"
      },
      "source": [
        "5.  Test. Demonstrate game play. For example, create a game of several dealer players and show that the game is functional through several rounds."
      ]
    },
    {
      "cell_type": "code",
      "source": [
        "game = BlackJackGame(num_players=3, rounds=3)\n",
        "game.play()"
      ],
      "metadata": {
        "colab": {
          "base_uri": "https://localhost:8080/"
        },
        "id": "ehR7qvQ3AJSf",
        "outputId": "a7853bc9-721c-426e-b11a-0a39a6f7dbf5"
      },
      "execution_count": 120,
      "outputs": [
        {
          "output_type": "stream",
          "name": "stdout",
          "text": [
            "\n",
            "--- Round 1 ---\n",
            "Dealer shows: Ace of Clubs\n",
            "Dealer shows: Ace of Clubs\n",
            "Player1: 9 of Diamonds, 2 of Diamonds, Ace of Spades, 5 of Hearts (Value: 17)\n",
            "Player2: 7 of Clubs, 4 of Hearts, Jack of Clubs (Value: 21)\n",
            "Player3: 5 of Spades, 8 of Spades, King of Diamonds (Value: 23)\n",
            "Dealer: Ace of Clubs, 5 of Spades, Queen of Spades, 9 of Diamonds (Value: 25)\n",
            "Player1 wins! +10 chips\n",
            "Player2 wins! +10 chips\n",
            "Player3 busted. -10 chips\n",
            "Player1: 1010 chips\n",
            "Player2: 1010 chips\n",
            "Player3: 990 chips\n",
            "\n",
            "--- Round 2 ---\n",
            "Dealer shows: 8 of Diamonds\n",
            "Dealer shows: 8 of Diamonds\n",
            "Player1: 2 of Diamonds, 4 of Spades, 8 of Hearts, 3 of Diamonds (Value: 17)\n",
            "Player2: 3 of Spades, Ace of Diamonds, 3 of Clubs (Value: 17)\n",
            "Player3: 2 of Clubs, King of Clubs, 10 of Clubs (Value: 22)\n",
            "Dealer: 8 of Diamonds, 9 of Diamonds (Value: 17)\n",
            "Player1 pushes. No change.\n",
            "Player2 pushes. No change.\n",
            "Player3 busted. -10 chips\n",
            "Player1: 1010 chips\n",
            "Player2: 1010 chips\n",
            "Player3: 980 chips\n",
            "\n",
            "--- Round 3 ---\n",
            "Dealer shows: 2 of Hearts\n",
            "Dealer shows: 2 of Hearts\n",
            "Player1: 2 of Diamonds, 10 of Hearts, Jack of Clubs (Value: 22)\n",
            "Player2: Queen of Clubs, 4 of Diamonds, King of Diamonds (Value: 24)\n",
            "Player3: King of Hearts, Jack of Spades (Value: 20)\n",
            "Dealer: 2 of Hearts, 4 of Hearts, 3 of Spades, Ace of Clubs (Value: 20)\n",
            "Player1 busted. -10 chips\n",
            "Player2 busted. -10 chips\n",
            "Player3 pushes. No change.\n",
            "Player1: 1000 chips\n",
            "Player2: 1000 chips\n",
            "Player3: 980 chips\n"
          ]
        }
      ]
    },
    {
      "cell_type": "markdown",
      "metadata": {
        "id": "TVjgDLbE9uVb"
      },
      "source": [
        "6. Implement a new player with the following strategy:\n",
        "\n",
        "    * Assign each card a value:\n",
        "        * Cards 2 to 6 are +1\n",
        "        * Cards 7 to 9 are 0\n",
        "        * Cards 10 through Ace are -1\n",
        "    * Compute the sum of the values for all cards seen so far.\n",
        "    * Hit if sum is very negative, stay if sum is very positive. Select a threshold for hit/stay, e.g. 0 or -2.  "
      ]
    },
    {
      "cell_type": "code",
      "source": [
        "class NewPlayer(Player):\n",
        "    def __init__(self, name, threshold=0, chips=1000):\n",
        "        super().__init__(name, chips)\n",
        "        self.threshold = threshold\n",
        "        self.running_count = 0\n",
        "\n",
        "    def card_count_value(self, card):\n",
        "        if isinstance(card.rank, int) and 2 <= card.rank <= 6:\n",
        "            return +1\n",
        "        elif card.rank in ['10', 'Jack', 'Queen', 'King', 'Ace']:\n",
        "            return -1\n",
        "        return 0\n",
        "\n",
        "    def update_count(self, visible_cards):\n",
        "        for card in visible_cards:\n",
        "            self.running_count += self.card_count_value(card)\n",
        "\n",
        "    def play(self, deck, visible_cards):\n",
        "        self.update_count(visible_cards)\n",
        "        while self.hand.value() < 17 and self.running_count <= self.threshold:\n",
        "            self.hand.add(deck.draw_card())"
      ],
      "metadata": {
        "id": "cu6Mm4ZwAObs"
      },
      "execution_count": 121,
      "outputs": []
    },
    {
      "cell_type": "markdown",
      "metadata": {
        "id": "rAZ6YTGf9uVc"
      },
      "source": [
        "7. Create a test scenario where one player, using the above strategy, is playing with a dealer and 3 other players that follow the dealer's strategy. Each player starts with same number of chips. Play 50 rounds (or until the strategy player is out of money). Compute the strategy player's winnings. You may remove unnecessary printouts from your code (perhaps implement a verbose/quiet mode) to reduce the output."
      ]
    },
    {
      "cell_type": "code",
      "source": [
        "class NewTestGame:\n",
        "    def __init__(self, threshold=0, rounds=50, verbose=False):\n",
        "        self.deck = Deck(quiet = not verbose)\n",
        "        self.dealer = Dealer()\n",
        "        self.new_player = NewPlayer(\"CardCounter\", threshold)\n",
        "        self.other_players = [Player(f\"Player{i+1}\") for i in range(3)]\n",
        "        self.players = [self.new_player] + self.other_players\n",
        "        self.rounds = rounds\n",
        "        self.verbose = verbose\n",
        "\n",
        "    def play(self):\n",
        "        for r in range(1, self.rounds + 1):\n",
        "            if self.new_player.chips <= 0:\n",
        "                if self.verbose:\n",
        "                    print(\"CardCounter is out of chips. Ending game.\")\n",
        "                break\n",
        "            if self.verbose:\n",
        "                print(f\"\\n--- Round {r} ---\")\n",
        "            self.play_round()\n",
        "\n",
        "        return self.new_player.chips\n",
        "\n",
        "    def play_round(self):\n",
        "        self.dealer.hand = Hand()\n",
        "        for player in self.players:\n",
        "            player.hand = Hand()\n",
        "        for i in range(2):\n",
        "            for player in self.players:\n",
        "                player.hand.add(self.deck.draw_card())\n",
        "            self.dealer.hand.add(self.deck.draw_card())\n",
        "        visible_cards = [c for p in self.players for c in p.hand.cards] + [self.dealer.hand.cards[0]]\n",
        "        for player in self.players:\n",
        "            if isinstance(player, NewPlayer):\n",
        "                player.play(self.deck, visible_cards)\n",
        "            else:\n",
        "                player.play(self.deck)\n",
        "\n",
        "        self.dealer.play(self.deck)\n",
        "        dealer_value = self.dealer.hand.value()\n",
        "\n",
        "        for player in self.players:\n",
        "            value = player.hand.value()\n",
        "            if player.hand.is_busted():\n",
        "                player.chips -= 10\n",
        "            elif self.dealer.hand.is_busted() or value > dealer_value:\n",
        "                player.chips += 10\n",
        "            elif value < dealer_value:\n",
        "                player.chips -= 10\n",
        "\n",
        "\n",
        "# new test game\n",
        "test_game = NewTestGame(threshold=0, rounds=50, verbose=True)\n",
        "final_chips = test_game.play()\n",
        "print(f\"\\n Final chip count for CardCounter: {final_chips}\")\n"
      ],
      "metadata": {
        "colab": {
          "base_uri": "https://localhost:8080/"
        },
        "id": "e5lLC2SmAYUN",
        "outputId": "fd948966-d8fe-4b40-edf8-a60fc5349126"
      },
      "execution_count": 122,
      "outputs": [
        {
          "output_type": "stream",
          "name": "stdout",
          "text": [
            "\n",
            "--- Round 1 ---\n",
            "\n",
            "--- Round 2 ---\n",
            "\n",
            "--- Round 3 ---\n",
            "\n",
            "--- Round 4 ---\n",
            "\n",
            "--- Round 5 ---\n",
            "\n",
            "--- Round 6 ---\n",
            "\n",
            "--- Round 7 ---\n",
            "\n",
            "--- Round 8 ---\n",
            "\n",
            "--- Round 9 ---\n",
            "\n",
            "--- Round 10 ---\n",
            "\n",
            "--- Round 11 ---\n",
            "\n",
            "--- Round 12 ---\n",
            "\n",
            "--- Round 13 ---\n",
            "\n",
            "--- Round 14 ---\n",
            "Plastic card reached or deck empty – reshuffling deck.\n",
            "\n",
            "--- Round 15 ---\n",
            "\n",
            "--- Round 16 ---\n",
            "\n",
            "--- Round 17 ---\n",
            "\n",
            "--- Round 18 ---\n",
            "\n",
            "--- Round 19 ---\n",
            "\n",
            "--- Round 20 ---\n",
            "\n",
            "--- Round 21 ---\n",
            "\n",
            "--- Round 22 ---\n",
            "Plastic card reached or deck empty – reshuffling deck.\n",
            "\n",
            "--- Round 23 ---\n",
            "\n",
            "--- Round 24 ---\n",
            "\n",
            "--- Round 25 ---\n",
            "\n",
            "--- Round 26 ---\n",
            "\n",
            "--- Round 27 ---\n",
            "\n",
            "--- Round 28 ---\n",
            "\n",
            "--- Round 29 ---\n",
            "\n",
            "--- Round 30 ---\n",
            "\n",
            "--- Round 31 ---\n",
            "\n",
            "--- Round 32 ---\n",
            "\n",
            "--- Round 33 ---\n",
            "\n",
            "--- Round 34 ---\n",
            "\n",
            "--- Round 35 ---\n",
            "\n",
            "--- Round 36 ---\n",
            "\n",
            "--- Round 37 ---\n",
            "\n",
            "--- Round 38 ---\n",
            "\n",
            "--- Round 39 ---\n",
            "\n",
            "--- Round 40 ---\n",
            "\n",
            "--- Round 41 ---\n",
            "\n",
            "--- Round 42 ---\n",
            "\n",
            "--- Round 43 ---\n",
            "\n",
            "--- Round 44 ---\n",
            "Plastic card reached or deck empty – reshuffling deck.\n",
            "\n",
            "--- Round 45 ---\n",
            "\n",
            "--- Round 46 ---\n",
            "\n",
            "--- Round 47 ---\n",
            "Plastic card reached or deck empty – reshuffling deck.\n",
            "\n",
            "--- Round 48 ---\n",
            "\n",
            "--- Round 49 ---\n",
            "\n",
            "--- Round 50 ---\n",
            "\n",
            " Final chip count for CardCounter: 970\n"
          ]
        }
      ]
    },
    {
      "cell_type": "markdown",
      "metadata": {
        "id": "7_5Vc7_C9uVc"
      },
      "source": [
        "8. Create a loop that runs 100 games of 50 rounds, as setup in previous question, and store the strategy player's chips at the end of the game (aka \"winnings\") in a list. Histogram the winnings. What is the average winnings per round? What is the standard deviation. What is the probabilty of net winning or lossing after 50 rounds?\n"
      ]
    },
    {
      "cell_type": "code",
      "source": [
        "import matplotlib.pyplot as plt\n",
        "import numpy as np\n",
        "\n",
        "num_games = 100\n",
        "final_chips_list = []\n",
        "\n",
        "for i in range(num_games):\n",
        "    test_game = NewTestGame(threshold=0, rounds=50, verbose=False)\n",
        "    final_chips_list.append(test_game.play())\n",
        "\n",
        "plt.hist(final_chips_list, bins=10, edgecolor='black')\n",
        "plt.title(\"Strategy Player Winnings After 50 Rounds (100 Games)\")\n",
        "plt.xlabel(\"Final Chips\")\n",
        "plt.ylabel(\"Frequency\")\n",
        "plt.axvline(np.mean(final_chips_list), color='red', linestyle='--', label=f\"Average: {np.mean(final_chips_list):.2f}\")\n",
        "plt.legend()\n",
        "plt.grid(True)\n",
        "plt.show()\n",
        "\n",
        "print(f\"Average winnings per game: {np.mean(final_chips_list):.2f}\")\n",
        "print(f\"Standard deviation of winnings: {np.std(final_chips_list):.2f}\")\n",
        "print(f\"Probability of net winning after 50 rounds: {np.mean([1 if chips > 1000 else 0 for chips in final_chips_list]) :.2f}\")\n",
        "\n",
        "average_winnings_per_round = ((np.mean(final_chips_list)) - 1000) / 50\n",
        "print(f\"Average winnings per round: {average_winnings_per_round:.2f}\")"
      ],
      "metadata": {
        "colab": {
          "base_uri": "https://localhost:8080/",
          "height": 540
        },
        "id": "r9ThfL5JDbUX",
        "outputId": "8371996c-6508-4193-b2b5-ee81f75b3592"
      },
      "execution_count": 123,
      "outputs": [
        {
          "output_type": "display_data",
          "data": {
            "text/plain": [
              "<Figure size 640x480 with 1 Axes>"
            ],
            "image/png": "[encoded data removed]"
          },
          "metadata": {}
        },
        {
          "output_type": "stream",
          "name": "stdout",
          "text": [
            "Average winnings per game: 924.40\n",
            "Standard deviation of winnings: 71.73\n",
            "Probability of net winning after 50 rounds: 0.14\n",
            "Average winnings per round: -1.51\n"
          ]
        }
      ]
    },
    {
      "cell_type": "markdown",
      "metadata": {
        "id": "52brit-t9uVc"
      },
      "source": [
        "9. Repeat previous questions scanning the value of the threshold. Try at least 5 different threshold values. Can you find an optimal value?"
      ]
    },
    {
      "cell_type": "code",
      "source": [
        "def simulate_strategy_games(threshold=0, num_games=100, rounds_per_game=50):\n",
        "    final_chips = []\n",
        "    for _ in range(num_games):\n",
        "        game = NewTestGame(threshold=threshold, rounds=rounds_per_game)\n",
        "        final = game.play()\n",
        "        final_chips.append(final)\n",
        "    return final_chips\n",
        "\n",
        "threshold_values = [-4, -2, 0, 1, 2]\n",
        "results_summary = []\n",
        "\n",
        "for threshold in threshold_values:\n",
        "    chips = simulate_strategy_games(threshold=threshold)\n",
        "    avg = np.mean(chips)\n",
        "    std = np.std(chips)\n",
        "    win_rate = np.mean([1 if c > 1000 else 0 for c in chips])\n",
        "    results_summary.append((threshold, avg, std, win_rate))\n",
        "\n",
        "df = pd.DataFrame(results_summary, columns=[\"Threshold\", \"Average Chips\", \"Std Dev\", \"Win Probability\"])\n",
        "print(df)\n"
      ],
      "metadata": {
        "colab": {
          "base_uri": "https://localhost:8080/"
        },
        "id": "VvP1OyGjBvbL",
        "outputId": "9dd10502-5168-4048-b870-4d5beb6c468b"
      },
      "execution_count": 124,
      "outputs": [
        {
          "output_type": "stream",
          "name": "stdout",
          "text": [
            "   Threshold  Average Chips    Std Dev  Win Probability\n",
            "0         -4          917.7  63.084943             0.13\n",
            "1         -2          907.4  65.781760             0.09\n",
            "2          0          908.5  64.410791             0.09\n",
            "3          1          914.5  70.276241             0.09\n",
            "4          2          910.7  67.487110             0.08\n"
          ]
        }
      ]
    },
    {
      "cell_type": "markdown",
      "metadata": {
        "id": "PW7Nt6Hb9uVd"
      },
      "source": [
        "10. Create a new strategy based on web searches or your own ideas. Demonstrate that the new strategy will result in increased or decreased winnings."
      ]
    },
    {
      "cell_type": "code",
      "source": [
        "class VeteranPlayer(Player):\n",
        "    def __init__(self, name, chips=1000):\n",
        "        super().__init__(name, chips)\n",
        "        self.count = 0\n",
        "\n",
        "    def card_count_value(self, card):\n",
        "        if isinstance(card.rank, int) and 2 <= card.rank <= 6:\n",
        "            return +1\n",
        "        elif card.rank in ['10', 'Jack', 'Queen', 'King', 'Ace']:\n",
        "            return -1\n",
        "        return 0\n",
        "\n",
        "    def update_count(self, visible_cards):\n",
        "        self.count = sum(self.card_count_value(card) for card in visible_cards)\n",
        "\n",
        "    def play(self, deck, visible_cards):\n",
        "        self.update_count(visible_cards)\n",
        "\n",
        "        while True:\n",
        "            hand_val = self.hand.value()\n",
        "            if hand_val < 14:\n",
        "                self.hand.add(deck.draw_card())\n",
        "            elif 14 <= hand_val < 17:\n",
        "                if self.count < 0:\n",
        "                    self.hand.add(deck.draw_card())\n",
        "                else:\n",
        "                    break\n",
        "            else:\n",
        "                break"
      ],
      "metadata": {
        "id": "JlaiAyHoRKLZ"
      },
      "execution_count": 125,
      "outputs": []
    },
    {
      "cell_type": "code",
      "source": [
        "class VeteranTestGame:\n",
        "    def __init__(self, rounds=50):\n",
        "        self.deck = Deck(quiet=True)\n",
        "        self.dealer = Dealer()\n",
        "        self.veteran_player = VeteranPlayer(\"VeteranPlayer\")\n",
        "        self.other_players = [Player(f\"Player{i+1}\") for i in range(3)]\n",
        "        self.players = [self.veteran_player] + self.other_players\n",
        "        self.rounds = rounds\n",
        "\n",
        "    def play(self):\n",
        "        for _ in range(self.rounds):\n",
        "            if self.veteran_player.chips <= 0:\n",
        "                break\n",
        "            self.play_round()\n",
        "        return self.veteran_player.chips\n",
        "\n",
        "    def play_round(self):\n",
        "        self.dealer.hand = Hand()\n",
        "        for p in self.players:\n",
        "            p.hand = Hand()\n",
        "\n",
        "        for i in range(2):\n",
        "            for p in self.players:\n",
        "                p.hand.add(self.deck.draw_card())\n",
        "            self.dealer.hand.add(self.deck.draw_card())\n",
        "\n",
        "        visible = [c for p in self.players for c in p.hand.cards] + [self.dealer.hand.cards[0]]\n",
        "\n",
        "        for p in self.players:\n",
        "            if isinstance(p, VeteranPlayer):\n",
        "                p.play(self.deck, visible)\n",
        "            else:\n",
        "                p.play(self.deck)\n",
        "\n",
        "        self.dealer.play(self.deck)\n",
        "        d_val = self.dealer.hand.value()\n",
        "\n",
        "        for p in self.players:\n",
        "            val = p.hand.value()\n",
        "            if p.hand.is_busted():\n",
        "                p.chips -= 10\n",
        "            elif self.dealer.hand.is_busted() or val > d_val:\n",
        "                p.chips += 10\n",
        "            elif val < d_val:\n",
        "                p.chips -= 10\n"
      ],
      "metadata": {
        "id": "eyMY1SoXRN2e"
      },
      "execution_count": 126,
      "outputs": []
    },
    {
      "cell_type": "code",
      "source": [
        "counting_results = [NewTestGame(threshold=0).play() for i in range(100)]\n",
        "veteran_results = [VeteranTestGame().play() for i in range(100)]\n",
        "\n",
        "print(\"Counting Strategy Average:\", np.mean(counting_results))\n",
        "print(\"Veteran Strategy Average:\", np.mean(veteran_results))"
      ],
      "metadata": {
        "colab": {
          "base_uri": "https://localhost:8080/"
        },
        "id": "VN8HZPLTRStt",
        "outputId": "3c089daf-3b29-43c0-edba-dace4434fe83"
      },
      "execution_count": 127,
      "outputs": [
        {
          "output_type": "stream",
          "name": "stdout",
          "text": [
            "Counting Strategy Average: 907.8\n",
            "Veteran Strategy Average: 968.9\n"
          ]
        }
      ]
    },
    {
      "cell_type": "code",
      "source": [
        "counting_results = [NewTestGame(threshold=0).play() for i in range(100)]\n",
        "smart_results = [VeteranTestGame().play() for i in range(100)]\n",
        "\n",
        "counting_array = np.array(counting_results)\n",
        "smart_array = np.array(smart_results)\n",
        "\n",
        "bins = np.linspace(min(min(counting_array), min(smart_array)),\n",
        "                   max(max(counting_array), max(smart_array)), 10)\n",
        "\n",
        "plt.figure(figsize=(10, 6))\n",
        "\n",
        "plt.hist(counting_array, bins, alpha=0.6, label=' New Card Counter (Threshold=0)', edgecolor='black')\n",
        "plt.hist(smart_array, bins, alpha=0.6, label='Smart Veteran Strategy', edgecolor='black')\n",
        "\n",
        "plt.axvline(np.mean(counting_array), color='blue', linestyle='dashed', linewidth=1.5, label=f'Avg New Counter: {np.mean(counting_array):.1f}')\n",
        "plt.axvline(np.mean(smart_array), color='orange', linestyle='dashed', linewidth=1.5, label=f'Avg Smart Veteran: {np.mean(smart_array):.1f}')\n",
        "\n",
        "\n",
        "plt.title(\"Strategy Comparison After 50 Rounds (100 Simulations)\")\n",
        "plt.xlabel(\"Final Chips\")\n",
        "plt.ylabel(\"Frequency\")\n",
        "plt.legend()\n",
        "plt.grid(True)\n",
        "plt.show()\n"
      ],
      "metadata": {
        "colab": {
          "base_uri": "https://localhost:8080/",
          "height": 564
        },
        "id": "Oz7DK7LLRUeW",
        "outputId": "76d3c67e-850f-4c72-803e-6b188c014dc9"
      },
      "execution_count": 128,
      "outputs": [
        {
          "output_type": "display_data",
          "data": {
            "text/plain": [
              "<Figure size 1000x600 with 1 Axes>"
            ],
            "image/png": "[encoded data removed]"
          },
          "metadata": {}
        }
      ]
    },
    {
      "cell_type": "code",
      "source": [],
      "metadata": {
        "id": "S8GGxJBVSIf2"
      },
      "execution_count": 128,
      "outputs": []
    }
  ],
  "metadata": {
    "kernelspec": {
      "display_name": "Python 3 (ipykernel)",
      "language": "python",
      "name": "python3"
    },
    "language_info": {
      "codemirror_mode": {
        "name": "ipython",
        "version": 3
      },
      "file_extension": ".py",
      "mimetype": "text/x-python",
      "name": "python",
      "nbconvert_exporter": "python",
      "pygments_lexer": "ipython3",
      "version": "3.12.8"
    },
    "colab": {
      "provenance": []
    }
  },
  "nbformat": 4,
  "nbformat_minor": 0
}